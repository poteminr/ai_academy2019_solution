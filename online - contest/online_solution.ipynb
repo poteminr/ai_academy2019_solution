{
 "cells": [
  {
   "cell_type": "markdown",
   "metadata": {},
   "source": [
    "# Import"
   ]
  },
  {
   "cell_type": "code",
   "execution_count": 12,
   "metadata": {
    "collapsed": true,
    "scrolled": false
   },
   "outputs": [],
   "source": [
    "import numpy as np\n",
    "#%pylab inline\n",
    "import pandas as pd\n",
    "from xgboost import XGBClassifier\n",
    "from catboost import CatBoostClassifier \n",
    "import numpy as np\n",
    "import warnings\n",
    "from sklearn.model_selection import train_test_split\n",
    "from sklearn.metrics import mean_squared_error, mean_absolute_error, accuracy_score\n",
    "import catboost as cb\n",
    "from lightgbm import LGBMClassifier\n",
    "from sklearn.model_selection import cross_val_score\n",
    "import copy\n",
    "from sklearn.utils import shuffle\n",
    "import os\n",
    "import requests\n",
    "import json\n",
    "from tqdm import tqdm_notebook as tqdm\n",
    "warnings.filterwarnings('ignore')"
   ]
  },
  {
   "cell_type": "code",
   "execution_count": 13,
   "metadata": {},
   "outputs": [
    {
     "name": "stdout",
     "output_type": "stream",
     "text": [
      "The autoreload extension is already loaded. To reload it, use:\n",
      "  %reload_ext autoreload\n"
     ]
    }
   ],
   "source": [
    "%load_ext autoreload\n",
    "%autoreload 2"
   ]
  },
  {
   "cell_type": "markdown",
   "metadata": {},
   "source": [
    "## Import data "
   ]
  },
  {
   "cell_type": "code",
   "execution_count": 14,
   "metadata": {
    "collapsed": true
   },
   "outputs": [],
   "source": [
    "df_train = pd.read_csv('sberbank_data/data_2019/dota2_skill_train.csv')\n",
    "df_test = pd.read_csv('sberbank_data/data_2019/dota2_skill_test.csv')\n",
    "train_sib = pd.read_csv('sberbank_data/skill_train.csv')\n",
    "test_index = df_test['id']\n",
    "df_test = df_test.drop('id', axis=1)"
   ]
  },
  {
   "cell_type": "markdown",
   "metadata": {},
   "source": [
    "## Find data-leaks "
   ]
  },
  {
   "cell_type": "code",
   "execution_count": 15,
   "metadata": {
    "scrolled": false
   },
   "outputs": [
    {
     "data": {
      "text/html": [
       "<div>\n",
       "<style scoped>\n",
       "    .dataframe tbody tr th:only-of-type {\n",
       "        vertical-align: middle;\n",
       "    }\n",
       "\n",
       "    .dataframe tbody tr th {\n",
       "        vertical-align: top;\n",
       "    }\n",
       "\n",
       "    .dataframe thead th {\n",
       "        text-align: right;\n",
       "    }\n",
       "</style>\n",
       "<table border=\"1\" class=\"dataframe\">\n",
       "  <thead>\n",
       "    <tr style=\"text-align: right;\">\n",
       "      <th></th>\n",
       "      <th>id</th>\n",
       "      <th>skilled</th>\n",
       "      <th>player_team</th>\n",
       "      <th>winner_team</th>\n",
       "      <th>duration</th>\n",
       "      <th>pre_game_duration</th>\n",
       "      <th>first_blood_time</th>\n",
       "      <th>first_blood_claimed</th>\n",
       "      <th>hero_id</th>\n",
       "      <th>hero_pick_order</th>\n",
       "      <th>...</th>\n",
       "      <th>avg_deaths_x16</th>\n",
       "      <th>avg_assists_x16</th>\n",
       "      <th>avg_gpm_x16</th>\n",
       "      <th>avg_xpm_x16</th>\n",
       "      <th>best_kills_x16</th>\n",
       "      <th>best_assists_x16</th>\n",
       "      <th>best_gpm_x16</th>\n",
       "      <th>best_xpm_x16</th>\n",
       "      <th>win_streak</th>\n",
       "      <th>best_win_streak</th>\n",
       "    </tr>\n",
       "  </thead>\n",
       "  <tbody>\n",
       "  </tbody>\n",
       "</table>\n",
       "<p>0 rows × 58 columns</p>\n",
       "</div>"
      ],
      "text/plain": [
       "Empty DataFrame\n",
       "Columns: [id, skilled, player_team, winner_team, duration, pre_game_duration, first_blood_time, first_blood_claimed, hero_id, hero_pick_order, leaver_status, party_players, kills, deaths, assists, denies, level, net_worth, gold, gold_spent, last_hits, gold_per_min, xp_per_min, hero_damage, tower_damage, hero_healing, scaled_hero_damage, scaled_tower_damage, scaled_hero_healing, stuns, team_fight_participation, observer_wards_placed, sentry_wards_placed, creeps_stacked, camps_stacked, rune_pickups, tower_kills, roshan_kills, nearby_creep_death_count, radiant_tower_status, dire_tower_status, radiant_barracks_status, dire_barracks_status, fight_score, farm_score, support_score, push_score, avg_kills_x16, avg_deaths_x16, avg_assists_x16, avg_gpm_x16, avg_xpm_x16, best_kills_x16, best_assists_x16, best_gpm_x16, best_xpm_x16, win_streak, best_win_streak]\n",
       "Index: []\n",
       "\n",
       "[0 rows x 58 columns]"
      ]
     },
     "execution_count": 15,
     "metadata": {},
     "output_type": "execute_result"
    }
   ],
   "source": [
    "pd.merge(train_sib, df_test, on=[*df_test.columns], how='inner')"
   ]
  },
  {
   "cell_type": "markdown",
   "metadata": {},
   "source": [
    "## Concat sberbank and vsesib dataset "
   ]
  },
  {
   "cell_type": "code",
   "execution_count": 16,
   "metadata": {
    "collapsed": true
   },
   "outputs": [],
   "source": [
    "#df_train = pd.concat([df_train,train_sib])\n",
    "df_train = df_train.drop('id',axis=1)\n",
    "df_train = df_train.reset_index(drop=True)\n",
    "\n",
    "#train_sib = train_sib.drop('id',axis=1)\n",
    "#train_sib = train_sib.reset_index(drop=True)"
   ]
  },
  {
   "cell_type": "code",
   "execution_count": 17,
   "metadata": {},
   "outputs": [
    {
     "data": {
      "text/plain": [
       "(99871, 57)"
      ]
     },
     "execution_count": 17,
     "metadata": {},
     "output_type": "execute_result"
    }
   ],
   "source": [
    "df_train.shape"
   ]
  },
  {
   "cell_type": "markdown",
   "metadata": {},
   "source": [
    "## Overview"
   ]
  },
  {
   "cell_type": "code",
   "execution_count": 18,
   "metadata": {
    "scrolled": true
   },
   "outputs": [
    {
     "data": {
      "text/html": [
       "<div>\n",
       "<style scoped>\n",
       "    .dataframe tbody tr th:only-of-type {\n",
       "        vertical-align: middle;\n",
       "    }\n",
       "\n",
       "    .dataframe tbody tr th {\n",
       "        vertical-align: top;\n",
       "    }\n",
       "\n",
       "    .dataframe thead th {\n",
       "        text-align: right;\n",
       "    }\n",
       "</style>\n",
       "<table border=\"1\" class=\"dataframe\">\n",
       "  <thead>\n",
       "    <tr style=\"text-align: right;\">\n",
       "      <th></th>\n",
       "      <th>skilled</th>\n",
       "      <th>player_team</th>\n",
       "      <th>winner_team</th>\n",
       "      <th>duration</th>\n",
       "      <th>pre_game_duration</th>\n",
       "      <th>first_blood_time</th>\n",
       "      <th>first_blood_claimed</th>\n",
       "      <th>hero_id</th>\n",
       "      <th>hero_pick_order</th>\n",
       "      <th>leaver_status</th>\n",
       "      <th>...</th>\n",
       "      <th>avg_deaths_x16</th>\n",
       "      <th>avg_assists_x16</th>\n",
       "      <th>avg_gpm_x16</th>\n",
       "      <th>avg_xpm_x16</th>\n",
       "      <th>best_kills_x16</th>\n",
       "      <th>best_assists_x16</th>\n",
       "      <th>best_gpm_x16</th>\n",
       "      <th>best_xpm_x16</th>\n",
       "      <th>win_streak</th>\n",
       "      <th>best_win_streak</th>\n",
       "    </tr>\n",
       "  </thead>\n",
       "  <tbody>\n",
       "    <tr>\n",
       "      <th>0</th>\n",
       "      <td>1</td>\n",
       "      <td>dire</td>\n",
       "      <td>dire</td>\n",
       "      <td>2140</td>\n",
       "      <td>90</td>\n",
       "      <td>129</td>\n",
       "      <td>0</td>\n",
       "      <td>90</td>\n",
       "      <td>9</td>\n",
       "      <td>0</td>\n",
       "      <td>...</td>\n",
       "      <td>8</td>\n",
       "      <td>15</td>\n",
       "      <td>352</td>\n",
       "      <td>430</td>\n",
       "      <td>10</td>\n",
       "      <td>30</td>\n",
       "      <td>551</td>\n",
       "      <td>745</td>\n",
       "      <td>2</td>\n",
       "      <td>5</td>\n",
       "    </tr>\n",
       "    <tr>\n",
       "      <th>1</th>\n",
       "      <td>0</td>\n",
       "      <td>radiant</td>\n",
       "      <td>radiant</td>\n",
       "      <td>2138</td>\n",
       "      <td>90</td>\n",
       "      <td>174</td>\n",
       "      <td>0</td>\n",
       "      <td>5</td>\n",
       "      <td>5</td>\n",
       "      <td>0</td>\n",
       "      <td>...</td>\n",
       "      <td>9</td>\n",
       "      <td>19</td>\n",
       "      <td>294</td>\n",
       "      <td>425</td>\n",
       "      <td>13</td>\n",
       "      <td>37</td>\n",
       "      <td>445</td>\n",
       "      <td>717</td>\n",
       "      <td>2</td>\n",
       "      <td>12</td>\n",
       "    </tr>\n",
       "  </tbody>\n",
       "</table>\n",
       "<p>2 rows × 57 columns</p>\n",
       "</div>"
      ],
      "text/plain": [
       "   skilled player_team winner_team  duration  pre_game_duration  \\\n",
       "0        1        dire        dire      2140                 90   \n",
       "1        0     radiant     radiant      2138                 90   \n",
       "\n",
       "   first_blood_time  first_blood_claimed  hero_id  hero_pick_order  \\\n",
       "0               129                    0       90                9   \n",
       "1               174                    0        5                5   \n",
       "\n",
       "   leaver_status  ...  avg_deaths_x16  avg_assists_x16  avg_gpm_x16  \\\n",
       "0              0  ...               8               15          352   \n",
       "1              0  ...               9               19          294   \n",
       "\n",
       "   avg_xpm_x16  best_kills_x16  best_assists_x16  best_gpm_x16  best_xpm_x16  \\\n",
       "0          430              10                30           551           745   \n",
       "1          425              13                37           445           717   \n",
       "\n",
       "   win_streak  best_win_streak  \n",
       "0           2                5  \n",
       "1           2               12  \n",
       "\n",
       "[2 rows x 57 columns]"
      ]
     },
     "execution_count": 18,
     "metadata": {},
     "output_type": "execute_result"
    }
   ],
   "source": [
    "df_train.head(2)"
   ]
  },
  {
   "cell_type": "markdown",
   "metadata": {},
   "source": [
    "## Data from JSON "
   ]
  },
  {
   "cell_type": "code",
   "execution_count": 19,
   "metadata": {
    "collapsed": true
   },
   "outputs": [],
   "source": [
    "#JSON path\n",
    "path_vsesib = 'sberbank_data/skill_train.jsonlines'\n",
    "path_2019 = 'sberbank_data/data_2019/dota2_skill_train.jsonlines'\n",
    "path_test = 'sberbank_data/data_2019/dota2_skill_test.jsonlines'"
   ]
  },
  {
   "cell_type": "code",
   "execution_count": 20,
   "metadata": {
    "collapsed": true
   },
   "outputs": [],
   "source": [
    "train_paths = [path_2019]"
   ]
  },
  {
   "cell_type": "markdown",
   "metadata": {},
   "source": [
    "## Train data "
   ]
  },
  {
   "cell_type": "code",
   "execution_count": 21,
   "metadata": {
    "collapsed": true
   },
   "outputs": [],
   "source": [
    "from source.functions_v2 import *"
   ]
  },
  {
   "cell_type": "code",
   "execution_count": 22,
   "metadata": {},
   "outputs": [
    {
     "data": {
      "application/vnd.jupyter.widget-view+json": {
       "model_id": "30ed14cfa0bc4727b9f96e69da73ea79",
       "version_major": 2,
       "version_minor": 0
      },
      "text/plain": [
       "A Jupyter Widget"
      ]
     },
     "metadata": {},
     "output_type": "display_data"
    },
    {
     "name": "stdout",
     "output_type": "stream",
     "text": [
      "\n"
     ]
    }
   ],
   "source": [
    "buff = []\n",
    "ids = []\n",
    "\n",
    "data_gold = []\n",
    "data_items = []\n",
    "data_damage = []\n",
    "data_abilities = []\n",
    "data_lvls = []\n",
    "batch_size = 5000\n",
    "for path in train_paths:\n",
    "    with open(path) as inp:\n",
    "        for i, line in tqdm(enumerate(inp)):\n",
    "            record = json.loads(line)\n",
    "            buff.append(record)\n",
    "            ids.append(record['id'])\n",
    "\n",
    "            if (i + 1) % batch_size == 0:\n",
    "                # extract features\n",
    "                data_gold.append(get_gold_features(buff))\n",
    "                data_items.append(get_items_features(buff))\n",
    "                data_abilities.append(get_abilities(buff))\n",
    "                data_damage.append(get_damage_features(buff))\n",
    "                data_lvls.append(get_lvl_times(buff))\n",
    "                # free buff\n",
    "                buff = []\n",
    "\n",
    "        # process last batch\n",
    "        data_gold.append(get_gold_features(buff))\n",
    "        data_items.append(get_items_features(buff))\n",
    "        data_abilities.append(get_abilities(buff))\n",
    "        data_damage.append(get_damage_features(buff))\n",
    "        data_lvls.append(get_lvl_times(buff))\n",
    "\n",
    "        # free buff\n",
    "        buff = []"
   ]
  },
  {
   "cell_type": "code",
   "execution_count": 23,
   "metadata": {
    "collapsed": true
   },
   "outputs": [],
   "source": [
    "gold = np.concatenate(data_gold)\n",
    "items = np.concatenate(data_items)\n",
    "damage = np.concatenate(data_damage)\n",
    "abilities = np.concatenate(data_abilities)\n",
    "levels = np.concatenate(data_lvls)"
   ]
  },
  {
   "cell_type": "code",
   "execution_count": 24,
   "metadata": {
    "collapsed": true
   },
   "outputs": [],
   "source": [
    "extra_data = np.concatenate([gold,items,damage,abilities,levels],axis=1)"
   ]
  },
  {
   "cell_type": "code",
   "execution_count": 25,
   "metadata": {
    "collapsed": true
   },
   "outputs": [],
   "source": [
    "extra_data_df = pd.DataFrame(data=extra_data,columns=columns_gold+columns_items+columns_damage+columns_abililies+columns_lvl)"
   ]
  },
  {
   "cell_type": "code",
   "execution_count": 26,
   "metadata": {
    "collapsed": true
   },
   "outputs": [],
   "source": [
    "full_df = pd.concat([df_train, extra_data_df],axis=1)"
   ]
  },
  {
   "cell_type": "code",
   "execution_count": 27,
   "metadata": {},
   "outputs": [
    {
     "data": {
      "text/plain": [
       "(99871, 650)"
      ]
     },
     "execution_count": 27,
     "metadata": {},
     "output_type": "execute_result"
    }
   ],
   "source": [
    "full_df.shape"
   ]
  },
  {
   "cell_type": "markdown",
   "metadata": {},
   "source": [
    "## Test data"
   ]
  },
  {
   "cell_type": "code",
   "execution_count": 28,
   "metadata": {
    "collapsed": true
   },
   "outputs": [],
   "source": [
    "test_path = 'sberbank_data/data_2019/dota2_skill_test.jsonlines'"
   ]
  },
  {
   "cell_type": "code",
   "execution_count": 29,
   "metadata": {},
   "outputs": [
    {
     "data": {
      "application/vnd.jupyter.widget-view+json": {
       "model_id": "0de058e5390f4c30ba0c53aa0667bd61",
       "version_major": 2,
       "version_minor": 0
      },
      "text/plain": [
       "A Jupyter Widget"
      ]
     },
     "metadata": {},
     "output_type": "display_data"
    },
    {
     "name": "stdout",
     "output_type": "stream",
     "text": [
      "\n"
     ]
    }
   ],
   "source": [
    "test_buff = []\n",
    "test_ids = []\n",
    "\n",
    "test_data_gold = []\n",
    "test_data_items = []\n",
    "test_data_damage = []\n",
    "test_data_abilities = []\n",
    "test_data_lvls = []\n",
    "batch_size = 5000\n",
    "\n",
    "with open(test_path) as inp:\n",
    "    for i, line in tqdm(enumerate(inp)):\n",
    "        record = json.loads(line)\n",
    "        test_buff.append(record)\n",
    "        test_ids.append(record['id'])\n",
    "        \n",
    "        if (i + 1) % batch_size == 0:\n",
    "            # extract features\n",
    "            test_data_gold.append(get_gold_features(test_buff))\n",
    "            test_data_items.append(get_items_features(test_buff))\n",
    "            test_data_abilities.append(get_abilities(test_buff))\n",
    "            test_data_damage.append(get_damage_features(test_buff))\n",
    "            \n",
    "            test_data_lvls.append(get_lvl_times(test_buff))\n",
    "            # free buff\n",
    "            test_buff = []\n",
    "    \n",
    "    # process last batch\n",
    "    test_data_gold.append(get_gold_features(test_buff))\n",
    "    test_data_items.append(get_items_features(test_buff))\n",
    "    test_data_abilities.append(get_abilities(test_buff))\n",
    "    test_data_damage.append(get_damage_features(test_buff))\n",
    "    \n",
    "    test_data_lvls.append(get_lvl_times(test_buff))\n",
    "\n",
    "    # free buff\n",
    "    test_buff = []"
   ]
  },
  {
   "cell_type": "code",
   "execution_count": 30,
   "metadata": {
    "collapsed": true
   },
   "outputs": [],
   "source": [
    "test_gold = np.concatenate(test_data_gold)\n",
    "test_items = np.concatenate(test_data_items)\n",
    "test_damage = np.concatenate(test_data_damage)\n",
    "test_abilities = np.concatenate(test_data_abilities)\n",
    "test_levels = np.concatenate(test_data_lvls)"
   ]
  },
  {
   "cell_type": "code",
   "execution_count": 31,
   "metadata": {
    "collapsed": true
   },
   "outputs": [],
   "source": [
    "test_extra_data = np.concatenate([test_gold,test_items,test_damage,test_abilities,test_levels],axis=1)"
   ]
  },
  {
   "cell_type": "code",
   "execution_count": 32,
   "metadata": {
    "collapsed": true
   },
   "outputs": [],
   "source": [
    "extra_test_df = pd.DataFrame(data=test_extra_data,columns=columns_gold+columns_items+columns_damage+columns_abililies+columns_lvl)"
   ]
  },
  {
   "cell_type": "code",
   "execution_count": 33,
   "metadata": {
    "collapsed": true
   },
   "outputs": [],
   "source": [
    "full_test = pd.concat([df_test, extra_test_df],axis=1)"
   ]
  },
  {
   "cell_type": "code",
   "execution_count": 34,
   "metadata": {},
   "outputs": [
    {
     "data": {
      "text/plain": [
       "((43265, 649), (99871, 650))"
      ]
     },
     "execution_count": 34,
     "metadata": {},
     "output_type": "execute_result"
    }
   ],
   "source": [
    "full_test.shape, full_df.shape"
   ]
  },
  {
   "cell_type": "code",
   "execution_count": 35,
   "metadata": {},
   "outputs": [
    {
     "data": {
      "text/plain": [
       "(99871, 768)"
      ]
     },
     "execution_count": 35,
     "metadata": {},
     "output_type": "execute_result"
    }
   ],
   "source": [
    "# get dummies on 'hero_id', 'player_team' and 'winner_team'\n",
    "hero_dummies = pd.get_dummies(full_df['hero_id'], prefix='hero_id')\n",
    "player_team = pd.get_dummies(full_df['player_team'], prefix='player_team')\n",
    "winner_team = pd.get_dummies(full_df['winner_team'], prefix='winner_team')\n",
    "\n",
    "# drop colums\n",
    "full_df.drop(['hero_id'], inplace=True, axis=1)\n",
    "full_df.drop(['player_team'], inplace=True, axis=1)\n",
    "full_df.drop(['winner_team'], inplace=True, axis=1)\n",
    "\n",
    "# concatenate them to dataframe\n",
    "full_df = pd.concat([full_df, player_team, winner_team, hero_dummies], axis=1)\n",
    "full_df = full_df.drop('winner_team_other', axis = 1)\n",
    "full_df.shape"
   ]
  },
  {
   "cell_type": "code",
   "execution_count": 36,
   "metadata": {
    "collapsed": true
   },
   "outputs": [],
   "source": [
    "# get dummies on 'hero_id', 'player_team' and 'winner_team'\n",
    "hero_dummies = pd.get_dummies(full_test['hero_id'], prefix='hero_id')\n",
    "player_team = pd.get_dummies(full_test['player_team'], prefix='player_team')\n",
    "winner_team = pd.get_dummies(full_test['winner_team'], prefix='winner_team')\n",
    "\n",
    "# drop colums\n",
    "full_test.drop(['hero_id'], inplace=True, axis=1)\n",
    "full_test.drop(['player_team'], inplace=True, axis=1)\n",
    "\n",
    "full_test.drop(['winner_team'], inplace=True, axis=1)\n",
    "\n",
    "# concatenate them to dataframe\n",
    "full_test = pd.concat([full_test, player_team, winner_team, hero_dummies], axis=1)\n"
   ]
  },
  {
   "cell_type": "code",
   "execution_count": 37,
   "metadata": {
    "scrolled": true
   },
   "outputs": [
    {
     "data": {
      "text/plain": [
       "((43265, 767), (99871, 768))"
      ]
     },
     "execution_count": 37,
     "metadata": {},
     "output_type": "execute_result"
    }
   ],
   "source": [
    "full_test.shape, full_df.shape"
   ]
  },
  {
   "cell_type": "markdown",
   "metadata": {},
   "source": [
    "## x_train and y_train"
   ]
  },
  {
   "cell_type": "code",
   "execution_count": 38,
   "metadata": {
    "collapsed": true
   },
   "outputs": [],
   "source": [
    "train = full_df.drop('skilled',axis=1)\n",
    "y_train = full_df['skilled']\n",
    "\n",
    "train = train.reset_index(drop=True)\n",
    "y_train = y_train.reset_index(drop=True)"
   ]
  },
  {
   "cell_type": "code",
   "execution_count": 39,
   "metadata": {},
   "outputs": [
    {
     "data": {
      "text/plain": [
       "(99871, 767)"
      ]
     },
     "execution_count": 39,
     "metadata": {},
     "output_type": "execute_result"
    }
   ],
   "source": [
    "train.shape"
   ]
  },
  {
   "cell_type": "markdown",
   "metadata": {},
   "source": [
    "## Xgboost param "
   ]
  },
  {
   "cell_type": "code",
   "execution_count": 29,
   "metadata": {
    "collapsed": true
   },
   "outputs": [],
   "source": [
    "from hyperopt import hp, tpe\n",
    "from hyperopt.fmin import fmin"
   ]
  },
  {
   "cell_type": "code",
   "execution_count": 42,
   "metadata": {
    "collapsed": true
   },
   "outputs": [
    {
     "name": "stdout",
     "output_type": "stream",
     "text": [
      "0.7661291403600488 {'booster': 'gbtree', 'colsample_bytree': 0.75, 'eta': 0.35000000000000003, 'eval_metric': 'auc', 'gamma': 0.75, 'max_depth': 16, 'min_child_weight': 2.0, 'n_estimators': 572, 'nthread': 8, 'objective': 'binary:logistic', 'silent': 1, 'subsample': 0.7000000000000001, 'tree_method': 'exact'}\n",
      "0.7709481106151391 {'booster': 'gbtree', 'colsample_bytree': 0.55, 'eta': 0.5, 'eval_metric': 'auc', 'gamma': 0.9500000000000001, 'max_depth': 8, 'min_child_weight': 4.0, 'n_estimators': 402, 'nthread': 8, 'objective': 'binary:logistic', 'silent': 1, 'subsample': 0.8, 'tree_method': 'exact'}\n",
      "0.7721813380517687 {'booster': 'gbtree', 'colsample_bytree': 0.9500000000000001, 'eta': 0.125, 'eval_metric': 'auc', 'gamma': 0.8500000000000001, 'max_depth': 9, 'min_child_weight': 5.0, 'n_estimators': 590, 'nthread': 8, 'objective': 'binary:logistic', 'silent': 1, 'subsample': 0.8500000000000001, 'tree_method': 'exact'}\n",
      "0.7071688047077117 {'booster': 'gbtree', 'colsample_bytree': 0.9, 'eta': 0.275, 'eval_metric': 'auc', 'gamma': 0.55, 'max_depth': 1, 'min_child_weight': 1.0, 'n_estimators': 687, 'nthread': 8, 'objective': 'binary:logistic', 'silent': 1, 'subsample': 0.5, 'tree_method': 'exact'}\n",
      "0.7696746692403588 {'booster': 'gbtree', 'colsample_bytree': 0.9500000000000001, 'eta': 0.125, 'eval_metric': 'auc', 'gamma': 0.75, 'max_depth': 10, 'min_child_weight': 1.0, 'n_estimators': 634, 'nthread': 8, 'objective': 'binary:logistic', 'silent': 1, 'subsample': 0.8, 'tree_method': 'exact'}\n",
      "0.7689843299687672 {'booster': 'gbtree', 'colsample_bytree': 0.8500000000000001, 'eta': 0.2, 'eval_metric': 'auc', 'gamma': 0.9500000000000001, 'max_depth': 12, 'min_child_weight': 4.0, 'n_estimators': 1137, 'nthread': 8, 'objective': 'binary:logistic', 'silent': 1, 'subsample': 0.65, 'tree_method': 'exact'}\n",
      "0.7578517714239755 {'booster': 'gbtree', 'colsample_bytree': 0.5, 'eta': 0.025, 'eval_metric': 'auc', 'gamma': 0.8, 'max_depth': 9, 'min_child_weight': 5.0, 'n_estimators': 109, 'nthread': 8, 'objective': 'binary:logistic', 'silent': 1, 'subsample': 0.8, 'tree_method': 'exact'}\n",
      "0.7684548464497795 {'booster': 'gbtree', 'colsample_bytree': 0.8500000000000001, 'eta': 0.05, 'eval_metric': 'auc', 'gamma': 0.7000000000000001, 'max_depth': 15, 'min_child_weight': 6.0, 'n_estimators': 554, 'nthread': 8, 'objective': 'binary:logistic', 'silent': 1, 'subsample': 0.8500000000000001, 'tree_method': 'exact'}\n",
      "0.754152089114087 {'booster': 'gbtree', 'colsample_bytree': 0.9, 'eta': 0.17500000000000002, 'eval_metric': 'auc', 'gamma': 0.65, 'max_depth': 4, 'min_child_weight': 5.0, 'n_estimators': 287, 'nthread': 8, 'objective': 'binary:logistic', 'silent': 1, 'subsample': 0.8, 'tree_method': 'exact'}\n",
      "0.7657806195627405 {'booster': 'gbtree', 'colsample_bytree': 0.8, 'eta': 0.5, 'eval_metric': 'auc', 'gamma': 0.8, 'max_depth': 11, 'min_child_weight': 5.0, 'n_estimators': 212, 'nthread': 8, 'objective': 'binary:logistic', 'silent': 1, 'subsample': 0.7000000000000001, 'tree_method': 'exact'}\n",
      "best:\n",
      "{'colsample_bytree': 0.9500000000000001, 'eta': 0.125, 'gamma': 0.8500000000000001, 'max_depth': 8, 'min_child_weight': 5.0, 'n_estimators': 490, 'subsample': 0.8500000000000001}\n"
     ]
    }
   ],
   "source": [
    "def hyperopt_xgb_score(params):\n",
    "    clf = XGBClassifier(**params)\n",
    "    # усреднение по 3ем фолдам, для уменьшения влияния стахостичности\n",
    "    # для ускорения можно использовать train_test_split один раз\n",
    "    current_score = cross_val_score(clf, train.drop(to_drop, axis=1), y_train, cv=3).mean()\n",
    "    print(current_score, params)\n",
    "    return -current_score\n",
    "\n",
    "space_xgb2 = {\n",
    "            'n_estimators': hp.choice('n_estimators', range(100, 1200)),\n",
    "            'eta': hp.quniform('eta', 0.025, 0.5, 0.025),\n",
    "            'max_depth':  hp.choice('max_depth', np.arange(1, 18, dtype=int)),\n",
    "            'min_child_weight': hp.quniform('min_child_weight', 1, 6, 1),\n",
    "            'subsample': hp.quniform('subsample', 0.5, 1, 0.05),\n",
    "            'gamma': hp.quniform('gamma', 0.5, 1, 0.05),\n",
    "            'colsample_bytree': hp.quniform('colsample_bytree', 0.5, 1, 0.05),\n",
    "            'eval_metric': 'auc',\n",
    "            'objective': 'binary:logistic',\n",
    "            # Increase this number if you have more cores. Otherwise, remove it and it will default\n",
    "            # to the maxium number.\n",
    "            'nthread': 8,\n",
    "            'booster': 'gbtree',\n",
    "            'tree_method': 'exact',\n",
    "            'silent': 1\n",
    "        }\n",
    "best = fmin(fn=hyperopt_xgb_score, space=space_xgb2, algo=tpe.suggest, max_evals=10)\n",
    "print('best:')\n",
    "print(best)"
   ]
  },
  {
   "cell_type": "code",
   "execution_count": 40,
   "metadata": {
    "collapsed": true
   },
   "outputs": [],
   "source": [
    "best = {'colsample_bytree': 0.9500000000000001,\n",
    " 'eta': 0.125,\n",
    " 'gamma': 0.8500000000000001,\n",
    " 'max_depth': 13,\n",
    " 'min_child_weight': 5.0,\n",
    " 'n_estimators': 3000,\n",
    " 'subsample': 0.8500000000000001}"
   ]
  },
  {
   "cell_type": "markdown",
   "metadata": {},
   "source": [
    "## LGB params "
   ]
  },
  {
   "cell_type": "code",
   "execution_count": 31,
   "metadata": {
    "collapsed": true
   },
   "outputs": [],
   "source": [
    "from paramsearch import paramsearch\n",
    "from sortedcontainers import SortedList\n",
    "import copy\n",
    "import collections\n",
    "from itertools import product,chain\n",
    "from sklearn.model_selection import KFold\n",
    "import lightgbm as lgb"
   ]
  },
  {
   "cell_type": "code",
   "execution_count": 32,
   "metadata": {
    "collapsed": true
   },
   "outputs": [
    {
     "name": "stdout",
     "output_type": "stream",
     "text": [
      "0.7044208522673959 {'boosting_type': 'gbdt', 'colsample_bytree': 0.65, 'learning_rate': 0.03, 'num_iterations': 250, 'max_bin': 512, 'max_depth': 3, 'metric': 'binary_error', 'min_child_samples': 5, 'min_child_weight': 1, 'min_split_gain': 0.5, 'n_estimators': 10, 'nthread': 5, 'num_class': 1, 'num_leaves': 6, 'objective': 'binary', 'random_state': 228, 'reg_alpha': 1, 'reg_lambda': 1, 'scale_pos_weight': 1, 'subsample': 0.7, 'subsample_for_bin': 200, 'subsample_freq': 1} best: 0.7044208523206239 {'boosting_type': 'gbdt', 'colsample_bytree': 0.65, 'learning_rate': 0.03, 'num_iterations': 250, 'max_bin': 512, 'max_depth': 3, 'metric': 'binary_error', 'min_child_samples': 5, 'min_child_weight': 1, 'min_split_gain': 0.5, 'n_estimators': 10, 'nthread': 5, 'num_class': 1, 'num_leaves': 6, 'objective': 'binary', 'random_state': 228, 'reg_alpha': 1, 'reg_lambda': 1, 'scale_pos_weight': 1, 'subsample': 0.7, 'subsample_for_bin': 200, 'subsample_freq': 1}\n",
      "0.7045683033739495 {'boosting_type': 'gbdt', 'colsample_bytree': 0.66, 'learning_rate': 0.03, 'num_iterations': 250, 'max_bin': 512, 'max_depth': 3, 'metric': 'binary_error', 'min_child_samples': 5, 'min_child_weight': 1, 'min_split_gain': 0.5, 'n_estimators': 10, 'nthread': 5, 'num_class': 1, 'num_leaves': 6, 'objective': 'binary', 'random_state': 228, 'reg_alpha': 1, 'reg_lambda': 1, 'scale_pos_weight': 1, 'subsample': 0.7, 'subsample_for_bin': 200, 'subsample_freq': 1} best: 0.7045683033844781 {'boosting_type': 'gbdt', 'colsample_bytree': 0.66, 'learning_rate': 0.03, 'num_iterations': 250, 'max_bin': 512, 'max_depth': 3, 'metric': 'binary_error', 'min_child_samples': 5, 'min_child_weight': 1, 'min_split_gain': 0.5, 'n_estimators': 10, 'nthread': 5, 'num_class': 1, 'num_leaves': 6, 'objective': 'binary', 'random_state': 228, 'reg_alpha': 1, 'reg_lambda': 1, 'scale_pos_weight': 1, 'subsample': 0.7, 'subsample_for_bin': 200, 'subsample_freq': 1}\n",
      "0.6780204018712886 {'boosting_type': 'gbdt', 'colsample_bytree': 0.66, 'learning_rate': 0.03, 'num_iterations': 100, 'max_bin': 512, 'max_depth': 3, 'metric': 'binary_error', 'min_child_samples': 5, 'min_child_weight': 1, 'min_split_gain': 0.5, 'n_estimators': 10, 'nthread': 5, 'num_class': 1, 'num_leaves': 6, 'objective': 'binary', 'random_state': 228, 'reg_alpha': 1, 'reg_lambda': 1, 'scale_pos_weight': 1, 'subsample': 0.7, 'subsample_for_bin': 200, 'subsample_freq': 1} best: 0.7045683033844781 {'boosting_type': 'gbdt', 'colsample_bytree': 0.66, 'learning_rate': 0.03, 'num_iterations': 250, 'max_bin': 512, 'max_depth': 3, 'metric': 'binary_error', 'min_child_samples': 5, 'min_child_weight': 1, 'min_split_gain': 0.5, 'n_estimators': 10, 'nthread': 5, 'num_class': 1, 'num_leaves': 6, 'objective': 'binary', 'random_state': 228, 'reg_alpha': 1, 'reg_lambda': 1, 'scale_pos_weight': 1, 'subsample': 0.7, 'subsample_for_bin': 200, 'subsample_freq': 1}\n",
      "0.7245948445731291 {'boosting_type': 'gbdt', 'colsample_bytree': 0.66, 'learning_rate': 0.03, 'num_iterations': 500, 'max_bin': 512, 'max_depth': 3, 'metric': 'binary_error', 'min_child_samples': 5, 'min_child_weight': 1, 'min_split_gain': 0.5, 'n_estimators': 10, 'nthread': 5, 'num_class': 1, 'num_leaves': 6, 'objective': 'binary', 'random_state': 228, 'reg_alpha': 1, 'reg_lambda': 1, 'scale_pos_weight': 1, 'subsample': 0.7, 'subsample_for_bin': 200, 'subsample_freq': 1} best: 0.7245948445059751 {'boosting_type': 'gbdt', 'colsample_bytree': 0.66, 'learning_rate': 0.03, 'num_iterations': 500, 'max_bin': 512, 'max_depth': 3, 'metric': 'binary_error', 'min_child_samples': 5, 'min_child_weight': 1, 'min_split_gain': 0.5, 'n_estimators': 10, 'nthread': 5, 'num_class': 1, 'num_leaves': 6, 'objective': 'binary', 'random_state': 228, 'reg_alpha': 1, 'reg_lambda': 1, 'scale_pos_weight': 1, 'subsample': 0.7, 'subsample_for_bin': 200, 'subsample_freq': 1}\n",
      "0.7423627029128296 {'boosting_type': 'gbdt', 'colsample_bytree': 0.66, 'learning_rate': 0.03, 'num_iterations': 1000, 'max_bin': 512, 'max_depth': 3, 'metric': 'binary_error', 'min_child_samples': 5, 'min_child_weight': 1, 'min_split_gain': 0.5, 'n_estimators': 10, 'nthread': 5, 'num_class': 1, 'num_leaves': 6, 'objective': 'binary', 'random_state': 228, 'reg_alpha': 1, 'reg_lambda': 1, 'scale_pos_weight': 1, 'subsample': 0.7, 'subsample_for_bin': 200, 'subsample_freq': 1} best: 0.7423627026110461 {'boosting_type': 'gbdt', 'colsample_bytree': 0.66, 'learning_rate': 0.03, 'num_iterations': 1000, 'max_bin': 512, 'max_depth': 3, 'metric': 'binary_error', 'min_child_samples': 5, 'min_child_weight': 1, 'min_split_gain': 0.5, 'n_estimators': 10, 'nthread': 5, 'num_class': 1, 'num_leaves': 6, 'objective': 'binary', 'random_state': 228, 'reg_alpha': 1, 'reg_lambda': 1, 'scale_pos_weight': 1, 'subsample': 0.7, 'subsample_for_bin': 200, 'subsample_freq': 1}\n",
      "0.7443264835592016 {'boosting_type': 'gbdt', 'colsample_bytree': 0.66, 'learning_rate': 0.03, 'num_iterations': 1100, 'max_bin': 512, 'max_depth': 3, 'metric': 'binary_error', 'min_child_samples': 5, 'min_child_weight': 1, 'min_split_gain': 0.5, 'n_estimators': 10, 'nthread': 5, 'num_class': 1, 'num_leaves': 6, 'objective': 'binary', 'random_state': 228, 'reg_alpha': 1, 'reg_lambda': 1, 'scale_pos_weight': 1, 'subsample': 0.7, 'subsample_for_bin': 200, 'subsample_freq': 1} best: 0.7443264836338317 {'boosting_type': 'gbdt', 'colsample_bytree': 0.66, 'learning_rate': 0.03, 'num_iterations': 1100, 'max_bin': 512, 'max_depth': 3, 'metric': 'binary_error', 'min_child_samples': 5, 'min_child_weight': 1, 'min_split_gain': 0.5, 'n_estimators': 10, 'nthread': 5, 'num_class': 1, 'num_leaves': 6, 'objective': 'binary', 'random_state': 228, 'reg_alpha': 1, 'reg_lambda': 1, 'scale_pos_weight': 1, 'subsample': 0.7, 'subsample_for_bin': 200, 'subsample_freq': 1}\n",
      "0.7462098363292716 {'boosting_type': 'gbdt', 'colsample_bytree': 0.66, 'learning_rate': 0.03, 'num_iterations': 1200, 'max_bin': 512, 'max_depth': 3, 'metric': 'binary_error', 'min_child_samples': 5, 'min_child_weight': 1, 'min_split_gain': 0.5, 'n_estimators': 10, 'nthread': 5, 'num_class': 1, 'num_leaves': 6, 'objective': 'binary', 'random_state': 228, 'reg_alpha': 1, 'reg_lambda': 1, 'scale_pos_weight': 1, 'subsample': 0.7, 'subsample_for_bin': 200, 'subsample_freq': 1} best: 0.7462098364407026 {'boosting_type': 'gbdt', 'colsample_bytree': 0.66, 'learning_rate': 0.03, 'num_iterations': 1200, 'max_bin': 512, 'max_depth': 3, 'metric': 'binary_error', 'min_child_samples': 5, 'min_child_weight': 1, 'min_split_gain': 0.5, 'n_estimators': 10, 'nthread': 5, 'num_class': 1, 'num_leaves': 6, 'objective': 'binary', 'random_state': 228, 'reg_alpha': 1, 'reg_lambda': 1, 'scale_pos_weight': 1, 'subsample': 0.7, 'subsample_for_bin': 200, 'subsample_freq': 1}\n",
      "0.5930751598504042 {'boosting_type': 'gbdt', 'colsample_bytree': 0.66, 'learning_rate': 0.001, 'num_iterations': 250, 'max_bin': 512, 'max_depth': 3, 'metric': 'binary_error', 'min_child_samples': 5, 'min_child_weight': 1, 'min_split_gain': 0.5, 'n_estimators': 10, 'nthread': 5, 'num_class': 1, 'num_leaves': 6, 'objective': 'binary', 'random_state': 228, 'reg_alpha': 1, 'reg_lambda': 1, 'scale_pos_weight': 1, 'subsample': 0.7, 'subsample_for_bin': 200, 'subsample_freq': 1} best: 0.7462098364407026 {'boosting_type': 'gbdt', 'colsample_bytree': 0.66, 'learning_rate': 0.03, 'num_iterations': 1200, 'max_bin': 512, 'max_depth': 3, 'metric': 'binary_error', 'min_child_samples': 5, 'min_child_weight': 1, 'min_split_gain': 0.5, 'n_estimators': 10, 'nthread': 5, 'num_class': 1, 'num_leaves': 6, 'objective': 'binary', 'random_state': 228, 'reg_alpha': 1, 'reg_lambda': 1, 'scale_pos_weight': 1, 'subsample': 0.7, 'subsample_for_bin': 200, 'subsample_freq': 1}\n",
      "0.5930751598504042 {'boosting_type': 'gbdt', 'colsample_bytree': 0.66, 'learning_rate': 0.001, 'num_iterations': 100, 'max_bin': 512, 'max_depth': 3, 'metric': 'binary_error', 'min_child_samples': 5, 'min_child_weight': 1, 'min_split_gain': 0.5, 'n_estimators': 10, 'nthread': 5, 'num_class': 1, 'num_leaves': 6, 'objective': 'binary', 'random_state': 228, 'reg_alpha': 1, 'reg_lambda': 1, 'scale_pos_weight': 1, 'subsample': 0.7, 'subsample_for_bin': 200, 'subsample_freq': 1} best: 0.7462098364407026 {'boosting_type': 'gbdt', 'colsample_bytree': 0.66, 'learning_rate': 0.03, 'num_iterations': 1200, 'max_bin': 512, 'max_depth': 3, 'metric': 'binary_error', 'min_child_samples': 5, 'min_child_weight': 1, 'min_split_gain': 0.5, 'n_estimators': 10, 'nthread': 5, 'num_class': 1, 'num_leaves': 6, 'objective': 'binary', 'random_state': 228, 'reg_alpha': 1, 'reg_lambda': 1, 'scale_pos_weight': 1, 'subsample': 0.7, 'subsample_for_bin': 200, 'subsample_freq': 1}\n"
     ]
    },
    {
     "name": "stdout",
     "output_type": "stream",
     "text": [
      "0.5957694937065187 {'boosting_type': 'gbdt', 'colsample_bytree': 0.66, 'learning_rate': 0.001, 'num_iterations': 500, 'max_bin': 512, 'max_depth': 3, 'metric': 'binary_error', 'min_child_samples': 5, 'min_child_weight': 1, 'min_split_gain': 0.5, 'n_estimators': 10, 'nthread': 5, 'num_class': 1, 'num_leaves': 6, 'objective': 'binary', 'random_state': 228, 'reg_alpha': 1, 'reg_lambda': 1, 'scale_pos_weight': 1, 'subsample': 0.7, 'subsample_for_bin': 200, 'subsample_freq': 1} best: 0.7462098364407026 {'boosting_type': 'gbdt', 'colsample_bytree': 0.66, 'learning_rate': 0.03, 'num_iterations': 1200, 'max_bin': 512, 'max_depth': 3, 'metric': 'binary_error', 'min_child_samples': 5, 'min_child_weight': 1, 'min_split_gain': 0.5, 'n_estimators': 10, 'nthread': 5, 'num_class': 1, 'num_leaves': 6, 'objective': 'binary', 'random_state': 228, 'reg_alpha': 1, 'reg_lambda': 1, 'scale_pos_weight': 1, 'subsample': 0.7, 'subsample_for_bin': 200, 'subsample_freq': 1}\n",
      "0.6439994101955738 {'boosting_type': 'gbdt', 'colsample_bytree': 0.66, 'learning_rate': 0.001, 'num_iterations': 1000, 'max_bin': 512, 'max_depth': 3, 'metric': 'binary_error', 'min_child_samples': 5, 'min_child_weight': 1, 'min_split_gain': 0.5, 'n_estimators': 10, 'nthread': 5, 'num_class': 1, 'num_leaves': 6, 'objective': 'binary', 'random_state': 228, 'reg_alpha': 1, 'reg_lambda': 1, 'scale_pos_weight': 1, 'subsample': 0.7, 'subsample_for_bin': 200, 'subsample_freq': 1} best: 0.7462098364407026 {'boosting_type': 'gbdt', 'colsample_bytree': 0.66, 'learning_rate': 0.03, 'num_iterations': 1200, 'max_bin': 512, 'max_depth': 3, 'metric': 'binary_error', 'min_child_samples': 5, 'min_child_weight': 1, 'min_split_gain': 0.5, 'n_estimators': 10, 'nthread': 5, 'num_class': 1, 'num_leaves': 6, 'objective': 'binary', 'random_state': 228, 'reg_alpha': 1, 'reg_lambda': 1, 'scale_pos_weight': 1, 'subsample': 0.7, 'subsample_for_bin': 200, 'subsample_freq': 1}\n",
      "0.6466468277905122 {'boosting_type': 'gbdt', 'colsample_bytree': 0.66, 'learning_rate': 0.001, 'num_iterations': 1100, 'max_bin': 512, 'max_depth': 3, 'metric': 'binary_error', 'min_child_samples': 5, 'min_child_weight': 1, 'min_split_gain': 0.5, 'n_estimators': 10, 'nthread': 5, 'num_class': 1, 'num_leaves': 6, 'objective': 'binary', 'random_state': 228, 'reg_alpha': 1, 'reg_lambda': 1, 'scale_pos_weight': 1, 'subsample': 0.7, 'subsample_for_bin': 200, 'subsample_freq': 1} best: 0.7462098364407026 {'boosting_type': 'gbdt', 'colsample_bytree': 0.66, 'learning_rate': 0.03, 'num_iterations': 1200, 'max_bin': 512, 'max_depth': 3, 'metric': 'binary_error', 'min_child_samples': 5, 'min_child_weight': 1, 'min_split_gain': 0.5, 'n_estimators': 10, 'nthread': 5, 'num_class': 1, 'num_leaves': 6, 'objective': 'binary', 'random_state': 228, 'reg_alpha': 1, 'reg_lambda': 1, 'scale_pos_weight': 1, 'subsample': 0.7, 'subsample_for_bin': 200, 'subsample_freq': 1}\n",
      "0.6480476133027707 {'boosting_type': 'gbdt', 'colsample_bytree': 0.66, 'learning_rate': 0.001, 'num_iterations': 1200, 'max_bin': 512, 'max_depth': 3, 'metric': 'binary_error', 'min_child_samples': 5, 'min_child_weight': 1, 'min_split_gain': 0.5, 'n_estimators': 10, 'nthread': 5, 'num_class': 1, 'num_leaves': 6, 'objective': 'binary', 'random_state': 228, 'reg_alpha': 1, 'reg_lambda': 1, 'scale_pos_weight': 1, 'subsample': 0.7, 'subsample_for_bin': 200, 'subsample_freq': 1} best: 0.7462098364407026 {'boosting_type': 'gbdt', 'colsample_bytree': 0.66, 'learning_rate': 0.03, 'num_iterations': 1200, 'max_bin': 512, 'max_depth': 3, 'metric': 'binary_error', 'min_child_samples': 5, 'min_child_weight': 1, 'min_split_gain': 0.5, 'n_estimators': 10, 'nthread': 5, 'num_class': 1, 'num_leaves': 6, 'objective': 'binary', 'random_state': 228, 'reg_alpha': 1, 'reg_lambda': 1, 'scale_pos_weight': 1, 'subsample': 0.7, 'subsample_for_bin': 200, 'subsample_freq': 1}\n",
      "0.6711706277395746 {'boosting_type': 'gbdt', 'colsample_bytree': 0.66, 'learning_rate': 0.01, 'num_iterations': 250, 'max_bin': 512, 'max_depth': 3, 'metric': 'binary_error', 'min_child_samples': 5, 'min_child_weight': 1, 'min_split_gain': 0.5, 'n_estimators': 10, 'nthread': 5, 'num_class': 1, 'num_leaves': 6, 'objective': 'binary', 'random_state': 228, 'reg_alpha': 1, 'reg_lambda': 1, 'scale_pos_weight': 1, 'subsample': 0.7, 'subsample_for_bin': 200, 'subsample_freq': 1} best: 0.7462098364407026 {'boosting_type': 'gbdt', 'colsample_bytree': 0.66, 'learning_rate': 0.03, 'num_iterations': 1200, 'max_bin': 512, 'max_depth': 3, 'metric': 'binary_error', 'min_child_samples': 5, 'min_child_weight': 1, 'min_split_gain': 0.5, 'n_estimators': 10, 'nthread': 5, 'num_class': 1, 'num_leaves': 6, 'objective': 'binary', 'random_state': 228, 'reg_alpha': 1, 'reg_lambda': 1, 'scale_pos_weight': 1, 'subsample': 0.7, 'subsample_for_bin': 200, 'subsample_freq': 1}\n",
      "0.6440463264567499 {'boosting_type': 'gbdt', 'colsample_bytree': 0.66, 'learning_rate': 0.01, 'num_iterations': 100, 'max_bin': 512, 'max_depth': 3, 'metric': 'binary_error', 'min_child_samples': 5, 'min_child_weight': 1, 'min_split_gain': 0.5, 'n_estimators': 10, 'nthread': 5, 'num_class': 1, 'num_leaves': 6, 'objective': 'binary', 'random_state': 228, 'reg_alpha': 1, 'reg_lambda': 1, 'scale_pos_weight': 1, 'subsample': 0.7, 'subsample_for_bin': 200, 'subsample_freq': 1} best: 0.7462098364407026 {'boosting_type': 'gbdt', 'colsample_bytree': 0.66, 'learning_rate': 0.03, 'num_iterations': 1200, 'max_bin': 512, 'max_depth': 3, 'metric': 'binary_error', 'min_child_samples': 5, 'min_child_weight': 1, 'min_split_gain': 0.5, 'n_estimators': 10, 'nthread': 5, 'num_class': 1, 'num_leaves': 6, 'objective': 'binary', 'random_state': 228, 'reg_alpha': 1, 'reg_lambda': 1, 'scale_pos_weight': 1, 'subsample': 0.7, 'subsample_for_bin': 200, 'subsample_freq': 1}\n",
      "0.6928727496950443 {'boosting_type': 'gbdt', 'colsample_bytree': 0.66, 'learning_rate': 0.01, 'num_iterations': 500, 'max_bin': 512, 'max_depth': 3, 'metric': 'binary_error', 'min_child_samples': 5, 'min_child_weight': 1, 'min_split_gain': 0.5, 'n_estimators': 10, 'nthread': 5, 'num_class': 1, 'num_leaves': 6, 'objective': 'binary', 'random_state': 228, 'reg_alpha': 1, 'reg_lambda': 1, 'scale_pos_weight': 1, 'subsample': 0.7, 'subsample_for_bin': 200, 'subsample_freq': 1} best: 0.7462098364407026 {'boosting_type': 'gbdt', 'colsample_bytree': 0.66, 'learning_rate': 0.03, 'num_iterations': 1200, 'max_bin': 512, 'max_depth': 3, 'metric': 'binary_error', 'min_child_samples': 5, 'min_child_weight': 1, 'min_split_gain': 0.5, 'n_estimators': 10, 'nthread': 5, 'num_class': 1, 'num_leaves': 6, 'objective': 'binary', 'random_state': 228, 'reg_alpha': 1, 'reg_lambda': 1, 'scale_pos_weight': 1, 'subsample': 0.7, 'subsample_for_bin': 200, 'subsample_freq': 1}\n",
      "0.7130802536159032 {'boosting_type': 'gbdt', 'colsample_bytree': 0.66, 'learning_rate': 0.01, 'num_iterations': 1000, 'max_bin': 512, 'max_depth': 3, 'metric': 'binary_error', 'min_child_samples': 5, 'min_child_weight': 1, 'min_split_gain': 0.5, 'n_estimators': 10, 'nthread': 5, 'num_class': 1, 'num_leaves': 6, 'objective': 'binary', 'random_state': 228, 'reg_alpha': 1, 'reg_lambda': 1, 'scale_pos_weight': 1, 'subsample': 0.7, 'subsample_for_bin': 200, 'subsample_freq': 1} best: 0.7462098364407026 {'boosting_type': 'gbdt', 'colsample_bytree': 0.66, 'learning_rate': 0.03, 'num_iterations': 1200, 'max_bin': 512, 'max_depth': 3, 'metric': 'binary_error', 'min_child_samples': 5, 'min_child_weight': 1, 'min_split_gain': 0.5, 'n_estimators': 10, 'nthread': 5, 'num_class': 1, 'num_leaves': 6, 'objective': 'binary', 'random_state': 228, 'reg_alpha': 1, 'reg_lambda': 1, 'scale_pos_weight': 1, 'subsample': 0.7, 'subsample_for_bin': 200, 'subsample_freq': 1}\n",
      "0.7163576895752067 {'boosting_type': 'gbdt', 'colsample_bytree': 0.66, 'learning_rate': 0.01, 'num_iterations': 1100, 'max_bin': 512, 'max_depth': 3, 'metric': 'binary_error', 'min_child_samples': 5, 'min_child_weight': 1, 'min_split_gain': 0.5, 'n_estimators': 10, 'nthread': 5, 'num_class': 1, 'num_leaves': 6, 'objective': 'binary', 'random_state': 228, 'reg_alpha': 1, 'reg_lambda': 1, 'scale_pos_weight': 1, 'subsample': 0.7, 'subsample_for_bin': 200, 'subsample_freq': 1} best: 0.7462098364407026 {'boosting_type': 'gbdt', 'colsample_bytree': 0.66, 'learning_rate': 0.03, 'num_iterations': 1200, 'max_bin': 512, 'max_depth': 3, 'metric': 'binary_error', 'min_child_samples': 5, 'min_child_weight': 1, 'min_split_gain': 0.5, 'n_estimators': 10, 'nthread': 5, 'num_class': 1, 'num_leaves': 6, 'objective': 'binary', 'random_state': 228, 'reg_alpha': 1, 'reg_lambda': 1, 'scale_pos_weight': 1, 'subsample': 0.7, 'subsample_for_bin': 200, 'subsample_freq': 1}\n"
     ]
    },
    {
     "name": "stdout",
     "output_type": "stream",
     "text": [
      "0.7186297770807362 {'boosting_type': 'gbdt', 'colsample_bytree': 0.66, 'learning_rate': 0.01, 'num_iterations': 1200, 'max_bin': 512, 'max_depth': 3, 'metric': 'binary_error', 'min_child_samples': 5, 'min_child_weight': 1, 'min_split_gain': 0.5, 'n_estimators': 10, 'nthread': 5, 'num_class': 1, 'num_leaves': 6, 'objective': 'binary', 'random_state': 228, 'reg_alpha': 1, 'reg_lambda': 1, 'scale_pos_weight': 1, 'subsample': 0.7, 'subsample_for_bin': 200, 'subsample_freq': 1} best: 0.7462098364407026 {'boosting_type': 'gbdt', 'colsample_bytree': 0.66, 'learning_rate': 0.03, 'num_iterations': 1200, 'max_bin': 512, 'max_depth': 3, 'metric': 'binary_error', 'min_child_samples': 5, 'min_child_weight': 1, 'min_split_gain': 0.5, 'n_estimators': 10, 'nthread': 5, 'num_class': 1, 'num_leaves': 6, 'objective': 'binary', 'random_state': 228, 'reg_alpha': 1, 'reg_lambda': 1, 'scale_pos_weight': 1, 'subsample': 0.7, 'subsample_for_bin': 200, 'subsample_freq': 1}\n",
      "0.7372957467058082 {'boosting_type': 'gbdt', 'colsample_bytree': 0.66, 'learning_rate': 0.1, 'num_iterations': 250, 'max_bin': 512, 'max_depth': 3, 'metric': 'binary_error', 'min_child_samples': 5, 'min_child_weight': 1, 'min_split_gain': 0.5, 'n_estimators': 10, 'nthread': 5, 'num_class': 1, 'num_leaves': 6, 'objective': 'binary', 'random_state': 228, 'reg_alpha': 1, 'reg_lambda': 1, 'scale_pos_weight': 1, 'subsample': 0.7, 'subsample_for_bin': 200, 'subsample_freq': 1} best: 0.7462098364407026 {'boosting_type': 'gbdt', 'colsample_bytree': 0.66, 'learning_rate': 0.03, 'num_iterations': 1200, 'max_bin': 512, 'max_depth': 3, 'metric': 'binary_error', 'min_child_samples': 5, 'min_child_weight': 1, 'min_split_gain': 0.5, 'n_estimators': 10, 'nthread': 5, 'num_class': 1, 'num_leaves': 6, 'objective': 'binary', 'random_state': 228, 'reg_alpha': 1, 'reg_lambda': 1, 'scale_pos_weight': 1, 'subsample': 0.7, 'subsample_for_bin': 200, 'subsample_freq': 1}\n",
      "0.7127317328185949 {'boosting_type': 'gbdt', 'colsample_bytree': 0.66, 'learning_rate': 0.1, 'num_iterations': 100, 'max_bin': 512, 'max_depth': 3, 'metric': 'binary_error', 'min_child_samples': 5, 'min_child_weight': 1, 'min_split_gain': 0.5, 'n_estimators': 10, 'nthread': 5, 'num_class': 1, 'num_leaves': 6, 'objective': 'binary', 'random_state': 228, 'reg_alpha': 1, 'reg_lambda': 1, 'scale_pos_weight': 1, 'subsample': 0.7, 'subsample_for_bin': 200, 'subsample_freq': 1} best: 0.7462098364407026 {'boosting_type': 'gbdt', 'colsample_bytree': 0.66, 'learning_rate': 0.03, 'num_iterations': 1200, 'max_bin': 512, 'max_depth': 3, 'metric': 'binary_error', 'min_child_samples': 5, 'min_child_weight': 1, 'min_split_gain': 0.5, 'n_estimators': 10, 'nthread': 5, 'num_class': 1, 'num_leaves': 6, 'objective': 'binary', 'random_state': 228, 'reg_alpha': 1, 'reg_lambda': 1, 'scale_pos_weight': 1, 'subsample': 0.7, 'subsample_for_bin': 200, 'subsample_freq': 1}\n",
      "0.7548357260626534 {'boosting_type': 'gbdt', 'colsample_bytree': 0.66, 'learning_rate': 0.1, 'num_iterations': 500, 'max_bin': 512, 'max_depth': 3, 'metric': 'binary_error', 'min_child_samples': 5, 'min_child_weight': 1, 'min_split_gain': 0.5, 'n_estimators': 10, 'nthread': 5, 'num_class': 1, 'num_leaves': 6, 'objective': 'binary', 'random_state': 228, 'reg_alpha': 1, 'reg_lambda': 1, 'scale_pos_weight': 1, 'subsample': 0.7, 'subsample_for_bin': 200, 'subsample_freq': 1} best: 0.7548357261176872 {'boosting_type': 'gbdt', 'colsample_bytree': 0.66, 'learning_rate': 0.1, 'num_iterations': 500, 'max_bin': 512, 'max_depth': 3, 'metric': 'binary_error', 'min_child_samples': 5, 'min_child_weight': 1, 'min_split_gain': 0.5, 'n_estimators': 10, 'nthread': 5, 'num_class': 1, 'num_leaves': 6, 'objective': 'binary', 'random_state': 228, 'reg_alpha': 1, 'reg_lambda': 1, 'scale_pos_weight': 1, 'subsample': 0.7, 'subsample_for_bin': 200, 'subsample_freq': 1}\n",
      "0.7690781624911195 {'boosting_type': 'gbdt', 'colsample_bytree': 0.66, 'learning_rate': 0.1, 'num_iterations': 1000, 'max_bin': 512, 'max_depth': 3, 'metric': 'binary_error', 'min_child_samples': 5, 'min_child_weight': 1, 'min_split_gain': 0.5, 'n_estimators': 10, 'nthread': 5, 'num_class': 1, 'num_leaves': 6, 'objective': 'binary', 'random_state': 228, 'reg_alpha': 1, 'reg_lambda': 1, 'scale_pos_weight': 1, 'subsample': 0.7, 'subsample_for_bin': 200, 'subsample_freq': 1} best: 0.7690781624123354 {'boosting_type': 'gbdt', 'colsample_bytree': 0.66, 'learning_rate': 0.1, 'num_iterations': 1000, 'max_bin': 512, 'max_depth': 3, 'metric': 'binary_error', 'min_child_samples': 5, 'min_child_weight': 1, 'min_split_gain': 0.5, 'n_estimators': 10, 'nthread': 5, 'num_class': 1, 'num_leaves': 6, 'objective': 'binary', 'random_state': 228, 'reg_alpha': 1, 'reg_lambda': 1, 'scale_pos_weight': 1, 'subsample': 0.7, 'subsample_for_bin': 200, 'subsample_freq': 1}\n",
      "0.7708073618316109 {'boosting_type': 'gbdt', 'colsample_bytree': 0.66, 'learning_rate': 0.1, 'num_iterations': 1100, 'max_bin': 512, 'max_depth': 3, 'metric': 'binary_error', 'min_child_samples': 5, 'min_child_weight': 1, 'min_split_gain': 0.5, 'n_estimators': 10, 'nthread': 5, 'num_class': 1, 'num_leaves': 6, 'objective': 'binary', 'random_state': 228, 'reg_alpha': 1, 'reg_lambda': 1, 'scale_pos_weight': 1, 'subsample': 0.7, 'subsample_for_bin': 200, 'subsample_freq': 1} best: 0.7708073617920164 {'boosting_type': 'gbdt', 'colsample_bytree': 0.66, 'learning_rate': 0.1, 'num_iterations': 1100, 'max_bin': 512, 'max_depth': 3, 'metric': 'binary_error', 'min_child_samples': 5, 'min_child_weight': 1, 'min_split_gain': 0.5, 'n_estimators': 10, 'nthread': 5, 'num_class': 1, 'num_leaves': 6, 'objective': 'binary', 'random_state': 228, 'reg_alpha': 1, 'reg_lambda': 1, 'scale_pos_weight': 1, 'subsample': 0.7, 'subsample_for_bin': 200, 'subsample_freq': 1}\n",
      "0.7723354914813475 {'boosting_type': 'gbdt', 'colsample_bytree': 0.66, 'learning_rate': 0.1, 'num_iterations': 1200, 'max_bin': 512, 'max_depth': 3, 'metric': 'binary_error', 'min_child_samples': 5, 'min_child_weight': 1, 'min_split_gain': 0.5, 'n_estimators': 10, 'nthread': 5, 'num_class': 1, 'num_leaves': 6, 'objective': 'binary', 'random_state': 228, 'reg_alpha': 1, 'reg_lambda': 1, 'scale_pos_weight': 1, 'subsample': 0.7, 'subsample_for_bin': 200, 'subsample_freq': 1} best: 0.7723354914606144 {'boosting_type': 'gbdt', 'colsample_bytree': 0.66, 'learning_rate': 0.1, 'num_iterations': 1200, 'max_bin': 512, 'max_depth': 3, 'metric': 'binary_error', 'min_child_samples': 5, 'min_child_weight': 1, 'min_split_gain': 0.5, 'n_estimators': 10, 'nthread': 5, 'num_class': 1, 'num_leaves': 6, 'objective': 'binary', 'random_state': 228, 'reg_alpha': 1, 'reg_lambda': 1, 'scale_pos_weight': 1, 'subsample': 0.7, 'subsample_for_bin': 200, 'subsample_freq': 1}\n",
      "0.7524094851275452 {'boosting_type': 'gbdt', 'colsample_bytree': 0.66, 'learning_rate': 0.2, 'num_iterations': 250, 'max_bin': 512, 'max_depth': 3, 'metric': 'binary_error', 'min_child_samples': 5, 'min_child_weight': 1, 'min_split_gain': 0.5, 'n_estimators': 10, 'nthread': 5, 'num_class': 1, 'num_leaves': 6, 'objective': 'binary', 'random_state': 228, 'reg_alpha': 1, 'reg_lambda': 1, 'scale_pos_weight': 1, 'subsample': 0.7, 'subsample_for_bin': 200, 'subsample_freq': 1} best: 0.7723354914606144 {'boosting_type': 'gbdt', 'colsample_bytree': 0.66, 'learning_rate': 0.1, 'num_iterations': 1200, 'max_bin': 512, 'max_depth': 3, 'metric': 'binary_error', 'min_child_samples': 5, 'min_child_weight': 1, 'min_split_gain': 0.5, 'n_estimators': 10, 'nthread': 5, 'num_class': 1, 'num_leaves': 6, 'objective': 'binary', 'random_state': 228, 'reg_alpha': 1, 'reg_lambda': 1, 'scale_pos_weight': 1, 'subsample': 0.7, 'subsample_for_bin': 200, 'subsample_freq': 1}\n",
      "0.7310156700312328 {'boosting_type': 'gbdt', 'colsample_bytree': 0.66, 'learning_rate': 0.2, 'num_iterations': 100, 'max_bin': 512, 'max_depth': 3, 'metric': 'binary_error', 'min_child_samples': 5, 'min_child_weight': 1, 'min_split_gain': 0.5, 'n_estimators': 10, 'nthread': 5, 'num_class': 1, 'num_leaves': 6, 'objective': 'binary', 'random_state': 228, 'reg_alpha': 1, 'reg_lambda': 1, 'scale_pos_weight': 1, 'subsample': 0.7, 'subsample_for_bin': 200, 'subsample_freq': 1} best: 0.7723354914606144 {'boosting_type': 'gbdt', 'colsample_bytree': 0.66, 'learning_rate': 0.1, 'num_iterations': 1200, 'max_bin': 512, 'max_depth': 3, 'metric': 'binary_error', 'min_child_samples': 5, 'min_child_weight': 1, 'min_split_gain': 0.5, 'n_estimators': 10, 'nthread': 5, 'num_class': 1, 'num_leaves': 6, 'objective': 'binary', 'random_state': 228, 'reg_alpha': 1, 'reg_lambda': 1, 'scale_pos_weight': 1, 'subsample': 0.7, 'subsample_for_bin': 200, 'subsample_freq': 1}\n"
     ]
    },
    {
     "name": "stdout",
     "output_type": "stream",
     "text": [
      "0.7682135628208737 {'boosting_type': 'gbdt', 'colsample_bytree': 0.66, 'learning_rate': 0.2, 'num_iterations': 500, 'max_bin': 512, 'max_depth': 3, 'metric': 'binary_error', 'min_child_samples': 5, 'min_child_weight': 1, 'min_split_gain': 0.5, 'n_estimators': 10, 'nthread': 5, 'num_class': 1, 'num_leaves': 6, 'objective': 'binary', 'random_state': 228, 'reg_alpha': 1, 'reg_lambda': 1, 'scale_pos_weight': 1, 'subsample': 0.7, 'subsample_for_bin': 200, 'subsample_freq': 1} best: 0.7723354914606144 {'boosting_type': 'gbdt', 'colsample_bytree': 0.66, 'learning_rate': 0.1, 'num_iterations': 1200, 'max_bin': 512, 'max_depth': 3, 'metric': 'binary_error', 'min_child_samples': 5, 'min_child_weight': 1, 'min_split_gain': 0.5, 'n_estimators': 10, 'nthread': 5, 'num_class': 1, 'num_leaves': 6, 'objective': 'binary', 'random_state': 228, 'reg_alpha': 1, 'reg_lambda': 1, 'scale_pos_weight': 1, 'subsample': 0.7, 'subsample_for_bin': 200, 'subsample_freq': 1}\n",
      "0.7777241591935766 {'boosting_type': 'gbdt', 'colsample_bytree': 0.66, 'learning_rate': 0.2, 'num_iterations': 1000, 'max_bin': 512, 'max_depth': 3, 'metric': 'binary_error', 'min_child_samples': 5, 'min_child_weight': 1, 'min_split_gain': 0.5, 'n_estimators': 10, 'nthread': 5, 'num_class': 1, 'num_leaves': 6, 'objective': 'binary', 'random_state': 228, 'reg_alpha': 1, 'reg_lambda': 1, 'scale_pos_weight': 1, 'subsample': 0.7, 'subsample_for_bin': 200, 'subsample_freq': 1} best: 0.777724159226147 {'boosting_type': 'gbdt', 'colsample_bytree': 0.66, 'learning_rate': 0.2, 'num_iterations': 1000, 'max_bin': 512, 'max_depth': 3, 'metric': 'binary_error', 'min_child_samples': 5, 'min_child_weight': 1, 'min_split_gain': 0.5, 'n_estimators': 10, 'nthread': 5, 'num_class': 1, 'num_leaves': 6, 'objective': 'binary', 'random_state': 228, 'reg_alpha': 1, 'reg_lambda': 1, 'scale_pos_weight': 1, 'subsample': 0.7, 'subsample_for_bin': 200, 'subsample_freq': 1}\n",
      "0.77870269835525 {'boosting_type': 'gbdt', 'colsample_bytree': 0.66, 'learning_rate': 0.2, 'num_iterations': 1100, 'max_bin': 512, 'max_depth': 3, 'metric': 'binary_error', 'min_child_samples': 5, 'min_child_weight': 1, 'min_split_gain': 0.5, 'n_estimators': 10, 'nthread': 5, 'num_class': 1, 'num_leaves': 6, 'objective': 'binary', 'random_state': 228, 'reg_alpha': 1, 'reg_lambda': 1, 'scale_pos_weight': 1, 'subsample': 0.7, 'subsample_for_bin': 200, 'subsample_freq': 1} best: 0.7787026982017619 {'boosting_type': 'gbdt', 'colsample_bytree': 0.66, 'learning_rate': 0.2, 'num_iterations': 1100, 'max_bin': 512, 'max_depth': 3, 'metric': 'binary_error', 'min_child_samples': 5, 'min_child_weight': 1, 'min_split_gain': 0.5, 'n_estimators': 10, 'nthread': 5, 'num_class': 1, 'num_leaves': 6, 'objective': 'binary', 'random_state': 228, 'reg_alpha': 1, 'reg_lambda': 1, 'scale_pos_weight': 1, 'subsample': 0.7, 'subsample_for_bin': 200, 'subsample_freq': 1}\n",
      "0.7790311121834828 {'boosting_type': 'gbdt', 'colsample_bytree': 0.66, 'learning_rate': 0.2, 'num_iterations': 1200, 'max_bin': 512, 'max_depth': 3, 'metric': 'binary_error', 'min_child_samples': 5, 'min_child_weight': 1, 'min_split_gain': 0.5, 'n_estimators': 10, 'nthread': 5, 'num_class': 1, 'num_leaves': 6, 'objective': 'binary', 'random_state': 228, 'reg_alpha': 1, 'reg_lambda': 1, 'scale_pos_weight': 1, 'subsample': 0.7, 'subsample_for_bin': 200, 'subsample_freq': 1} best: 0.7790311121683089 {'boosting_type': 'gbdt', 'colsample_bytree': 0.66, 'learning_rate': 0.2, 'num_iterations': 1200, 'max_bin': 512, 'max_depth': 3, 'metric': 'binary_error', 'min_child_samples': 5, 'min_child_weight': 1, 'min_split_gain': 0.5, 'n_estimators': 10, 'nthread': 5, 'num_class': 1, 'num_leaves': 6, 'objective': 'binary', 'random_state': 228, 'reg_alpha': 1, 'reg_lambda': 1, 'scale_pos_weight': 1, 'subsample': 0.7, 'subsample_for_bin': 200, 'subsample_freq': 1}\n",
      "0.7601506682216056 {'boosting_type': 'gbdt', 'colsample_bytree': 0.66, 'learning_rate': 0.3, 'num_iterations': 250, 'max_bin': 512, 'max_depth': 3, 'metric': 'binary_error', 'min_child_samples': 5, 'min_child_weight': 1, 'min_split_gain': 0.5, 'n_estimators': 10, 'nthread': 5, 'num_class': 1, 'num_leaves': 6, 'objective': 'binary', 'random_state': 228, 'reg_alpha': 1, 'reg_lambda': 1, 'scale_pos_weight': 1, 'subsample': 0.7, 'subsample_for_bin': 200, 'subsample_freq': 1} best: 0.7790311121683089 {'boosting_type': 'gbdt', 'colsample_bytree': 0.66, 'learning_rate': 0.2, 'num_iterations': 1200, 'max_bin': 512, 'max_depth': 3, 'metric': 'binary_error', 'min_child_samples': 5, 'min_child_weight': 1, 'min_split_gain': 0.5, 'n_estimators': 10, 'nthread': 5, 'num_class': 1, 'num_leaves': 6, 'objective': 'binary', 'random_state': 228, 'reg_alpha': 1, 'reg_lambda': 1, 'scale_pos_weight': 1, 'subsample': 0.7, 'subsample_for_bin': 200, 'subsample_freq': 1}\n",
      "0.7382541788984062 {'boosting_type': 'gbdt', 'colsample_bytree': 0.66, 'learning_rate': 0.3, 'num_iterations': 100, 'max_bin': 512, 'max_depth': 3, 'metric': 'binary_error', 'min_child_samples': 5, 'min_child_weight': 1, 'min_split_gain': 0.5, 'n_estimators': 10, 'nthread': 5, 'num_class': 1, 'num_leaves': 6, 'objective': 'binary', 'random_state': 228, 'reg_alpha': 1, 'reg_lambda': 1, 'scale_pos_weight': 1, 'subsample': 0.7, 'subsample_for_bin': 200, 'subsample_freq': 1} best: 0.7790311121683089 {'boosting_type': 'gbdt', 'colsample_bytree': 0.66, 'learning_rate': 0.2, 'num_iterations': 1200, 'max_bin': 512, 'max_depth': 3, 'metric': 'binary_error', 'min_child_samples': 5, 'min_child_weight': 1, 'min_split_gain': 0.5, 'n_estimators': 10, 'nthread': 5, 'num_class': 1, 'num_leaves': 6, 'objective': 'binary', 'random_state': 228, 'reg_alpha': 1, 'reg_lambda': 1, 'scale_pos_weight': 1, 'subsample': 0.7, 'subsample_for_bin': 200, 'subsample_freq': 1}\n",
      "0.7735151003337757 {'boosting_type': 'gbdt', 'colsample_bytree': 0.66, 'learning_rate': 0.3, 'num_iterations': 500, 'max_bin': 512, 'max_depth': 3, 'metric': 'binary_error', 'min_child_samples': 5, 'min_child_weight': 1, 'min_split_gain': 0.5, 'n_estimators': 10, 'nthread': 5, 'num_class': 1, 'num_leaves': 6, 'objective': 'binary', 'random_state': 228, 'reg_alpha': 1, 'reg_lambda': 1, 'scale_pos_weight': 1, 'subsample': 0.7, 'subsample_for_bin': 200, 'subsample_freq': 1} best: 0.7790311121683089 {'boosting_type': 'gbdt', 'colsample_bytree': 0.66, 'learning_rate': 0.2, 'num_iterations': 1200, 'max_bin': 512, 'max_depth': 3, 'metric': 'binary_error', 'min_child_samples': 5, 'min_child_weight': 1, 'min_split_gain': 0.5, 'n_estimators': 10, 'nthread': 5, 'num_class': 1, 'num_leaves': 6, 'objective': 'binary', 'random_state': 228, 'reg_alpha': 1, 'reg_lambda': 1, 'scale_pos_weight': 1, 'subsample': 0.7, 'subsample_for_bin': 200, 'subsample_freq': 1}\n",
      "0.7775700057639977 {'boosting_type': 'gbdt', 'colsample_bytree': 0.66, 'learning_rate': 0.3, 'num_iterations': 1000, 'max_bin': 512, 'max_depth': 3, 'metric': 'binary_error', 'min_child_samples': 5, 'min_child_weight': 1, 'min_split_gain': 0.5, 'n_estimators': 10, 'nthread': 5, 'num_class': 1, 'num_leaves': 6, 'objective': 'binary', 'random_state': 228, 'reg_alpha': 1, 'reg_lambda': 1, 'scale_pos_weight': 1, 'subsample': 0.7, 'subsample_for_bin': 200, 'subsample_freq': 1} best: 0.7790311121683089 {'boosting_type': 'gbdt', 'colsample_bytree': 0.66, 'learning_rate': 0.2, 'num_iterations': 1200, 'max_bin': 512, 'max_depth': 3, 'metric': 'binary_error', 'min_child_samples': 5, 'min_child_weight': 1, 'min_split_gain': 0.5, 'n_estimators': 10, 'nthread': 5, 'num_class': 1, 'num_leaves': 6, 'objective': 'binary', 'random_state': 228, 'reg_alpha': 1, 'reg_lambda': 1, 'scale_pos_weight': 1, 'subsample': 0.7, 'subsample_for_bin': 200, 'subsample_freq': 1}\n",
      "0.7786155681559229 {'boosting_type': 'gbdt', 'colsample_bytree': 0.66, 'learning_rate': 0.3, 'num_iterations': 1100, 'max_bin': 512, 'max_depth': 3, 'metric': 'binary_error', 'min_child_samples': 5, 'min_child_weight': 1, 'min_split_gain': 0.5, 'n_estimators': 10, 'nthread': 5, 'num_class': 1, 'num_leaves': 6, 'objective': 'binary', 'random_state': 228, 'reg_alpha': 1, 'reg_lambda': 1, 'scale_pos_weight': 1, 'subsample': 0.7, 'subsample_for_bin': 200, 'subsample_freq': 1} best: 0.7790311121683089 {'boosting_type': 'gbdt', 'colsample_bytree': 0.66, 'learning_rate': 0.2, 'num_iterations': 1200, 'max_bin': 512, 'max_depth': 3, 'metric': 'binary_error', 'min_child_samples': 5, 'min_child_weight': 1, 'min_split_gain': 0.5, 'n_estimators': 10, 'nthread': 5, 'num_class': 1, 'num_leaves': 6, 'objective': 'binary', 'random_state': 228, 'reg_alpha': 1, 'reg_lambda': 1, 'scale_pos_weight': 1, 'subsample': 0.7, 'subsample_for_bin': 200, 'subsample_freq': 1}\n"
     ]
    },
    {
     "name": "stdout",
     "output_type": "stream",
     "text": [
      "0.7789037680460047 {'boosting_type': 'gbdt', 'colsample_bytree': 0.66, 'learning_rate': 0.3, 'num_iterations': 1200, 'max_bin': 512, 'max_depth': 3, 'metric': 'binary_error', 'min_child_samples': 5, 'min_child_weight': 1, 'min_split_gain': 0.5, 'n_estimators': 10, 'nthread': 5, 'num_class': 1, 'num_leaves': 6, 'objective': 'binary', 'random_state': 228, 'reg_alpha': 1, 'reg_lambda': 1, 'scale_pos_weight': 1, 'subsample': 0.7, 'subsample_for_bin': 200, 'subsample_freq': 1} best: 0.7790311121683089 {'boosting_type': 'gbdt', 'colsample_bytree': 0.66, 'learning_rate': 0.2, 'num_iterations': 1200, 'max_bin': 512, 'max_depth': 3, 'metric': 'binary_error', 'min_child_samples': 5, 'min_child_weight': 1, 'min_split_gain': 0.5, 'n_estimators': 10, 'nthread': 5, 'num_class': 1, 'num_leaves': 6, 'objective': 'binary', 'random_state': 228, 'reg_alpha': 1, 'reg_lambda': 1, 'scale_pos_weight': 1, 'subsample': 0.7, 'subsample_for_bin': 200, 'subsample_freq': 1}\n",
      "0.7794466562110428 {'boosting_type': 'gbdt', 'colsample_bytree': 0.66, 'learning_rate': 0.2, 'num_iterations': 1200, 'max_bin': 512, 'max_depth': 3, 'metric': 'binary_error', 'min_child_samples': 5, 'min_child_weight': 1, 'min_split_gain': 0.5, 'n_estimators': 90, 'nthread': 5, 'num_class': 1, 'num_leaves': 6, 'objective': 'binary', 'random_state': 228, 'reg_alpha': 1, 'reg_lambda': 1, 'scale_pos_weight': 1, 'subsample': 0.7, 'subsample_for_bin': 200, 'subsample_freq': 1} best: 0.7794466563757304 {'boosting_type': 'gbdt', 'colsample_bytree': 0.66, 'learning_rate': 0.2, 'num_iterations': 1200, 'max_bin': 512, 'max_depth': 3, 'metric': 'binary_error', 'min_child_samples': 5, 'min_child_weight': 1, 'min_split_gain': 0.5, 'n_estimators': 90, 'nthread': 5, 'num_class': 1, 'num_leaves': 6, 'objective': 'binary', 'random_state': 228, 'reg_alpha': 1, 'reg_lambda': 1, 'scale_pos_weight': 1, 'subsample': 0.7, 'subsample_for_bin': 200, 'subsample_freq': 1}\n",
      "0.7790244098604576 {'boosting_type': 'gbdt', 'colsample_bytree': 0.66, 'learning_rate': 0.2, 'num_iterations': 1200, 'max_bin': 512, 'max_depth': 3, 'metric': 'binary_error', 'min_child_samples': 5, 'min_child_weight': 1, 'min_split_gain': 0.5, 'n_estimators': 170, 'nthread': 5, 'num_class': 1, 'num_leaves': 6, 'objective': 'binary', 'random_state': 228, 'reg_alpha': 1, 'reg_lambda': 1, 'scale_pos_weight': 1, 'subsample': 0.7, 'subsample_for_bin': 200, 'subsample_freq': 1} best: 0.7794466563757304 {'boosting_type': 'gbdt', 'colsample_bytree': 0.66, 'learning_rate': 0.2, 'num_iterations': 1200, 'max_bin': 512, 'max_depth': 3, 'metric': 'binary_error', 'min_child_samples': 5, 'min_child_weight': 1, 'min_split_gain': 0.5, 'n_estimators': 90, 'nthread': 5, 'num_class': 1, 'num_leaves': 6, 'objective': 'binary', 'random_state': 228, 'reg_alpha': 1, 'reg_lambda': 1, 'scale_pos_weight': 1, 'subsample': 0.7, 'subsample_for_bin': 200, 'subsample_freq': 1}\n",
      "0.7789841959223067 {'boosting_type': 'gbdt', 'colsample_bytree': 0.66, 'learning_rate': 0.2, 'num_iterations': 1200, 'max_bin': 512, 'max_depth': 3, 'metric': 'binary_error', 'min_child_samples': 5, 'min_child_weight': 1, 'min_split_gain': 0.5, 'n_estimators': 250, 'nthread': 5, 'num_class': 1, 'num_leaves': 6, 'objective': 'binary', 'random_state': 228, 'reg_alpha': 1, 'reg_lambda': 1, 'scale_pos_weight': 1, 'subsample': 0.7, 'subsample_for_bin': 200, 'subsample_freq': 1} best: 0.7794466563757304 {'boosting_type': 'gbdt', 'colsample_bytree': 0.66, 'learning_rate': 0.2, 'num_iterations': 1200, 'max_bin': 512, 'max_depth': 3, 'metric': 'binary_error', 'min_child_samples': 5, 'min_child_weight': 1, 'min_split_gain': 0.5, 'n_estimators': 90, 'nthread': 5, 'num_class': 1, 'num_leaves': 6, 'objective': 'binary', 'random_state': 228, 'reg_alpha': 1, 'reg_lambda': 1, 'scale_pos_weight': 1, 'subsample': 0.7, 'subsample_for_bin': 200, 'subsample_freq': 1}\n",
      "0.7800029490221311 {'boosting_type': 'gbdt', 'colsample_bytree': 0.66, 'learning_rate': 0.2, 'num_iterations': 1200, 'max_bin': 512, 'max_depth': 3, 'metric': 'binary_error', 'min_child_samples': 5, 'min_child_weight': 1, 'min_split_gain': 0.5, 'n_estimators': 330, 'nthread': 5, 'num_class': 1, 'num_leaves': 6, 'objective': 'binary', 'random_state': 228, 'reg_alpha': 1, 'reg_lambda': 1, 'scale_pos_weight': 1, 'subsample': 0.7, 'subsample_for_bin': 200, 'subsample_freq': 1} best: 0.7800029489870098 {'boosting_type': 'gbdt', 'colsample_bytree': 0.66, 'learning_rate': 0.2, 'num_iterations': 1200, 'max_bin': 512, 'max_depth': 3, 'metric': 'binary_error', 'min_child_samples': 5, 'min_child_weight': 1, 'min_split_gain': 0.5, 'n_estimators': 330, 'nthread': 5, 'num_class': 1, 'num_leaves': 6, 'objective': 'binary', 'random_state': 228, 'reg_alpha': 1, 'reg_lambda': 1, 'scale_pos_weight': 1, 'subsample': 0.7, 'subsample_for_bin': 200, 'subsample_freq': 1}\n",
      "0.7791316470288603 {'boosting_type': 'gbdt', 'colsample_bytree': 0.66, 'learning_rate': 0.2, 'num_iterations': 1200, 'max_bin': 512, 'max_depth': 3, 'metric': 'binary_error', 'min_child_samples': 5, 'min_child_weight': 1, 'min_split_gain': 0.5, 'n_estimators': 410, 'nthread': 5, 'num_class': 1, 'num_leaves': 6, 'objective': 'binary', 'random_state': 228, 'reg_alpha': 1, 'reg_lambda': 1, 'scale_pos_weight': 1, 'subsample': 0.7, 'subsample_for_bin': 200, 'subsample_freq': 1} best: 0.7800029489870098 {'boosting_type': 'gbdt', 'colsample_bytree': 0.66, 'learning_rate': 0.2, 'num_iterations': 1200, 'max_bin': 512, 'max_depth': 3, 'metric': 'binary_error', 'min_child_samples': 5, 'min_child_weight': 1, 'min_split_gain': 0.5, 'n_estimators': 330, 'nthread': 5, 'num_class': 1, 'num_leaves': 6, 'objective': 'binary', 'random_state': 228, 'reg_alpha': 1, 'reg_lambda': 1, 'scale_pos_weight': 1, 'subsample': 0.7, 'subsample_for_bin': 200, 'subsample_freq': 1}\n",
      "0.7793394190426403 {'boosting_type': 'gbdt', 'colsample_bytree': 0.66, 'learning_rate': 0.2, 'num_iterations': 1200, 'max_bin': 512, 'max_depth': 3, 'metric': 'binary_error', 'min_child_samples': 5, 'min_child_weight': 1, 'min_split_gain': 0.5, 'n_estimators': 490, 'nthread': 5, 'num_class': 1, 'num_leaves': 6, 'objective': 'binary', 'random_state': 228, 'reg_alpha': 1, 'reg_lambda': 1, 'scale_pos_weight': 1, 'subsample': 0.7, 'subsample_for_bin': 200, 'subsample_freq': 1} best: 0.7800029489870098 {'boosting_type': 'gbdt', 'colsample_bytree': 0.66, 'learning_rate': 0.2, 'num_iterations': 1200, 'max_bin': 512, 'max_depth': 3, 'metric': 'binary_error', 'min_child_samples': 5, 'min_child_weight': 1, 'min_split_gain': 0.5, 'n_estimators': 330, 'nthread': 5, 'num_class': 1, 'num_leaves': 6, 'objective': 'binary', 'random_state': 228, 'reg_alpha': 1, 'reg_lambda': 1, 'scale_pos_weight': 1, 'subsample': 0.7, 'subsample_for_bin': 200, 'subsample_freq': 1}\n",
      "0.778870256430879 {'boosting_type': 'gbdt', 'colsample_bytree': 0.66, 'learning_rate': 0.2, 'num_iterations': 1200, 'max_bin': 512, 'max_depth': 3, 'metric': 'binary_error', 'min_child_samples': 5, 'min_child_weight': 1, 'min_split_gain': 0.5, 'n_estimators': 570, 'nthread': 5, 'num_class': 1, 'num_leaves': 6, 'objective': 'binary', 'random_state': 228, 'reg_alpha': 1, 'reg_lambda': 1, 'scale_pos_weight': 1, 'subsample': 0.7, 'subsample_for_bin': 200, 'subsample_freq': 1} best: 0.7800029489870098 {'boosting_type': 'gbdt', 'colsample_bytree': 0.66, 'learning_rate': 0.2, 'num_iterations': 1200, 'max_bin': 512, 'max_depth': 3, 'metric': 'binary_error', 'min_child_samples': 5, 'min_child_weight': 1, 'min_split_gain': 0.5, 'n_estimators': 330, 'nthread': 5, 'num_class': 1, 'num_leaves': 6, 'objective': 'binary', 'random_state': 228, 'reg_alpha': 1, 'reg_lambda': 1, 'scale_pos_weight': 1, 'subsample': 0.7, 'subsample_for_bin': 200, 'subsample_freq': 1}\n",
      "0.7789037680460048 {'boosting_type': 'gbdt', 'colsample_bytree': 0.66, 'learning_rate': 0.2, 'num_iterations': 1200, 'max_bin': 512, 'max_depth': 3, 'metric': 'binary_error', 'min_child_samples': 5, 'min_child_weight': 1, 'min_split_gain': 0.5, 'n_estimators': 650, 'nthread': 5, 'num_class': 1, 'num_leaves': 6, 'objective': 'binary', 'random_state': 228, 'reg_alpha': 1, 'reg_lambda': 1, 'scale_pos_weight': 1, 'subsample': 0.7, 'subsample_for_bin': 200, 'subsample_freq': 1} best: 0.7800029489870098 {'boosting_type': 'gbdt', 'colsample_bytree': 0.66, 'learning_rate': 0.2, 'num_iterations': 1200, 'max_bin': 512, 'max_depth': 3, 'metric': 'binary_error', 'min_child_samples': 5, 'min_child_weight': 1, 'min_split_gain': 0.5, 'n_estimators': 330, 'nthread': 5, 'num_class': 1, 'num_leaves': 6, 'objective': 'binary', 'random_state': 228, 'reg_alpha': 1, 'reg_lambda': 1, 'scale_pos_weight': 1, 'subsample': 0.7, 'subsample_for_bin': 200, 'subsample_freq': 1}\n"
     ]
    },
    {
     "name": "stdout",
     "output_type": "stream",
     "text": [
      "0.7773555314271926 {'boosting_type': 'gbdt', 'colsample_bytree': 0.66, 'learning_rate': 0.2, 'num_iterations': 1200, 'max_bin': 512, 'max_depth': 3, 'metric': 'binary_error', 'min_child_samples': 5, 'min_child_weight': 1, 'min_split_gain': 0.5, 'n_estimators': 730, 'nthread': 5, 'num_class': 1, 'num_leaves': 6, 'objective': 'binary', 'random_state': 228, 'reg_alpha': 1, 'reg_lambda': 1, 'scale_pos_weight': 1, 'subsample': 0.7, 'subsample_for_bin': 200, 'subsample_freq': 1} best: 0.7800029489870098 {'boosting_type': 'gbdt', 'colsample_bytree': 0.66, 'learning_rate': 0.2, 'num_iterations': 1200, 'max_bin': 512, 'max_depth': 3, 'metric': 'binary_error', 'min_child_samples': 5, 'min_child_weight': 1, 'min_split_gain': 0.5, 'n_estimators': 330, 'nthread': 5, 'num_class': 1, 'num_leaves': 6, 'objective': 'binary', 'random_state': 228, 'reg_alpha': 1, 'reg_lambda': 1, 'scale_pos_weight': 1, 'subsample': 0.7, 'subsample_for_bin': 200, 'subsample_freq': 1}\n",
      "0.7793461213656654 {'boosting_type': 'gbdt', 'colsample_bytree': 0.66, 'learning_rate': 0.2, 'num_iterations': 1200, 'max_bin': 512, 'max_depth': 3, 'metric': 'binary_error', 'min_child_samples': 5, 'min_child_weight': 1, 'min_split_gain': 0.5, 'n_estimators': 810, 'nthread': 5, 'num_class': 1, 'num_leaves': 6, 'objective': 'binary', 'random_state': 228, 'reg_alpha': 1, 'reg_lambda': 1, 'scale_pos_weight': 1, 'subsample': 0.7, 'subsample_for_bin': 200, 'subsample_freq': 1} best: 0.7800029489870098 {'boosting_type': 'gbdt', 'colsample_bytree': 0.66, 'learning_rate': 0.2, 'num_iterations': 1200, 'max_bin': 512, 'max_depth': 3, 'metric': 'binary_error', 'min_child_samples': 5, 'min_child_weight': 1, 'min_split_gain': 0.5, 'n_estimators': 330, 'nthread': 5, 'num_class': 1, 'num_leaves': 6, 'objective': 'binary', 'random_state': 228, 'reg_alpha': 1, 'reg_lambda': 1, 'scale_pos_weight': 1, 'subsample': 0.7, 'subsample_for_bin': 200, 'subsample_freq': 1}\n",
      "0.7794600608570931 {'boosting_type': 'gbdt', 'colsample_bytree': 0.66, 'learning_rate': 0.2, 'num_iterations': 1200, 'max_bin': 512, 'max_depth': 3, 'metric': 'binary_error', 'min_child_samples': 5, 'min_child_weight': 1, 'min_split_gain': 0.5, 'n_estimators': 890, 'nthread': 5, 'num_class': 1, 'num_leaves': 6, 'objective': 'binary', 'random_state': 228, 'reg_alpha': 1, 'reg_lambda': 1, 'scale_pos_weight': 1, 'subsample': 0.7, 'subsample_for_bin': 200, 'subsample_freq': 1} best: 0.7800029489870098 {'boosting_type': 'gbdt', 'colsample_bytree': 0.66, 'learning_rate': 0.2, 'num_iterations': 1200, 'max_bin': 512, 'max_depth': 3, 'metric': 'binary_error', 'min_child_samples': 5, 'min_child_weight': 1, 'min_split_gain': 0.5, 'n_estimators': 330, 'nthread': 5, 'num_class': 1, 'num_leaves': 6, 'objective': 'binary', 'random_state': 228, 'reg_alpha': 1, 'reg_lambda': 1, 'scale_pos_weight': 1, 'subsample': 0.7, 'subsample_for_bin': 200, 'subsample_freq': 1}\n",
      "0.7790177075374324 {'boosting_type': 'gbdt', 'colsample_bytree': 0.66, 'learning_rate': 0.2, 'num_iterations': 1200, 'max_bin': 512, 'max_depth': 3, 'metric': 'binary_error', 'min_child_samples': 5, 'min_child_weight': 1, 'min_split_gain': 0.5, 'n_estimators': 970, 'nthread': 5, 'num_class': 1, 'num_leaves': 6, 'objective': 'binary', 'random_state': 228, 'reg_alpha': 1, 'reg_lambda': 1, 'scale_pos_weight': 1, 'subsample': 0.7, 'subsample_for_bin': 200, 'subsample_freq': 1} best: 0.7800029489870098 {'boosting_type': 'gbdt', 'colsample_bytree': 0.66, 'learning_rate': 0.2, 'num_iterations': 1200, 'max_bin': 512, 'max_depth': 3, 'metric': 'binary_error', 'min_child_samples': 5, 'min_child_weight': 1, 'min_split_gain': 0.5, 'n_estimators': 330, 'nthread': 5, 'num_class': 1, 'num_leaves': 6, 'objective': 'binary', 'random_state': 228, 'reg_alpha': 1, 'reg_lambda': 1, 'scale_pos_weight': 1, 'subsample': 0.7, 'subsample_for_bin': 200, 'subsample_freq': 1}\n",
      "0.7796678328708729 {'boosting_type': 'gbdt', 'colsample_bytree': 0.66, 'learning_rate': 0.2, 'num_iterations': 1200, 'max_bin': 512, 'max_depth': 3, 'metric': 'binary_error', 'min_child_samples': 5, 'min_child_weight': 1, 'min_split_gain': 0.5, 'n_estimators': 1050, 'nthread': 5, 'num_class': 1, 'num_leaves': 6, 'objective': 'binary', 'random_state': 228, 'reg_alpha': 1, 'reg_lambda': 1, 'scale_pos_weight': 1, 'subsample': 0.7, 'subsample_for_bin': 200, 'subsample_freq': 1} best: 0.7800029489870098 {'boosting_type': 'gbdt', 'colsample_bytree': 0.66, 'learning_rate': 0.2, 'num_iterations': 1200, 'max_bin': 512, 'max_depth': 3, 'metric': 'binary_error', 'min_child_samples': 5, 'min_child_weight': 1, 'min_split_gain': 0.5, 'n_estimators': 330, 'nthread': 5, 'num_class': 1, 'num_leaves': 6, 'objective': 'binary', 'random_state': 228, 'reg_alpha': 1, 'reg_lambda': 1, 'scale_pos_weight': 1, 'subsample': 0.7, 'subsample_for_bin': 200, 'subsample_freq': 1}\n",
      "0.7787965308776021 {'boosting_type': 'gbdt', 'colsample_bytree': 0.66, 'learning_rate': 0.2, 'num_iterations': 1200, 'max_bin': 512, 'max_depth': 3, 'metric': 'binary_error', 'min_child_samples': 5, 'min_child_weight': 1, 'min_split_gain': 0.5, 'n_estimators': 1130, 'nthread': 5, 'num_class': 1, 'num_leaves': 6, 'objective': 'binary', 'random_state': 228, 'reg_alpha': 1, 'reg_lambda': 1, 'scale_pos_weight': 1, 'subsample': 0.7, 'subsample_for_bin': 200, 'subsample_freq': 1} best: 0.7800029489870098 {'boosting_type': 'gbdt', 'colsample_bytree': 0.66, 'learning_rate': 0.2, 'num_iterations': 1200, 'max_bin': 512, 'max_depth': 3, 'metric': 'binary_error', 'min_child_samples': 5, 'min_child_weight': 1, 'min_split_gain': 0.5, 'n_estimators': 330, 'nthread': 5, 'num_class': 1, 'num_leaves': 6, 'objective': 'binary', 'random_state': 228, 'reg_alpha': 1, 'reg_lambda': 1, 'scale_pos_weight': 1, 'subsample': 0.7, 'subsample_for_bin': 200, 'subsample_freq': 1}\n",
      "0.780874251015402 {'boosting_type': 'gbdt', 'colsample_bytree': 0.66, 'learning_rate': 0.2, 'num_iterations': 1200, 'max_bin': 512, 'max_depth': 3, 'metric': 'binary_error', 'min_child_samples': 5, 'min_child_weight': 1, 'min_split_gain': 0.5, 'n_estimators': 330, 'nthread': 5, 'num_class': 1, 'num_leaves': 8, 'objective': 'binary', 'random_state': 228, 'reg_alpha': 1, 'reg_lambda': 1, 'scale_pos_weight': 1, 'subsample': 0.7, 'subsample_for_bin': 200, 'subsample_freq': 1} best: 0.7808742509111879 {'boosting_type': 'gbdt', 'colsample_bytree': 0.66, 'learning_rate': 0.2, 'num_iterations': 1200, 'max_bin': 512, 'max_depth': 3, 'metric': 'binary_error', 'min_child_samples': 5, 'min_child_weight': 1, 'min_split_gain': 0.5, 'n_estimators': 330, 'nthread': 5, 'num_class': 1, 'num_leaves': 8, 'objective': 'binary', 'random_state': 228, 'reg_alpha': 1, 'reg_lambda': 1, 'scale_pos_weight': 1, 'subsample': 0.7, 'subsample_for_bin': 200, 'subsample_freq': 1}\n",
      "0.7808072277851504 {'boosting_type': 'gbdt', 'colsample_bytree': 0.66, 'learning_rate': 0.2, 'num_iterations': 1200, 'max_bin': 512, 'max_depth': 3, 'metric': 'binary_error', 'min_child_samples': 5, 'min_child_weight': 1, 'min_split_gain': 0.5, 'n_estimators': 330, 'nthread': 5, 'num_class': 1, 'num_leaves': 12, 'objective': 'binary', 'random_state': 228, 'reg_alpha': 1, 'reg_lambda': 1, 'scale_pos_weight': 1, 'subsample': 0.7, 'subsample_for_bin': 200, 'subsample_freq': 1} best: 0.7808742509111879 {'boosting_type': 'gbdt', 'colsample_bytree': 0.66, 'learning_rate': 0.2, 'num_iterations': 1200, 'max_bin': 512, 'max_depth': 3, 'metric': 'binary_error', 'min_child_samples': 5, 'min_child_weight': 1, 'min_split_gain': 0.5, 'n_estimators': 330, 'nthread': 5, 'num_class': 1, 'num_leaves': 8, 'objective': 'binary', 'random_state': 228, 'reg_alpha': 1, 'reg_lambda': 1, 'scale_pos_weight': 1, 'subsample': 0.7, 'subsample_for_bin': 200, 'subsample_freq': 1}\n",
      "0.7811825578745593 {'boosting_type': 'gbdt', 'colsample_bytree': 0.66, 'learning_rate': 0.2, 'num_iterations': 1200, 'max_bin': 512, 'max_depth': 3, 'metric': 'binary_error', 'min_child_samples': 5, 'min_child_weight': 1, 'min_split_gain': 0.5, 'n_estimators': 330, 'nthread': 5, 'num_class': 1, 'num_leaves': 16, 'objective': 'binary', 'random_state': 228, 'reg_alpha': 1, 'reg_lambda': 1, 'scale_pos_weight': 1, 'subsample': 0.7, 'subsample_for_bin': 200, 'subsample_freq': 1} best: 0.7811825579789591 {'boosting_type': 'gbdt', 'colsample_bytree': 0.66, 'learning_rate': 0.2, 'num_iterations': 1200, 'max_bin': 512, 'max_depth': 3, 'metric': 'binary_error', 'min_child_samples': 5, 'min_child_weight': 1, 'min_split_gain': 0.5, 'n_estimators': 330, 'nthread': 5, 'num_class': 1, 'num_leaves': 16, 'objective': 'binary', 'random_state': 228, 'reg_alpha': 1, 'reg_lambda': 1, 'scale_pos_weight': 1, 'subsample': 0.7, 'subsample_for_bin': 200, 'subsample_freq': 1}\n"
     ]
    },
    {
     "name": "stdout",
     "output_type": "stream",
     "text": [
      "0.7791584563209609 {'boosting_type': 'gbdt', 'colsample_bytree': 0.66, 'learning_rate': 0.2, 'num_iterations': 1200, 'max_bin': 512, 'max_depth': 3, 'metric': 'binary_error', 'min_child_samples': 5, 'min_child_weight': 1, 'min_split_gain': 0.5, 'n_estimators': 330, 'nthread': 5, 'num_class': 1, 'num_leaves': 16, 'objective': 'binary', 'random_state': 228, 'reg_alpha': 1.2, 'reg_lambda': 1, 'scale_pos_weight': 1, 'subsample': 0.7, 'subsample_for_bin': 200, 'subsample_freq': 1} best: 0.7811825579789591 {'boosting_type': 'gbdt', 'colsample_bytree': 0.66, 'learning_rate': 0.2, 'num_iterations': 1200, 'max_bin': 512, 'max_depth': 3, 'metric': 'binary_error', 'min_child_samples': 5, 'min_child_weight': 1, 'min_split_gain': 0.5, 'n_estimators': 330, 'nthread': 5, 'num_class': 1, 'num_leaves': 16, 'objective': 'binary', 'random_state': 228, 'reg_alpha': 1, 'reg_lambda': 1, 'scale_pos_weight': 1, 'subsample': 0.7, 'subsample_for_bin': 200, 'subsample_freq': 1}\n",
      "0.7794466562110428 {'boosting_type': 'gbdt', 'colsample_bytree': 0.66, 'learning_rate': 0.2, 'num_iterations': 1200, 'max_bin': 512, 'max_depth': 3, 'metric': 'binary_error', 'min_child_samples': 5, 'min_child_weight': 1, 'min_split_gain': 0.5, 'n_estimators': 330, 'nthread': 5, 'num_class': 1, 'num_leaves': 16, 'objective': 'binary', 'random_state': 228, 'reg_alpha': 1.3, 'reg_lambda': 1, 'scale_pos_weight': 1, 'subsample': 0.7, 'subsample_for_bin': 200, 'subsample_freq': 1} best: 0.7811825579789591 {'boosting_type': 'gbdt', 'colsample_bytree': 0.66, 'learning_rate': 0.2, 'num_iterations': 1200, 'max_bin': 512, 'max_depth': 3, 'metric': 'binary_error', 'min_child_samples': 5, 'min_child_weight': 1, 'min_split_gain': 0.5, 'n_estimators': 330, 'nthread': 5, 'num_class': 1, 'num_leaves': 16, 'objective': 'binary', 'random_state': 228, 'reg_alpha': 1, 'reg_lambda': 1, 'scale_pos_weight': 1, 'subsample': 0.7, 'subsample_for_bin': 200, 'subsample_freq': 1}\n",
      "0.7802107210359109 {'boosting_type': 'gbdt', 'colsample_bytree': 0.66, 'learning_rate': 0.2, 'num_iterations': 1200, 'max_bin': 512, 'max_depth': 3, 'metric': 'binary_error', 'min_child_samples': 5, 'min_child_weight': 1, 'min_split_gain': 0.5, 'n_estimators': 330, 'nthread': 5, 'num_class': 1, 'num_leaves': 16, 'objective': 'binary', 'random_state': 228, 'reg_alpha': 1.4, 'reg_lambda': 1, 'scale_pos_weight': 1, 'subsample': 0.7, 'subsample_for_bin': 200, 'subsample_freq': 1} best: 0.7811825579789591 {'boosting_type': 'gbdt', 'colsample_bytree': 0.66, 'learning_rate': 0.2, 'num_iterations': 1200, 'max_bin': 512, 'max_depth': 3, 'metric': 'binary_error', 'min_child_samples': 5, 'min_child_weight': 1, 'min_split_gain': 0.5, 'n_estimators': 330, 'nthread': 5, 'num_class': 1, 'num_leaves': 16, 'objective': 'binary', 'random_state': 228, 'reg_alpha': 1, 'reg_lambda': 1, 'scale_pos_weight': 1, 'subsample': 0.7, 'subsample_for_bin': 200, 'subsample_freq': 1}\n",
      "0.7805793488022948 {'boosting_type': 'gbdt', 'colsample_bytree': 0.66, 'learning_rate': 0.2, 'num_iterations': 1200, 'max_bin': 512, 'max_depth': 3, 'metric': 'binary_error', 'min_child_samples': 5, 'min_child_weight': 1, 'min_split_gain': 0.5, 'n_estimators': 330, 'nthread': 5, 'num_class': 1, 'num_leaves': 16, 'objective': 'binary', 'random_state': 228, 'reg_alpha': 1, 'reg_lambda': 1.2, 'scale_pos_weight': 1, 'subsample': 0.7, 'subsample_for_bin': 200, 'subsample_freq': 1} best: 0.7811825579789591 {'boosting_type': 'gbdt', 'colsample_bytree': 0.66, 'learning_rate': 0.2, 'num_iterations': 1200, 'max_bin': 512, 'max_depth': 3, 'metric': 'binary_error', 'min_child_samples': 5, 'min_child_weight': 1, 'min_split_gain': 0.5, 'n_estimators': 330, 'nthread': 5, 'num_class': 1, 'num_leaves': 16, 'objective': 'binary', 'random_state': 228, 'reg_alpha': 1, 'reg_lambda': 1, 'scale_pos_weight': 1, 'subsample': 0.7, 'subsample_for_bin': 200, 'subsample_freq': 1}\n",
      "0.7812897950429619 {'boosting_type': 'gbdt', 'colsample_bytree': 0.66, 'learning_rate': 0.2, 'num_iterations': 1200, 'max_bin': 512, 'max_depth': 3, 'metric': 'binary_error', 'min_child_samples': 5, 'min_child_weight': 1, 'min_split_gain': 0.5, 'n_estimators': 330, 'nthread': 5, 'num_class': 1, 'num_leaves': 16, 'objective': 'binary', 'random_state': 228, 'reg_alpha': 1, 'reg_lambda': 1.4, 'scale_pos_weight': 1, 'subsample': 0.7, 'subsample_for_bin': 200, 'subsample_freq': 1} best: 0.7812897951153972 {'boosting_type': 'gbdt', 'colsample_bytree': 0.66, 'learning_rate': 0.2, 'num_iterations': 1200, 'max_bin': 512, 'max_depth': 3, 'metric': 'binary_error', 'min_child_samples': 5, 'min_child_weight': 1, 'min_split_gain': 0.5, 'n_estimators': 330, 'nthread': 5, 'num_class': 1, 'num_leaves': 16, 'objective': 'binary', 'random_state': 228, 'reg_alpha': 1, 'reg_lambda': 1.4, 'scale_pos_weight': 1, 'subsample': 0.7, 'subsample_for_bin': 200, 'subsample_freq': 1}\n",
      "0.7798622002386028 {'boosting_type': 'gbdt', 'colsample_bytree': 0.66, 'learning_rate': 0.2, 'num_iterations': 1200, 'max_bin': 512, 'max_depth': 3, 'metric': 'binary_error', 'min_child_samples': 5, 'min_child_weight': 1, 'min_split_gain': 0.5, 'n_estimators': 330, 'nthread': 5, 'num_class': 1, 'num_leaves': 16, 'objective': 'binary', 'random_state': 228, 'reg_alpha': 1, 'reg_lambda': 1.5, 'scale_pos_weight': 1, 'subsample': 0.7, 'subsample_for_bin': 200, 'subsample_freq': 1} best: 0.7812897951153972 {'boosting_type': 'gbdt', 'colsample_bytree': 0.66, 'learning_rate': 0.2, 'num_iterations': 1200, 'max_bin': 512, 'max_depth': 3, 'metric': 'binary_error', 'min_child_samples': 5, 'min_child_weight': 1, 'min_split_gain': 0.5, 'n_estimators': 330, 'nthread': 5, 'num_class': 1, 'num_leaves': 16, 'objective': 'binary', 'random_state': 228, 'reg_alpha': 1, 'reg_lambda': 1.4, 'scale_pos_weight': 1, 'subsample': 0.7, 'subsample_for_bin': 200, 'subsample_freq': 1}\n",
      "0.7813970322113645 {'boosting_type': 'gbdt', 'colsample_bytree': 0.66, 'learning_rate': 0.2, 'num_iterations': 1200, 'max_bin': 512, 'max_depth': 3, 'metric': 'binary_error', 'min_child_samples': 5, 'min_child_weight': 1, 'min_split_gain': 0.5, 'n_estimators': 330, 'nthread': 5, 'num_class': 1, 'num_leaves': 16, 'objective': 'binary', 'random_state': 228, 'reg_alpha': 1, 'reg_lambda': 1.6, 'scale_pos_weight': 1, 'subsample': 0.7, 'subsample_for_bin': 200, 'subsample_freq': 1} best: 0.781397032171313 {'boosting_type': 'gbdt', 'colsample_bytree': 0.66, 'learning_rate': 0.2, 'num_iterations': 1200, 'max_bin': 512, 'max_depth': 3, 'metric': 'binary_error', 'min_child_samples': 5, 'min_child_weight': 1, 'min_split_gain': 0.5, 'n_estimators': 330, 'nthread': 5, 'num_class': 1, 'num_leaves': 16, 'objective': 'binary', 'random_state': 228, 'reg_alpha': 1, 'reg_lambda': 1.6, 'scale_pos_weight': 1, 'subsample': 0.7, 'subsample_for_bin': 200, 'subsample_freq': 1}\n",
      "0.7811088323212826 {'boosting_type': 'gbdt', 'colsample_bytree': 0.66, 'learning_rate': 0.2, 'num_iterations': 1200, 'max_bin': 512, 'max_depth': 3, 'metric': 'binary_error', 'min_child_samples': 5, 'min_child_weight': 1, 'min_split_gain': 0.5, 'n_estimators': 330, 'nthread': 5, 'num_class': 1, 'num_leaves': 16, 'objective': 'binary', 'random_state': 228, 'reg_alpha': 1, 'reg_lambda': 1.6, 'scale_pos_weight': 1, 'subsample': 0.75, 'subsample_for_bin': 200, 'subsample_freq': 1} best: 0.781397032171313 {'boosting_type': 'gbdt', 'colsample_bytree': 0.66, 'learning_rate': 0.2, 'num_iterations': 1200, 'max_bin': 512, 'max_depth': 3, 'metric': 'binary_error', 'min_child_samples': 5, 'min_child_weight': 1, 'min_split_gain': 0.5, 'n_estimators': 330, 'nthread': 5, 'num_class': 1, 'num_leaves': 16, 'objective': 'binary', 'random_state': 228, 'reg_alpha': 1, 'reg_lambda': 1.6, 'scale_pos_weight': 1, 'subsample': 0.7, 'subsample_for_bin': 200, 'subsample_freq': 1}\n",
      "0.7310960979075348 {'boosting_type': 'gbdt', 'colsample_bytree': 0.66, 'learning_rate': 0.2, 'num_iterations': 1200, 'max_bin': 512, 'max_depth': 1, 'metric': 'binary_error', 'min_child_samples': 5, 'min_child_weight': 1, 'min_split_gain': 0.5, 'n_estimators': 330, 'nthread': 5, 'num_class': 1, 'num_leaves': 16, 'objective': 'binary', 'random_state': 228, 'reg_alpha': 1, 'reg_lambda': 1.6, 'scale_pos_weight': 1, 'subsample': 0.7, 'subsample_for_bin': 200, 'subsample_freq': 1} best: 0.781397032171313 {'boosting_type': 'gbdt', 'colsample_bytree': 0.66, 'learning_rate': 0.2, 'num_iterations': 1200, 'max_bin': 512, 'max_depth': 3, 'metric': 'binary_error', 'min_child_samples': 5, 'min_child_weight': 1, 'min_split_gain': 0.5, 'n_estimators': 330, 'nthread': 5, 'num_class': 1, 'num_leaves': 16, 'objective': 'binary', 'random_state': 228, 'reg_alpha': 1, 'reg_lambda': 1.6, 'scale_pos_weight': 1, 'subsample': 0.7, 'subsample_for_bin': 200, 'subsample_freq': 1}\n"
     ]
    },
    {
     "name": "stdout",
     "output_type": "stream",
     "text": [
      "0.7713301430275733 {'boosting_type': 'gbdt', 'colsample_bytree': 0.66, 'learning_rate': 0.2, 'num_iterations': 1200, 'max_bin': 512, 'max_depth': 2, 'metric': 'binary_error', 'min_child_samples': 5, 'min_child_weight': 1, 'min_split_gain': 0.5, 'n_estimators': 330, 'nthread': 5, 'num_class': 1, 'num_leaves': 16, 'objective': 'binary', 'random_state': 228, 'reg_alpha': 1, 'reg_lambda': 1.6, 'scale_pos_weight': 1, 'subsample': 0.7, 'subsample_for_bin': 200, 'subsample_freq': 1} best: 0.781397032171313 {'boosting_type': 'gbdt', 'colsample_bytree': 0.66, 'learning_rate': 0.2, 'num_iterations': 1200, 'max_bin': 512, 'max_depth': 3, 'metric': 'binary_error', 'min_child_samples': 5, 'min_child_weight': 1, 'min_split_gain': 0.5, 'n_estimators': 330, 'nthread': 5, 'num_class': 1, 'num_leaves': 16, 'objective': 'binary', 'random_state': 228, 'reg_alpha': 1, 'reg_lambda': 1.6, 'scale_pos_weight': 1, 'subsample': 0.7, 'subsample_for_bin': 200, 'subsample_freq': 1}\n",
      "0.7794667631801181 {'boosting_type': 'gbdt', 'colsample_bytree': 0.66, 'learning_rate': 0.2, 'num_iterations': 1200, 'max_bin': 512, 'max_depth': 6, 'metric': 'binary_error', 'min_child_samples': 5, 'min_child_weight': 1, 'min_split_gain': 0.5, 'n_estimators': 330, 'nthread': 5, 'num_class': 1, 'num_leaves': 16, 'objective': 'binary', 'random_state': 228, 'reg_alpha': 1, 'reg_lambda': 1.6, 'scale_pos_weight': 1, 'subsample': 0.7, 'subsample_for_bin': 200, 'subsample_freq': 1} best: 0.781397032171313 {'boosting_type': 'gbdt', 'colsample_bytree': 0.66, 'learning_rate': 0.2, 'num_iterations': 1200, 'max_bin': 512, 'max_depth': 3, 'metric': 'binary_error', 'min_child_samples': 5, 'min_child_weight': 1, 'min_split_gain': 0.5, 'n_estimators': 330, 'nthread': 5, 'num_class': 1, 'num_leaves': 16, 'objective': 'binary', 'random_state': 228, 'reg_alpha': 1, 'reg_lambda': 1.6, 'scale_pos_weight': 1, 'subsample': 0.7, 'subsample_for_bin': 200, 'subsample_freq': 1}\n",
      "0.780834037077251 {'boosting_type': 'gbdt', 'colsample_bytree': 0.66, 'learning_rate': 0.2, 'num_iterations': 1200, 'max_bin': 512, 'max_depth': 4, 'metric': 'binary_error', 'min_child_samples': 5, 'min_child_weight': 1, 'min_split_gain': 0.5, 'n_estimators': 330, 'nthread': 5, 'num_class': 1, 'num_leaves': 16, 'objective': 'binary', 'random_state': 228, 'reg_alpha': 1, 'reg_lambda': 1.6, 'scale_pos_weight': 1, 'subsample': 0.7, 'subsample_for_bin': 200, 'subsample_freq': 1} best: 0.781397032171313 {'boosting_type': 'gbdt', 'colsample_bytree': 0.66, 'learning_rate': 0.2, 'num_iterations': 1200, 'max_bin': 512, 'max_depth': 3, 'metric': 'binary_error', 'min_child_samples': 5, 'min_child_weight': 1, 'min_split_gain': 0.5, 'n_estimators': 330, 'nthread': 5, 'num_class': 1, 'num_leaves': 16, 'objective': 'binary', 'random_state': 228, 'reg_alpha': 1, 'reg_lambda': 1.6, 'scale_pos_weight': 1, 'subsample': 0.7, 'subsample_for_bin': 200, 'subsample_freq': 1}\n",
      "0.7790579214755834 {'boosting_type': 'gbdt', 'colsample_bytree': 0.66, 'learning_rate': 0.2, 'num_iterations': 1200, 'max_bin': 512, 'max_depth': 5, 'metric': 'binary_error', 'min_child_samples': 5, 'min_child_weight': 1, 'min_split_gain': 0.5, 'n_estimators': 330, 'nthread': 5, 'num_class': 1, 'num_leaves': 16, 'objective': 'binary', 'random_state': 228, 'reg_alpha': 1, 'reg_lambda': 1.6, 'scale_pos_weight': 1, 'subsample': 0.7, 'subsample_for_bin': 200, 'subsample_freq': 1} best: 0.781397032171313 {'boosting_type': 'gbdt', 'colsample_bytree': 0.66, 'learning_rate': 0.2, 'num_iterations': 1200, 'max_bin': 512, 'max_depth': 3, 'metric': 'binary_error', 'min_child_samples': 5, 'min_child_weight': 1, 'min_split_gain': 0.5, 'n_estimators': 330, 'nthread': 5, 'num_class': 1, 'num_leaves': 16, 'objective': 'binary', 'random_state': 228, 'reg_alpha': 1, 'reg_lambda': 1.6, 'scale_pos_weight': 1, 'subsample': 0.7, 'subsample_for_bin': 200, 'subsample_freq': 1}\n",
      "0.7783273682658409 {'boosting_type': 'gbdt', 'colsample_bytree': 0.66, 'learning_rate': 0.2, 'num_iterations': 1200, 'max_bin': 512, 'max_depth': 7, 'metric': 'binary_error', 'min_child_samples': 5, 'min_child_weight': 1, 'min_split_gain': 0.5, 'n_estimators': 330, 'nthread': 5, 'num_class': 1, 'num_leaves': 16, 'objective': 'binary', 'random_state': 228, 'reg_alpha': 1, 'reg_lambda': 1.6, 'scale_pos_weight': 1, 'subsample': 0.7, 'subsample_for_bin': 200, 'subsample_freq': 1} best: 0.781397032171313 {'boosting_type': 'gbdt', 'colsample_bytree': 0.66, 'learning_rate': 0.2, 'num_iterations': 1200, 'max_bin': 512, 'max_depth': 3, 'metric': 'binary_error', 'min_child_samples': 5, 'min_child_weight': 1, 'min_split_gain': 0.5, 'n_estimators': 330, 'nthread': 5, 'num_class': 1, 'num_leaves': 16, 'objective': 'binary', 'random_state': 228, 'reg_alpha': 1, 'reg_lambda': 1.6, 'scale_pos_weight': 1, 'subsample': 0.7, 'subsample_for_bin': 200, 'subsample_freq': 1}\n",
      "0.7788836610769293 {'boosting_type': 'gbdt', 'colsample_bytree': 0.66, 'learning_rate': 0.2, 'num_iterations': 1200, 'max_bin': 512, 'max_depth': 8, 'metric': 'binary_error', 'min_child_samples': 5, 'min_child_weight': 1, 'min_split_gain': 0.5, 'n_estimators': 330, 'nthread': 5, 'num_class': 1, 'num_leaves': 16, 'objective': 'binary', 'random_state': 228, 'reg_alpha': 1, 'reg_lambda': 1.6, 'scale_pos_weight': 1, 'subsample': 0.7, 'subsample_for_bin': 200, 'subsample_freq': 1} best: 0.781397032171313 {'boosting_type': 'gbdt', 'colsample_bytree': 0.66, 'learning_rate': 0.2, 'num_iterations': 1200, 'max_bin': 512, 'max_depth': 3, 'metric': 'binary_error', 'min_child_samples': 5, 'min_child_weight': 1, 'min_split_gain': 0.5, 'n_estimators': 330, 'nthread': 5, 'num_class': 1, 'num_leaves': 16, 'objective': 'binary', 'random_state': 228, 'reg_alpha': 1, 'reg_lambda': 1.6, 'scale_pos_weight': 1, 'subsample': 0.7, 'subsample_for_bin': 200, 'subsample_freq': 1}\n",
      "0.7779855497915578 {'boosting_type': 'gbdt', 'colsample_bytree': 0.66, 'learning_rate': 0.2, 'num_iterations': 1200, 'max_bin': 512, 'max_depth': 9, 'metric': 'binary_error', 'min_child_samples': 5, 'min_child_weight': 1, 'min_split_gain': 0.5, 'n_estimators': 330, 'nthread': 5, 'num_class': 1, 'num_leaves': 16, 'objective': 'binary', 'random_state': 228, 'reg_alpha': 1, 'reg_lambda': 1.6, 'scale_pos_weight': 1, 'subsample': 0.7, 'subsample_for_bin': 200, 'subsample_freq': 1} best: 0.781397032171313 {'boosting_type': 'gbdt', 'colsample_bytree': 0.66, 'learning_rate': 0.2, 'num_iterations': 1200, 'max_bin': 512, 'max_depth': 3, 'metric': 'binary_error', 'min_child_samples': 5, 'min_child_weight': 1, 'min_split_gain': 0.5, 'n_estimators': 330, 'nthread': 5, 'num_class': 1, 'num_leaves': 16, 'objective': 'binary', 'random_state': 228, 'reg_alpha': 1, 'reg_lambda': 1.6, 'scale_pos_weight': 1, 'subsample': 0.7, 'subsample_for_bin': 200, 'subsample_freq': 1}\n",
      "0.7785887588638222 {'boosting_type': 'gbdt', 'colsample_bytree': 0.66, 'learning_rate': 0.2, 'num_iterations': 1200, 'max_bin': 512, 'max_depth': 10, 'metric': 'binary_error', 'min_child_samples': 5, 'min_child_weight': 1, 'min_split_gain': 0.5, 'n_estimators': 330, 'nthread': 5, 'num_class': 1, 'num_leaves': 16, 'objective': 'binary', 'random_state': 228, 'reg_alpha': 1, 'reg_lambda': 1.6, 'scale_pos_weight': 1, 'subsample': 0.7, 'subsample_for_bin': 200, 'subsample_freq': 1} best: 0.781397032171313 {'boosting_type': 'gbdt', 'colsample_bytree': 0.66, 'learning_rate': 0.2, 'num_iterations': 1200, 'max_bin': 512, 'max_depth': 3, 'metric': 'binary_error', 'min_child_samples': 5, 'min_child_weight': 1, 'min_split_gain': 0.5, 'n_estimators': 330, 'nthread': 5, 'num_class': 1, 'num_leaves': 16, 'objective': 'binary', 'random_state': 228, 'reg_alpha': 1, 'reg_lambda': 1.6, 'scale_pos_weight': 1, 'subsample': 0.7, 'subsample_for_bin': 200, 'subsample_freq': 1}\n",
      "0.778206726451388 {'boosting_type': 'gbdt', 'colsample_bytree': 0.66, 'learning_rate': 0.2, 'num_iterations': 1200, 'max_bin': 512, 'max_depth': 12, 'metric': 'binary_error', 'min_child_samples': 5, 'min_child_weight': 1, 'min_split_gain': 0.5, 'n_estimators': 330, 'nthread': 5, 'num_class': 1, 'num_leaves': 16, 'objective': 'binary', 'random_state': 228, 'reg_alpha': 1, 'reg_lambda': 1.6, 'scale_pos_weight': 1, 'subsample': 0.7, 'subsample_for_bin': 200, 'subsample_freq': 1} best: 0.781397032171313 {'boosting_type': 'gbdt', 'colsample_bytree': 0.66, 'learning_rate': 0.2, 'num_iterations': 1200, 'max_bin': 512, 'max_depth': 3, 'metric': 'binary_error', 'min_child_samples': 5, 'min_child_weight': 1, 'min_split_gain': 0.5, 'n_estimators': 330, 'nthread': 5, 'num_class': 1, 'num_leaves': 16, 'objective': 'binary', 'random_state': 228, 'reg_alpha': 1, 'reg_lambda': 1.6, 'scale_pos_weight': 1, 'subsample': 0.7, 'subsample_for_bin': 200, 'subsample_freq': 1}\n"
     ]
    },
    {
     "name": "stdout",
     "output_type": "stream",
     "text": [
      "0.7787831262315518 {'boosting_type': 'gbdt', 'colsample_bytree': 0.66, 'learning_rate': 0.2, 'num_iterations': 1200, 'max_bin': 512, 'max_depth': 13, 'metric': 'binary_error', 'min_child_samples': 5, 'min_child_weight': 1, 'min_split_gain': 0.5, 'n_estimators': 330, 'nthread': 5, 'num_class': 1, 'num_leaves': 16, 'objective': 'binary', 'random_state': 228, 'reg_alpha': 1, 'reg_lambda': 1.6, 'scale_pos_weight': 1, 'subsample': 0.7, 'subsample_for_bin': 200, 'subsample_freq': 1} best: 0.781397032171313 {'boosting_type': 'gbdt', 'colsample_bytree': 0.66, 'learning_rate': 0.2, 'num_iterations': 1200, 'max_bin': 512, 'max_depth': 3, 'metric': 'binary_error', 'min_child_samples': 5, 'min_child_weight': 1, 'min_split_gain': 0.5, 'n_estimators': 330, 'nthread': 5, 'num_class': 1, 'num_leaves': 16, 'objective': 'binary', 'random_state': 228, 'reg_alpha': 1, 'reg_lambda': 1.6, 'scale_pos_weight': 1, 'subsample': 0.7, 'subsample_for_bin': 200, 'subsample_freq': 1}\n",
      "0.7773957453653436 {'boosting_type': 'gbdt', 'colsample_bytree': 0.66, 'learning_rate': 0.2, 'num_iterations': 1200, 'max_bin': 512, 'max_depth': 14, 'metric': 'binary_error', 'min_child_samples': 5, 'min_child_weight': 1, 'min_split_gain': 0.5, 'n_estimators': 330, 'nthread': 5, 'num_class': 1, 'num_leaves': 16, 'objective': 'binary', 'random_state': 228, 'reg_alpha': 1, 'reg_lambda': 1.6, 'scale_pos_weight': 1, 'subsample': 0.7, 'subsample_for_bin': 200, 'subsample_freq': 1} best: 0.781397032171313 {'boosting_type': 'gbdt', 'colsample_bytree': 0.66, 'learning_rate': 0.2, 'num_iterations': 1200, 'max_bin': 512, 'max_depth': 3, 'metric': 'binary_error', 'min_child_samples': 5, 'min_child_weight': 1, 'min_split_gain': 0.5, 'n_estimators': 330, 'nthread': 5, 'num_class': 1, 'num_leaves': 16, 'objective': 'binary', 'random_state': 228, 'reg_alpha': 1, 'reg_lambda': 1.6, 'scale_pos_weight': 1, 'subsample': 0.7, 'subsample_for_bin': 200, 'subsample_freq': 1}\n"
     ]
    }
   ],
   "source": [
    "params = {'boosting_type': ['gbdt'],\n",
    " 'colsample_bytree': [0.64, 0.65, 0.66],\n",
    " 'learning_rate': [0.03,0.001,0.01,0.1,0.2,0.3],\n",
    "'num_iterations' : [250,100,500,1000,1100,1200],\n",
    " 'max_bin': 512,\n",
    " 'max_depth': [3,1,2,6,4,5,7,8,9,10,12,13,14],\n",
    " 'metric': 'binary_error',\n",
    " 'min_child_samples': 5,\n",
    " 'min_child_weight': 1,\n",
    " 'min_split_gain': 0.5,\n",
    " 'n_estimators': range(10,1200,80),\n",
    " 'nthread': 5,\n",
    " 'num_class': 1,\n",
    " 'num_leaves': [6, 8, 12, 16],\n",
    " 'objective': ['binary'],\n",
    " 'random_state': [228],\n",
    " 'reg_alpha': [1, 1.2,1.3,1.4],\n",
    " 'reg_lambda': [1, 1.2, 1.4,1.5,1.6],\n",
    " 'scale_pos_weight': 1,\n",
    " 'subsample': [0.7, 0.75],\n",
    " 'subsample_for_bin': 200,\n",
    " 'subsample_freq': 1}\n",
    "def crossvaltest(params,train_set,train_label,n_splits=10):\n",
    "    kf = StratifiedKFold(n_splits=n_splits,shuffle=True) \n",
    "    res = []\n",
    "    for train_index, test_index in kf.split(train_set,train_label):\n",
    "        train = train_set.iloc[train_index,:]\n",
    "        test = train_set.iloc[test_index,:]\n",
    "\n",
    "        labels = train_label.ix[train_index]\n",
    "        test_labels = train_label.ix[test_index]\n",
    "\n",
    "        clf = lgb.LGBMClassifier(**params)\n",
    "        clf.fit(train, np.ravel(labels))\n",
    "\n",
    "        res.append(np.mean(clf.predict(test)==np.ravel(test_labels)))\n",
    "    return np.mean(res)\n",
    "def lightgbm_param_tune(params,train_set,train_label,cat_dims=None,n_splits=3):\n",
    "    ps = paramsearch(params)\n",
    "    # search 'border_count', 'l2_leaf_reg' etc. individually \n",
    "    #   but 'iterations','learning_rate' together\n",
    "    for prms in chain(ps.grid_search(['boosting_type']),\n",
    "                      ps.grid_search(['colsample_bytree']),\n",
    "                      ps.grid_search(['learning_rate','num_iterations']),\n",
    "                      ps.grid_search(['n_estimators']),\n",
    "                    ps.grid_search(['num_leaves']),\n",
    "                     ps.grid_search(['objective']),\n",
    "                     ps.grid_search(['reg_alpha']),\n",
    "                     ps.grid_search(['reg_lambda']),\n",
    "                     ps.grid_search(['subsample']),\n",
    "                     ps.grid_search(['max_depth'])):\n",
    "        res = crossvaltest(prms,train_set,train_label,n_splits)\n",
    "        # save the crossvalidation result so that future iterations can reuse the best parameters\n",
    "        ps.register_result(res,prms)\n",
    "        print(res,prms,'best:',ps.bestscore(),ps.bestparam())\n",
    "    return ps.bestparam()\n",
    "\n",
    "bestparams_lgb = lightgbm_param_tune(params,train.drop(to_drop, axis=1),y_train)"
   ]
  },
  {
   "cell_type": "markdown",
   "metadata": {},
   "source": [
    "## Catboost param "
   ]
  },
  {
   "cell_type": "code",
   "execution_count": 106,
   "metadata": {
    "collapsed": true
   },
   "outputs": [],
   "source": [
    "def get_cat_index(dataframe):\n",
    "    cat_features = ['player_team','winner_team','hero_id','hero_pick_order','leaver_status','party_players','winner', 'abil_1',\n",
    " 'abil_2',\n",
    " 'abil_3',\n",
    " 'abil_4',\n",
    " 'abil_5',\n",
    " 'abil_6',\n",
    " 'abil_7',\n",
    " 'abil_8',\n",
    " 'abil_9',\n",
    " 'abil_10',\n",
    " 'abil_11',\n",
    " 'abil_12',\n",
    " 'abil_13',\n",
    " 'abil_14',\n",
    " 'abil_15',\n",
    " 'abil_16',\n",
    " 'abil_17',\n",
    " 'abil_18',\n",
    " 'abil_19',\n",
    " 'abil_20',\n",
    " 'abil_21',\n",
    " 'abil_22',\n",
    " 'abil_23',\n",
    " 'abil_24',\n",
    " 'abil_25',\n",
    " 'first_blood_claimed','']\n",
    "    categorical_features_index = [i for i, j in  enumerate(dataframe.columns) if j in cat_features]\n",
    "    \n",
    "    return categorical_features_index"
   ]
  },
  {
   "cell_type": "code",
   "execution_count": 31,
   "metadata": {
    "collapsed": true
   },
   "outputs": [],
   "source": [
    "cat_feat = get_cat_index(train)"
   ]
  },
  {
   "cell_type": "code",
   "execution_count": 53,
   "metadata": {
    "collapsed": true
   },
   "outputs": [
    {
     "name": "stdout",
     "output_type": "stream",
     "text": [
      "0.6976515060119838 {'depth': 3, 'iterations': 250, 'learning_rate': 0.03, 'l2_leaf_reg': 3, 'border_count': 5, 'thread_count': 8, 'verbose': False} best: 0.6976515058569602 {'depth': 3, 'iterations': 250, 'learning_rate': 0.03, 'l2_leaf_reg': 3, 'border_count': 5, 'thread_count': 8, 'verbose': False}\n",
      "0.7016125789198536 {'depth': 3, 'iterations': 250, 'learning_rate': 0.03, 'l2_leaf_reg': 3, 'border_count': 10, 'thread_count': 8, 'verbose': False} best: 0.7016125789041755 {'depth': 3, 'iterations': 250, 'learning_rate': 0.03, 'l2_leaf_reg': 3, 'border_count': 10, 'thread_count': 8, 'verbose': False}\n",
      "0.7039248803635342 {'depth': 3, 'iterations': 250, 'learning_rate': 0.03, 'l2_leaf_reg': 3, 'border_count': 20, 'thread_count': 8, 'verbose': False} best: 0.7039248804280654 {'depth': 3, 'iterations': 250, 'learning_rate': 0.03, 'l2_leaf_reg': 3, 'border_count': 20, 'thread_count': 8, 'verbose': False}\n",
      "0.7051916194152893 {'depth': 3, 'iterations': 250, 'learning_rate': 0.03, 'l2_leaf_reg': 3, 'border_count': 50, 'thread_count': 8, 'verbose': False} best: 0.7051916194973537 {'depth': 3, 'iterations': 250, 'learning_rate': 0.03, 'l2_leaf_reg': 3, 'border_count': 50, 'thread_count': 8, 'verbose': False}\n",
      "0.706431549174944 {'depth': 3, 'iterations': 250, 'learning_rate': 0.03, 'l2_leaf_reg': 3, 'border_count': 100, 'thread_count': 8, 'verbose': False} best: 0.7064315491831574 {'depth': 3, 'iterations': 250, 'learning_rate': 0.03, 'l2_leaf_reg': 3, 'border_count': 100, 'thread_count': 8, 'verbose': False}\n",
      "0.7060495167625099 {'depth': 3, 'iterations': 250, 'learning_rate': 0.03, 'l2_leaf_reg': 3, 'border_count': 200, 'thread_count': 8, 'verbose': False} best: 0.7064315491831574 {'depth': 3, 'iterations': 250, 'learning_rate': 0.03, 'l2_leaf_reg': 3, 'border_count': 100, 'thread_count': 8, 'verbose': False}\n",
      "0.7044677685285721 {'depth': 3, 'iterations': 250, 'learning_rate': 0.03, 'l2_leaf_reg': 1, 'border_count': 100, 'thread_count': 8, 'verbose': False} best: 0.7064315491831574 {'depth': 3, 'iterations': 250, 'learning_rate': 0.03, 'l2_leaf_reg': 3, 'border_count': 100, 'thread_count': 8, 'verbose': False}\n",
      "0.7050642752778113 {'depth': 3, 'iterations': 250, 'learning_rate': 0.03, 'l2_leaf_reg': 5, 'border_count': 100, 'thread_count': 8, 'verbose': False} best: 0.7064315491831574 {'depth': 3, 'iterations': 250, 'learning_rate': 0.03, 'l2_leaf_reg': 3, 'border_count': 100, 'thread_count': 8, 'verbose': False}\n",
      "0.7052720472915913 {'depth': 3, 'iterations': 250, 'learning_rate': 0.03, 'l2_leaf_reg': 10, 'border_count': 100, 'thread_count': 8, 'verbose': False} best: 0.7064315491831574 {'depth': 3, 'iterations': 250, 'learning_rate': 0.03, 'l2_leaf_reg': 3, 'border_count': 100, 'thread_count': 8, 'verbose': False}\n",
      "0.7047961823568049 {'depth': 3, 'iterations': 250, 'learning_rate': 0.03, 'l2_leaf_reg': 100, 'border_count': 100, 'thread_count': 8, 'verbose': False} best: 0.7064315491831574 {'depth': 3, 'iterations': 250, 'learning_rate': 0.03, 'l2_leaf_reg': 3, 'border_count': 100, 'thread_count': 8, 'verbose': False}\n",
      "0.6404806906073645 {'depth': 3, 'iterations': 250, 'learning_rate': 0.001, 'l2_leaf_reg': 3, 'border_count': 100, 'thread_count': 8, 'verbose': False} best: 0.7064315491831574 {'depth': 3, 'iterations': 250, 'learning_rate': 0.03, 'l2_leaf_reg': 3, 'border_count': 100, 'thread_count': 8, 'verbose': False}\n",
      "0.6780673181324648 {'depth': 3, 'iterations': 250, 'learning_rate': 0.01, 'l2_leaf_reg': 3, 'border_count': 100, 'thread_count': 8, 'verbose': False} best: 0.7064315491831574 {'depth': 3, 'iterations': 250, 'learning_rate': 0.03, 'l2_leaf_reg': 3, 'border_count': 100, 'thread_count': 8, 'verbose': False}\n",
      "0.7368600957091728 {'depth': 3, 'iterations': 250, 'learning_rate': 0.1, 'l2_leaf_reg': 3, 'border_count': 100, 'thread_count': 8, 'verbose': False} best: 0.7368600956358442 {'depth': 3, 'iterations': 250, 'learning_rate': 0.1, 'l2_leaf_reg': 3, 'border_count': 100, 'thread_count': 8, 'verbose': False}\n",
      "0.7498559000549591 {'depth': 3, 'iterations': 250, 'learning_rate': 0.2, 'l2_leaf_reg': 3, 'border_count': 100, 'thread_count': 8, 'verbose': False} best: 0.7498559002266175 {'depth': 3, 'iterations': 250, 'learning_rate': 0.2, 'l2_leaf_reg': 3, 'border_count': 100, 'thread_count': 8, 'verbose': False}\n",
      "0.7552646747362636 {'depth': 3, 'iterations': 250, 'learning_rate': 0.3, 'l2_leaf_reg': 3, 'border_count': 100, 'thread_count': 8, 'verbose': False} best: 0.7552646747679963 {'depth': 3, 'iterations': 250, 'learning_rate': 0.3, 'l2_leaf_reg': 3, 'border_count': 100, 'thread_count': 8, 'verbose': False}\n",
      "0.6829667162638571 {'depth': 3, 'iterations': 100, 'learning_rate': 0.03, 'l2_leaf_reg': 3, 'border_count': 100, 'thread_count': 8, 'verbose': False} best: 0.7552646747679963 {'depth': 3, 'iterations': 250, 'learning_rate': 0.3, 'l2_leaf_reg': 3, 'border_count': 100, 'thread_count': 8, 'verbose': False}\n",
      "0.641378801892736 {'depth': 3, 'iterations': 100, 'learning_rate': 0.001, 'l2_leaf_reg': 3, 'border_count': 100, 'thread_count': 8, 'verbose': False} best: 0.7552646747679963 {'depth': 3, 'iterations': 250, 'learning_rate': 0.3, 'l2_leaf_reg': 3, 'border_count': 100, 'thread_count': 8, 'verbose': False}\n",
      "0.6538987413037358 {'depth': 3, 'iterations': 100, 'learning_rate': 0.01, 'l2_leaf_reg': 3, 'border_count': 100, 'thread_count': 8, 'verbose': False} best: 0.7552646747679963 {'depth': 3, 'iterations': 250, 'learning_rate': 0.3, 'l2_leaf_reg': 3, 'border_count': 100, 'thread_count': 8, 'verbose': False}\n",
      "0.711900644763475 {'depth': 3, 'iterations': 100, 'learning_rate': 0.1, 'l2_leaf_reg': 3, 'border_count': 100, 'thread_count': 8, 'verbose': False} best: 0.7552646747679963 {'depth': 3, 'iterations': 250, 'learning_rate': 0.3, 'l2_leaf_reg': 3, 'border_count': 100, 'thread_count': 8, 'verbose': False}\n",
      "0.7289580568625086 {'depth': 3, 'iterations': 100, 'learning_rate': 0.2, 'l2_leaf_reg': 3, 'border_count': 100, 'thread_count': 8, 'verbose': False} best: 0.7552646747679963 {'depth': 3, 'iterations': 250, 'learning_rate': 0.3, 'l2_leaf_reg': 3, 'border_count': 100, 'thread_count': 8, 'verbose': False}\n",
      "0.7370008444927012 {'depth': 3, 'iterations': 100, 'learning_rate': 0.3, 'l2_leaf_reg': 3, 'border_count': 100, 'thread_count': 8, 'verbose': False} best: 0.7552646747679963 {'depth': 3, 'iterations': 250, 'learning_rate': 0.3, 'l2_leaf_reg': 3, 'border_count': 100, 'thread_count': 8, 'verbose': False}\n",
      "0.7225372314044048 {'depth': 3, 'iterations': 500, 'learning_rate': 0.03, 'l2_leaf_reg': 3, 'border_count': 100, 'thread_count': 8, 'verbose': False} best: 0.7552646747679963 {'depth': 3, 'iterations': 250, 'learning_rate': 0.3, 'l2_leaf_reg': 3, 'border_count': 100, 'thread_count': 8, 'verbose': False}\n",
      "0.6429739547727242 {'depth': 3, 'iterations': 500, 'learning_rate': 0.001, 'l2_leaf_reg': 3, 'border_count': 100, 'thread_count': 8, 'verbose': False} best: 0.7552646747679963 {'depth': 3, 'iterations': 250, 'learning_rate': 0.3, 'l2_leaf_reg': 3, 'border_count': 100, 'thread_count': 8, 'verbose': False}\n",
      "0.6954732510288065 {'depth': 3, 'iterations': 500, 'learning_rate': 0.01, 'l2_leaf_reg': 3, 'border_count': 100, 'thread_count': 8, 'verbose': False} best: 0.7552646747679963 {'depth': 3, 'iterations': 250, 'learning_rate': 0.3, 'l2_leaf_reg': 3, 'border_count': 100, 'thread_count': 8, 'verbose': False}\n",
      "0.7497821745016822 {'depth': 3, 'iterations': 500, 'learning_rate': 0.1, 'l2_leaf_reg': 3, 'border_count': 100, 'thread_count': 8, 'verbose': False} best: 0.7552646747679963 {'depth': 3, 'iterations': 250, 'learning_rate': 0.3, 'l2_leaf_reg': 3, 'border_count': 100, 'thread_count': 8, 'verbose': False}\n",
      "0.7602176914518574 {'depth': 3, 'iterations': 500, 'learning_rate': 0.2, 'l2_leaf_reg': 3, 'border_count': 100, 'thread_count': 8, 'verbose': False} best: 0.7602176914074373 {'depth': 3, 'iterations': 500, 'learning_rate': 0.2, 'l2_leaf_reg': 3, 'border_count': 100, 'thread_count': 8, 'verbose': False}\n",
      "0.763092988029651 {'depth': 3, 'iterations': 500, 'learning_rate': 0.3, 'l2_leaf_reg': 3, 'border_count': 100, 'thread_count': 8, 'verbose': False} best: 0.7630929880259812 {'depth': 3, 'iterations': 500, 'learning_rate': 0.3, 'l2_leaf_reg': 3, 'border_count': 100, 'thread_count': 8, 'verbose': False}\n"
     ]
    },
    {
     "name": "stdout",
     "output_type": "stream",
     "text": [
      "0.7396482620876395 {'depth': 3, 'iterations': 1000, 'learning_rate': 0.03, 'l2_leaf_reg': 3, 'border_count': 100, 'thread_count': 8, 'verbose': False} best: 0.7630929880259812 {'depth': 3, 'iterations': 500, 'learning_rate': 0.3, 'l2_leaf_reg': 3, 'border_count': 100, 'thread_count': 8, 'verbose': False}\n",
      "0.6556681545823783 {'depth': 3, 'iterations': 1000, 'learning_rate': 0.001, 'l2_leaf_reg': 3, 'border_count': 100, 'thread_count': 8, 'verbose': False} best: 0.7630929880259812 {'depth': 3, 'iterations': 500, 'learning_rate': 0.3, 'l2_leaf_reg': 3, 'border_count': 100, 'thread_count': 8, 'verbose': False}\n",
      "0.7122759748528841 {'depth': 3, 'iterations': 1000, 'learning_rate': 0.01, 'l2_leaf_reg': 3, 'border_count': 100, 'thread_count': 8, 'verbose': False} best: 0.7630929880259812 {'depth': 3, 'iterations': 500, 'learning_rate': 0.3, 'l2_leaf_reg': 3, 'border_count': 100, 'thread_count': 8, 'verbose': False}\n",
      "0.761249849197732 {'depth': 3, 'iterations': 1000, 'learning_rate': 0.1, 'l2_leaf_reg': 3, 'border_count': 100, 'thread_count': 8, 'verbose': False} best: 0.7630929880259812 {'depth': 3, 'iterations': 500, 'learning_rate': 0.3, 'l2_leaf_reg': 3, 'border_count': 100, 'thread_count': 8, 'verbose': False}\n",
      "0.7676639723328106 {'depth': 3, 'iterations': 1000, 'learning_rate': 0.2, 'l2_leaf_reg': 3, 'border_count': 100, 'thread_count': 8, 'verbose': False} best: 0.7676639723691451 {'depth': 3, 'iterations': 1000, 'learning_rate': 0.2, 'l2_leaf_reg': 3, 'border_count': 100, 'thread_count': 8, 'verbose': False}\n",
      "0.7690647578450691 {'depth': 3, 'iterations': 1000, 'learning_rate': 0.3, 'l2_leaf_reg': 3, 'border_count': 100, 'thread_count': 8, 'verbose': False} best: 0.7690647577425219 {'depth': 3, 'iterations': 1000, 'learning_rate': 0.3, 'l2_leaf_reg': 3, 'border_count': 100, 'thread_count': 8, 'verbose': False}\n",
      "0.7278588758863821 {'depth': 1, 'iterations': 1000, 'learning_rate': 0.3, 'l2_leaf_reg': 3, 'border_count': 100, 'thread_count': 8, 'verbose': False} best: 0.7690647577425219 {'depth': 3, 'iterations': 1000, 'learning_rate': 0.3, 'l2_leaf_reg': 3, 'border_count': 100, 'thread_count': 8, 'verbose': False}\n",
      "0.7615916676720151 {'depth': 2, 'iterations': 1000, 'learning_rate': 0.3, 'l2_leaf_reg': 3, 'border_count': 100, 'thread_count': 8, 'verbose': False} best: 0.7690647577425219 {'depth': 3, 'iterations': 1000, 'learning_rate': 0.3, 'l2_leaf_reg': 3, 'border_count': 100, 'thread_count': 8, 'verbose': False}\n",
      "0.768763153308937 {'depth': 6, 'iterations': 1000, 'learning_rate': 0.3, 'l2_leaf_reg': 3, 'border_count': 100, 'thread_count': 8, 'verbose': False} best: 0.7690647577425219 {'depth': 3, 'iterations': 1000, 'learning_rate': 0.3, 'l2_leaf_reg': 3, 'border_count': 100, 'thread_count': 8, 'verbose': False}\n",
      "0.7708274688006863 {'depth': 4, 'iterations': 1000, 'learning_rate': 0.3, 'l2_leaf_reg': 3, 'border_count': 100, 'thread_count': 8, 'verbose': False} best: 0.7708274687493991 {'depth': 4, 'iterations': 1000, 'learning_rate': 0.3, 'l2_leaf_reg': 3, 'border_count': 100, 'thread_count': 8, 'verbose': False}\n",
      "0.7714038685808502 {'depth': 5, 'iterations': 1000, 'learning_rate': 0.3, 'l2_leaf_reg': 3, 'border_count': 100, 'thread_count': 8, 'verbose': False} best: 0.7714038684498806 {'depth': 5, 'iterations': 1000, 'learning_rate': 0.3, 'l2_leaf_reg': 3, 'border_count': 100, 'thread_count': 8, 'verbose': False}\n",
      "0.763133201967802 {'depth': 7, 'iterations': 1000, 'learning_rate': 0.3, 'l2_leaf_reg': 3, 'border_count': 100, 'thread_count': 8, 'verbose': False} best: 0.7714038684498806 {'depth': 5, 'iterations': 1000, 'learning_rate': 0.3, 'l2_leaf_reg': 3, 'border_count': 100, 'thread_count': 8, 'verbose': False}\n",
      "0.760123858929505 {'depth': 8, 'iterations': 1000, 'learning_rate': 0.3, 'l2_leaf_reg': 3, 'border_count': 100, 'thread_count': 8, 'verbose': False} best: 0.7714038684498806 {'depth': 5, 'iterations': 1000, 'learning_rate': 0.3, 'l2_leaf_reg': 3, 'border_count': 100, 'thread_count': 8, 'verbose': False}\n",
      "0.7561493813755847 {'depth': 9, 'iterations': 1000, 'learning_rate': 0.3, 'l2_leaf_reg': 3, 'border_count': 100, 'thread_count': 8, 'verbose': False} best: 0.7714038684498806 {'depth': 5, 'iterations': 1000, 'learning_rate': 0.3, 'l2_leaf_reg': 3, 'border_count': 100, 'thread_count': 8, 'verbose': False}\n",
      "0.7554054235197919 {'depth': 10, 'iterations': 1000, 'learning_rate': 0.3, 'l2_leaf_reg': 3, 'border_count': 100, 'thread_count': 8, 'verbose': False} best: 0.7714038684498806 {'depth': 5, 'iterations': 1000, 'learning_rate': 0.3, 'l2_leaf_reg': 3, 'border_count': 100, 'thread_count': 8, 'verbose': False}\n"
     ]
    },
    {
     "name": "stderr",
     "output_type": "stream",
     "text": [
      "\n",
      "Iteration with suspicious time -1.95e+04 sec ignored in overall statistics.\n"
     ]
    },
    {
     "name": "stdout",
     "output_type": "stream",
     "text": [
      "0.7555729815954209 {'depth': 11, 'iterations': 1000, 'learning_rate': 0.3, 'l2_leaf_reg': 3, 'border_count': 100, 'thread_count': 8, 'verbose': False} best: 0.7714038684498806 {'depth': 5, 'iterations': 1000, 'learning_rate': 0.3, 'l2_leaf_reg': 3, 'border_count': 100, 'thread_count': 8, 'verbose': False}\n"
     ]
    },
    {
     "name": "stderr",
     "output_type": "stream",
     "text": [
      "ERROR:root:Internal Python error in the inspect module.\n",
      "Below is the traceback from this internal error.\n",
      "\n",
      "\n",
      "KeyboardInterrupt\n",
      "\n"
     ]
    }
   ],
   "source": [
    "params = {'depth':[3,1,2,6,4,5,7,8,9,10,11,12,13],\n",
    "          'iterations':[250,100,500,1000],\n",
    "          'learning_rate':[0.03,0.001,0.01,0.1,0.2,0.3], \n",
    "          'l2_leaf_reg':[3,1,5,10,100],\n",
    "          'border_count':[32,5,10,20,50,100,200],\n",
    "          'thread_count':8,\n",
    "         'verbose':False}\n",
    "def crossvaltest(params,train_set,train_label,cat_dims,n_splits=3):\n",
    "    kf = KFold(n_splits=n_splits,shuffle=True) \n",
    "    res = []\n",
    "    for train_index, test_index in kf.split(train_set):\n",
    "        train = train_set.iloc[train_index,:]\n",
    "        test = train_set.iloc[test_index,:]\n",
    "\n",
    "        labels = train_label.ix[train_index]\n",
    "        test_labels = train_label.ix[test_index]\n",
    "\n",
    "        clf = cb.CatBoostClassifier(**params)\n",
    "        clf.fit(train, np.ravel(labels), cat_features=cat_dims)\n",
    "\n",
    "        res.append(np.mean(clf.predict(test)==np.ravel(test_labels)))\n",
    "    return np.mean(res)\n",
    "def catboost_param_tune(params,train_set,train_label,cat_dims=None,n_splits=3):\n",
    "    ps = paramsearch(params)\n",
    "    # search 'border_count', 'l2_leaf_reg' etc. individually \n",
    "    #   but 'iterations','learning_rate' together\n",
    "    for prms in chain(ps.grid_search(['border_count']),\n",
    "                      ps.grid_search(['l2_leaf_reg']),\n",
    "                      ps.grid_search(['iterations','learning_rate']),\n",
    "                      ps.grid_search(['depth'])):\n",
    "        res = crossvaltest(prms,train_set,train_label,cat_dims,n_splits)\n",
    "        # save the crossvalidation result so that future iterations can reuse the best parameters\n",
    "        ps.register_result(res,prms)\n",
    "        print(res,prms,'best:',ps.bestscore(),ps.bestparam())\n",
    "    return ps.bestparam()\n",
    "\n",
    "bestparams = catboost_param_tune(params,train.drop(to_drop,axis=1),y_train,cat_feat)"
   ]
  },
  {
   "cell_type": "markdown",
   "metadata": {},
   "source": [
    "## Params"
   ]
  },
  {
   "cell_type": "code",
   "execution_count": 41,
   "metadata": {
    "collapsed": true
   },
   "outputs": [],
   "source": [
    "# not drop \"useless\" feature\n",
    "bestparams_lgb = {'boosting_type': 'gbdt',\n",
    " 'colsample_bytree': 0.66,\n",
    " 'learning_rate': 1e-2,\n",
    " 'num_iterations': 1200,\n",
    " 'max_bin': 512,\n",
    " 'max_depth': 8,\n",
    " 'metric': 'binary_error',\n",
    " 'min_child_samples': 5,\n",
    " 'min_child_weight': 1,\n",
    " 'min_split_gain': 0.5,\n",
    " 'n_estimators': 3000,\n",
    " 'nthread': 5,\n",
    " 'num_class': 1,\n",
    " 'num_leaves': 16,\n",
    " 'objective': 'binary',\n",
    " 'random_state': 228,\n",
    " 'reg_alpha': 1,\n",
    " 'reg_lambda': 1.3,\n",
    " 'scale_pos_weight': 1,\n",
    " 'subsample': 0.7,\n",
    " 'subsample_for_bin': 200,\n",
    " 'subsample_freq': 1}"
   ]
  },
  {
   "cell_type": "code",
   "execution_count": 65,
   "metadata": {
    "collapsed": true
   },
   "outputs": [],
   "source": [
    "best_cb = {'depth': 10, 'iterations': 1000, 'learning_rate': 0.3, 'l2_leaf_reg': 3, 'border_count': 100, 'thread_count': 8, 'verbose': False}"
   ]
  },
  {
   "cell_type": "code",
   "execution_count": 242,
   "metadata": {
    "collapsed": true
   },
   "outputs": [],
   "source": [
    "best = {'colsample_bytree': 0.9500000000000001,\n",
    "'eta': 0.125,\n",
    "'gamma': 0.8500000000000001,\n",
    "'max_depth': 16,\n",
    "'min_child_weight': 5.0,\n",
    "'n_estimators': 3000,\n",
    "'subsample': 0.8500000000000001,'learning_rate':0.28,'reg_lambda':22}"
   ]
  },
  {
   "cell_type": "markdown",
   "metadata": {},
   "source": [
    "## Feature, add extra-data"
   ]
  },
  {
   "cell_type": "code",
   "execution_count": 40,
   "metadata": {
    "scrolled": true
   },
   "outputs": [
    {
     "data": {
      "application/vnd.jupyter.widget-view+json": {
       "model_id": "6572b03edbc64a5f88b73e7f335d515f",
       "version_major": 2,
       "version_minor": 0
      },
      "text/plain": [
       "A Jupyter Widget"
      ]
     },
     "metadata": {},
     "output_type": "display_data"
    },
    {
     "name": "stdout",
     "output_type": "stream",
     "text": [
      "\n"
     ]
    }
   ],
   "source": [
    "buff = []\n",
    "ids = []\n",
    "\n",
    "gold_dev = []\n",
    "targets_value = []\n",
    "items_value = []\n",
    "\n",
    "trends = []\n",
    "batch_size = 5000\n",
    "\n",
    "for path in train_paths:  \n",
    "    with open(path) as inp:\n",
    "        for i, line in tqdm(enumerate(inp)):\n",
    "            record = json.loads(line)\n",
    "            buff.append(record)\n",
    "            ids.append(record['id'])\n",
    "\n",
    "            if (i + 1) % batch_size == 0:\n",
    "                # extract features\n",
    "                gold_dev.append(gold_deviation(buff))\n",
    "                targets_value.append(get_targets_value(buff))\n",
    "                items_value.append(get_items_value(buff))\n",
    "                trends.append(timeseries_trend(buff))\n",
    "                # free buff\n",
    "                buff = []\n",
    "\n",
    "        # process last batch\n",
    "        gold_dev.append(gold_deviation(buff))\n",
    "        targets_value.append(get_targets_value(buff))\n",
    "        items_value.append(get_items_value(buff))\n",
    "        trends.append(timeseries_trend(buff))\n",
    "        \n",
    "\n",
    "\n",
    "        # free buff\n",
    "        buff = []"
   ]
  },
  {
   "cell_type": "code",
   "execution_count": 86,
   "metadata": {},
   "outputs": [
    {
     "data": {
      "application/vnd.jupyter.widget-view+json": {
       "model_id": "b193c257bb844a9795888646df10ae01",
       "version_major": 2,
       "version_minor": 0
      },
      "text/plain": [
       "A Jupyter Widget"
      ]
     },
     "metadata": {},
     "output_type": "display_data"
    },
    {
     "name": "stdout",
     "output_type": "stream",
     "text": [
      "\n"
     ]
    }
   ],
   "source": [
    "buff = []\n",
    "test_ids = []\n",
    "\n",
    "test_gold_dev = []\n",
    "test_self_damage = []\n",
    "test_friend_damage = []\n",
    "test_targets_value = []\n",
    "test_items_value = []\n",
    "\n",
    "test_trends = []\n",
    "\n",
    "batch_size = 5000\n",
    "\n",
    "with open(test_path) as inp:\n",
    "    for i, line in tqdm(enumerate(inp)):\n",
    "        record = json.loads(line)\n",
    "        buff.append(record)\n",
    "        test_ids.append(record['id'])\n",
    "        \n",
    "        if (i + 1) % batch_size == 0:\n",
    "            # extract features\n",
    "            test_gold_dev.append(gold_deviation(buff))\n",
    "            test_targets_value.append(get_targets_value(buff))\n",
    "            test_items_value.append(get_items_value(buff))\n",
    "            test_trends.append(timeseries_trend(buff))\n",
    "            # free buff\n",
    "            buff = []\n",
    "    \n",
    "    # process last batch\n",
    "    test_gold_dev.append(gold_deviation(buff))\n",
    "    test_targets_value.append(get_targets_value(buff))\n",
    "    test_items_value.append(get_items_value(buff))\n",
    "    test_trends.append(timeseries_trend(buff))\n",
    "\n",
    "    # free buff\n",
    "    buff = []"
   ]
  },
  {
   "cell_type": "code",
   "execution_count": 30,
   "metadata": {
    "collapsed": true
   },
   "outputs": [],
   "source": [
    "#columns_deviation\n",
    "#columns_self_damage\n",
    "#columns_friend_damage\n",
    "#columns_tar_value\n",
    "#columns_items_value\n",
    "#trend_columns"
   ]
  },
  {
   "cell_type": "code",
   "execution_count": 41,
   "metadata": {
    "collapsed": true
   },
   "outputs": [],
   "source": [
    "def add_extra_feature(feature,columns_list):\n",
    "    concated_feature = np.concatenate(feature)\n",
    "    feature_df = pd.DataFrame(data=concated_feature, columns=columns_list)\n",
    "    \n",
    "    return feature_df"
   ]
  },
  {
   "cell_type": "code",
   "execution_count": 45,
   "metadata": {
    "collapsed": true
   },
   "outputs": [],
   "source": [
    "deviation_df = add_extra_feature(gold_dev,columns_deviation)"
   ]
  },
  {
   "cell_type": "code",
   "execution_count": 46,
   "metadata": {
    "collapsed": true,
    "scrolled": true
   },
   "outputs": [],
   "source": [
    "targets_df = add_extra_feature(targets_value,['targets_value'])"
   ]
  },
  {
   "cell_type": "code",
   "execution_count": 47,
   "metadata": {
    "collapsed": true
   },
   "outputs": [],
   "source": [
    "item_val_df = add_extra_feature(items_value,['item_val_df'])"
   ]
  },
  {
   "cell_type": "code",
   "execution_count": 48,
   "metadata": {},
   "outputs": [],
   "source": [
    "trends_df = add_extra_feature(trends, columns_trend)"
   ]
  },
  {
   "cell_type": "code",
   "execution_count": 91,
   "metadata": {
    "collapsed": true
   },
   "outputs": [],
   "source": [
    "test_deviation_df = add_extra_feature(test_gold_dev,columns_deviation)"
   ]
  },
  {
   "cell_type": "code",
   "execution_count": 92,
   "metadata": {
    "collapsed": true
   },
   "outputs": [],
   "source": [
    "test_targets_df = add_extra_feature(test_targets_value,['targets_value'])"
   ]
  },
  {
   "cell_type": "code",
   "execution_count": 93,
   "metadata": {
    "collapsed": true
   },
   "outputs": [],
   "source": [
    "test_item_val_df = add_extra_feature(test_items_value,['item_val_df'])"
   ]
  },
  {
   "cell_type": "markdown",
   "metadata": {},
   "source": [
    "## Apply Changes "
   ]
  },
  {
   "cell_type": "code",
   "execution_count": 49,
   "metadata": {},
   "outputs": [],
   "source": [
    "train = pd.concat([train, deviation_df, targets_df, item_val_df, trends_df],axis =1)"
   ]
  },
  {
   "cell_type": "code",
   "execution_count": 95,
   "metadata": {
    "collapsed": true
   },
   "outputs": [],
   "source": [
    "test = pd.concat([full_test, test_deviation_df,test_targets_df, test_item_val_df],axis=1)"
   ]
  },
  {
   "cell_type": "markdown",
   "metadata": {},
   "source": [
    "## add hero data "
   ]
  },
  {
   "cell_type": "code",
   "execution_count": 59,
   "metadata": {
    "collapsed": true
   },
   "outputs": [],
   "source": [
    "heroes = pd.read_csv('./sberbank_data/data_2019/dota2_heroes.csv', index_col='hero_id')"
   ]
  },
  {
   "cell_type": "markdown",
   "metadata": {},
   "source": [
    "#### roles ====> one_hot"
   ]
  },
  {
   "cell_type": "code",
   "execution_count": 60,
   "metadata": {
    "collapsed": true
   },
   "outputs": [],
   "source": [
    "heroes['roles'] = heroes['roles'].apply(lambda x: x.replace(\" \", '').strip('[]').replace(\"'\", '').split(','))"
   ]
  },
  {
   "cell_type": "code",
   "execution_count": 61,
   "metadata": {
    "collapsed": true
   },
   "outputs": [],
   "source": [
    "from sklearn.preprocessing import MultiLabelBinarizer\n",
    "\n",
    "mlb = MultiLabelBinarizer()\n",
    "heroes = heroes.join(pd.DataFrame(mlb.fit_transform(heroes.pop('roles')),\n",
    "                          columns=mlb.classes_,\n",
    "                          index=heroes.index))"
   ]
  },
  {
   "cell_type": "markdown",
   "metadata": {},
   "source": [
    "#### attack_type, cm_enabled ====> one_hot"
   ]
  },
  {
   "cell_type": "code",
   "execution_count": 62,
   "metadata": {
    "collapsed": true
   },
   "outputs": [],
   "source": [
    "# get dummies\n",
    "attack_type_dummies = pd.get_dummies(heroes['attack_type'], prefix='att_type_')\n",
    "prim_attr_dummies = pd.get_dummies(heroes['primary_attr'], prefix='pr_attr_')\n",
    "\n",
    "# drop colums\n",
    "heroes.drop(['legs'],inplace=True, axis=1)\n",
    "heroes.drop(['attack_type'], inplace=True, axis=1)\n",
    "heroes.drop(['cm_enabled'], inplace=True, axis=1)\n",
    "heroes.drop(['primary_attr'], inplace=True, axis=1)\n",
    "\n",
    "# concatenate them to dataframe\n",
    "heroes = pd.concat([heroes, \n",
    "                    attack_type_dummies, \n",
    "                    prim_attr_dummies], axis=1)"
   ]
  },
  {
   "cell_type": "markdown",
   "metadata": {},
   "source": [
    "## Join heroes to data_train"
   ]
  },
  {
   "cell_type": "code",
   "execution_count": 63,
   "metadata": {},
   "outputs": [
    {
     "data": {
      "text/plain": [
       "Index(['name', 'localized_name', 'agi_gain', 'attack_range', 'attack_rate',\n",
       "       'base_agi', 'base_armor', 'base_attack_max', 'base_attack_min',\n",
       "       'base_health', 'base_health_regen', 'base_int', 'base_mana',\n",
       "       'base_mana_regen', 'base_mr', 'base_str', 'int_gain', 'move_speed',\n",
       "       'projectile_speed', 'str_gain', 'turn_rate', 'Carry', 'Disabler',\n",
       "       'Durable', 'Escape', 'Initiator', 'Jungler', 'Nuker', 'Pusher',\n",
       "       'Support', 'att_type__Melee', 'att_type__Ranged', 'pr_attr__agi',\n",
       "       'pr_attr__int', 'pr_attr__str'],\n",
       "      dtype='object')"
      ]
     },
     "execution_count": 63,
     "metadata": {},
     "output_type": "execute_result"
    }
   ],
   "source": [
    "heroes.columns"
   ]
  },
  {
   "cell_type": "code",
   "execution_count": 64,
   "metadata": {
    "collapsed": true
   },
   "outputs": [],
   "source": [
    "heroes.drop(['name', 'localized_name',], inplace=True, axis=1)"
   ]
  },
  {
   "cell_type": "code",
   "execution_count": 1,
   "metadata": {},
   "outputs": [],
   "source": [
    "train = train.join(heroes, on='hero_id')\n",
    "\n",
    "#apply one hot for 'hero_id'\n",
    "#hero_dummies = pd.get_dummies(train['hero_id'], prefix='hero_id')\n",
    "#train.drop(['hero_id'], inplace=True, axis=1)\n",
    "#train = pd.concat([train, hero_dummies], axis=1)"
   ]
  },
  {
   "cell_type": "code",
   "execution_count": 103,
   "metadata": {
    "collapsed": true
   },
   "outputs": [],
   "source": [
    "test = full_test.join(heroes, on='hero_id')\n",
    "\n",
    "#apply one hot for 'hero_id'\n",
    "#hero_dummies = pd.get_dummies(test['hero_id'], prefix='hero_id')\n",
    "#test.drop(['hero_id'], inplace=True, axis=1)\n",
    "#test = pd.concat([test, hero_dummies], axis=1)"
   ]
  },
  {
   "cell_type": "markdown",
   "metadata": {},
   "source": [
    "## Cross-val "
   ]
  },
  {
   "cell_type": "code",
   "execution_count": 104,
   "metadata": {
    "scrolled": true
   },
   "outputs": [
    {
     "name": "stdout",
     "output_type": "stream",
     "text": [
      "env: CUDA_DEVICE_ORDER=PCI_BUS_ID\n",
      "env: CUDA_VISIBLE_DEVICES=1\n"
     ]
    }
   ],
   "source": [
    "%env CUDA_DEVICE_ORDER=PCI_BUS_ID\n",
    "%env CUDA_VISIBLE_DEVICES=1"
   ]
  },
  {
   "cell_type": "code",
   "execution_count": 107,
   "metadata": {
    "collapsed": true
   },
   "outputs": [],
   "source": [
    "cat_feat = get_cat_index(train)"
   ]
  },
  {
   "cell_type": "code",
   "execution_count": 69,
   "metadata": {
    "collapsed": true
   },
   "outputs": [],
   "source": [
    "from sklearn.model_selection import StratifiedKFold"
   ]
  },
  {
   "cell_type": "code",
   "execution_count": null,
   "metadata": {
    "collapsed": true
   },
   "outputs": [],
   "source": [
    "catb = CatBoostClassifier(learning_rate=0.1, l2_leaf_reg=15, max_depth=13,\n",
    "                          cat_features=cat_feat, random_seed=1337, task_type='GPU',verbose=0,\n",
    "                         bagging_temperature=1, random_strength=1,\n",
    "                          custom_loss=['AUC', 'Accuracy'])"
   ]
  },
  {
   "cell_type": "code",
   "execution_count": 75,
   "metadata": {
    "collapsed": true
   },
   "outputs": [],
   "source": [
    "lgbm_clf = LGBMClassifier(learning_rate=0.025, \n",
    "                          n_estimators=2500, \n",
    "                          reg_lambda=11, num_leaves=69)"
   ]
  },
  {
   "cell_type": "code",
   "execution_count": 70,
   "metadata": {
    "collapsed": true
   },
   "outputs": [],
   "source": [
    "# learning_rate=0.05,l2_leaf_reg=15,max_depth=13,\n",
    "#                           cat_features=cat_feat, random_seed=1421"
   ]
  },
  {
   "cell_type": "code",
   "execution_count": 144,
   "metadata": {
    "collapsed": true
   },
   "outputs": [],
   "source": [
    "cb_test = CatBoostClassifier(task_type='GPU',max_depth=12,reg_lambda=29)"
   ]
  },
  {
   "cell_type": "code",
   "execution_count": 78,
   "metadata": {
    "collapsed": true
   },
   "outputs": [],
   "source": [
    "from sklearn.model_selection import cross_validate"
   ]
  },
  {
   "cell_type": "code",
   "execution_count": 79,
   "metadata": {
    "scrolled": true
   },
   "outputs": [
    {
     "name": "stdout",
     "output_type": "stream",
     "text": [
      "CPU times: user 0 ns, sys: 0 ns, total: 0 ns\n",
      "Wall time: 6.91 µs\n"
     ]
    }
   ],
   "source": [
    "%time\n",
    "scores = cross_validate(lgbm_clf,cv=StratifiedKFold(n_splits=3,random_state=1337),\n",
    "                          X=train, y=y_train)"
   ]
  },
  {
   "cell_type": "markdown",
   "metadata": {},
   "source": [
    "## Prediction "
   ]
  },
  {
   "cell_type": "code",
   "execution_count": 60,
   "metadata": {
    "collapsed": true
   },
   "outputs": [],
   "source": [
    "def valid_index(train, n_folds = 3, r_state=228):\n",
    "    all_index = list(train.index)\n",
    "    shuffled_index = shuffle(all_index, random_state=r_state)\n",
    "    samples = np.array_split(shuffled_index, n_folds)\n",
    "    \n",
    "    return samples"
   ]
  },
  {
   "cell_type": "code",
   "execution_count": 61,
   "metadata": {
    "collapsed": true
   },
   "outputs": [],
   "source": [
    "index = valid_index(train)"
   ]
  },
  {
   "cell_type": "code",
   "execution_count": 63,
   "metadata": {
    "collapsed": true
   },
   "outputs": [],
   "source": [
    "train_sample_one = train.iloc[index[0]]\n",
    "train_sample_two = train.iloc[index[1]]\n",
    "train_sample_three = train.iloc[index[2]]\n",
    "\n",
    "y_train_sample_one = y_train.iloc[index[0]]\n",
    "y_train_sample_two = y_train.iloc[index[1]]\n",
    "y_train_sample_three = y_train.iloc[index[2]]"
   ]
  },
  {
   "cell_type": "code",
   "execution_count": 67,
   "metadata": {},
   "outputs": [
    {
     "data": {
      "text/plain": [
       "<catboost.core.CatBoostClassifier at 0x7f8a47b68cc0>"
      ]
     },
     "execution_count": 67,
     "metadata": {},
     "output_type": "execute_result"
    }
   ],
   "source": [
    "cb_best.fit(train_sample_one,y_train_sample_one,verbose=0,cat_features=cat_feat)"
   ]
  },
  {
   "cell_type": "code",
   "execution_count": null,
   "metadata": {
    "collapsed": true,
    "scrolled": true
   },
   "outputs": [],
   "source": [
    "xgb_best.fit(train,y_train,verbose=0)"
   ]
  },
  {
   "cell_type": "code",
   "execution_count": 235,
   "metadata": {},
   "outputs": [
    {
     "data": {
      "text/plain": [
       "LGBMClassifier(boosting_type='gbdt', class_weight=None, colsample_bytree=1.0,\n",
       "        importance_type='split', learning_rate=0.28, max_depth=17,\n",
       "        min_child_samples=40, min_child_weight=0.001, min_split_gain=0.0,\n",
       "        n_estimators=3000, n_jobs=-1, num_leaves=31, objective=None,\n",
       "        random_state=228, reg_alpha=0.0, reg_lambda=22, silent=True,\n",
       "        subsample=1.0, subsample_for_bin=200000, subsample_freq=0)"
      ]
     },
     "execution_count": 235,
     "metadata": {},
     "output_type": "execute_result"
    }
   ],
   "source": [
    "lgbm_clf.fit(train, y_train)\n",
    "#os.system('telegram-send \"%s\"' % msg);"
   ]
  },
  {
   "cell_type": "code",
   "execution_count": 253,
   "metadata": {
    "collapsed": true
   },
   "outputs": [],
   "source": [
    "cb_pred = cb_best.predict_proba(test)\n",
    "xgb_pred = xgb_best.predict_proba(test)\n",
    "lgb_pred = lgbm_clf.predict_proba(test)"
   ]
  },
  {
   "cell_type": "code",
   "execution_count": 280,
   "metadata": {
    "collapsed": true
   },
   "outputs": [],
   "source": [
    "def weighted_pred(pred1,pred2,pred3,threshold):\n",
    "    func = lambda x: x[1]\n",
    "    \n",
    "    pred1 = np.array(pred1)\n",
    "    pred2 = np.array(pred2)\n",
    "    pred3 = np.array(pred3)\n",
    "\n",
    "    merge = (pred1+pred2+pred3) / 3\n",
    "    merge = list(map(func, merge))\n",
    "    predict = np.asarray(merge) > threshold\n",
    "    \n",
    "    return predict"
   ]
  },
  {
   "cell_type": "code",
   "execution_count": 138,
   "metadata": {
    "collapsed": true
   },
   "outputs": [],
   "source": [
    "pred = weighted_pred(cb_pred,xgb_pred,lgb_pred,threshold=0.40)"
   ]
  },
  {
   "cell_type": "code",
   "execution_count": 127,
   "metadata": {
    "scrolled": true
   },
   "outputs": [
    {
     "data": {
      "text/plain": [
       "(149202, 629)"
      ]
     },
     "execution_count": 127,
     "metadata": {},
     "output_type": "execute_result"
    }
   ],
   "source": [
    "train.shape"
   ]
  },
  {
   "cell_type": "code",
   "execution_count": 126,
   "metadata": {},
   "outputs": [
    {
     "data": {
      "text/plain": [
       "(43265, 774)"
      ]
     },
     "execution_count": 126,
     "metadata": {},
     "output_type": "execute_result"
    }
   ],
   "source": [
    "test.shape"
   ]
  },
  {
   "cell_type": "code",
   "execution_count": 143,
   "metadata": {
    "collapsed": true,
    "scrolled": true
   },
   "outputs": [],
   "source": [
    "pred = catb.predict(test.drop(to_drop, axis=1))"
   ]
  },
  {
   "cell_type": "markdown",
   "metadata": {},
   "source": [
    "## Save submit "
   ]
  },
  {
   "cell_type": "code",
   "execution_count": 254,
   "metadata": {
    "collapsed": true
   },
   "outputs": [],
   "source": [
    "func = lambda x: x[1]"
   ]
  },
  {
   "cell_type": "code",
   "execution_count": 255,
   "metadata": {
    "collapsed": true
   },
   "outputs": [],
   "source": [
    "merge = list(map(func, lgb_pred))"
   ]
  },
  {
   "cell_type": "code",
   "execution_count": 258,
   "metadata": {
    "collapsed": true
   },
   "outputs": [],
   "source": [
    "pred = np.array(merge) > 0.55"
   ]
  },
  {
   "cell_type": "code",
   "execution_count": 144,
   "metadata": {
    "collapsed": true
   },
   "outputs": [],
   "source": [
    "predict = pd.DataFrame({'skilled': pred}, index=test_index)\n",
    "predict.to_csv('cat_boost.csv')"
   ]
  }
 ],
 "metadata": {
  "kernelspec": {
   "display_name": "Python 3",
   "language": "python",
   "name": "python3"
  },
  "language_info": {
   "codemirror_mode": {
    "name": "ipython",
    "version": 3
   },
   "file_extension": ".py",
   "mimetype": "text/x-python",
   "name": "python",
   "nbconvert_exporter": "python",
   "pygments_lexer": "ipython3",
   "version": "3.6.7"
  }
 },
 "nbformat": 4,
 "nbformat_minor": 2
}

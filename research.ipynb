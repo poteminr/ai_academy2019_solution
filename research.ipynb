{
 "cells": [
  {
   "cell_type": "code",
   "execution_count": 2,
   "metadata": {
    "collapsed": true
   },
   "outputs": [],
   "source": [
    "import pandas as pd\n",
    "import numpy as np\n",
    "from lightgbm import LGBMClassifier\n",
    "from sklearn.model_selection import cross_validate, cross_val_score\n",
    "import matplotlib.pyplot as plt\n",
    "import cv2\n",
    "from tqdm import tqdm\n",
    "import json\n",
    "from scipy.ndimage import rotate\n",
    "import copy"
   ]
  },
  {
   "cell_type": "markdown",
   "metadata": {},
   "source": [
    "# Gold by reason "
   ]
  },
  {
   "cell_type": "code",
   "execution_count": 3,
   "metadata": {
    "collapsed": true
   },
   "outputs": [],
   "source": [
    "reasons = ['0', '6', '2', '5', '13', '1', '12', '15', '11', '14']"
   ]
  },
  {
   "cell_type": "code",
   "execution_count": 4,
   "metadata": {
    "collapsed": true
   },
   "outputs": [],
   "source": [
    "columns_gold = ['reason_0', 'reason_6', 'reason_2',\n",
    "                'reason_5', 'reason_13','reason_1',\n",
    "                'reason_12', 'reason_15', 'reason_11',\n",
    "                'reason_14']\n",
    "\n",
    "def get_gold_reason(lines, placeholder=-1, n=None):\n",
    "    \n",
    "    if n == None:\n",
    "        n = len(lines)\n",
    "        \n",
    "    data = []\n",
    "    for elem in lines:\n",
    "        gold_reason = elem['gold_by_reason']\n",
    "        data.append(gold_reason)\n",
    "        \n",
    "    return data"
   ]
  },
  {
   "cell_type": "code",
   "execution_count": 5,
   "metadata": {
    "collapsed": true
   },
   "outputs": [],
   "source": [
    "train_paths = ['sberbank_data/final/academy2019_final_train.jsonlines']"
   ]
  },
  {
   "cell_type": "code",
   "execution_count": 6,
   "metadata": {
    "scrolled": true
   },
   "outputs": [
    {
     "name": "stderr",
     "output_type": "stream",
     "text": [
      "100%|██████████| 40403/40403 [01:10<00:00, 574.01it/s]\n"
     ]
    }
   ],
   "source": [
    "buff = []\n",
    "ids = []\n",
    "\n",
    "data_reasons = [] \n",
    "\n",
    "total = 40403\n",
    "batch_size = 5000\n",
    "for path in train_paths:\n",
    "    with open(path) as inp:\n",
    "        for i, line in tqdm(enumerate(inp), total=total):\n",
    "            record = json.loads(line)\n",
    "            buff.append(record)\n",
    "            ids.append(record['id'])\n",
    "\n",
    "            if (i + 1) % batch_size == 0:\n",
    "                # extract features\n",
    "                data_reasons += get_gold_reason(buff)\n",
    "\n",
    "                # free buff\n",
    "                buff = []\n",
    "\n",
    "        # process last batch\n",
    "        data_reasons += get_gold_reason(buff)\n",
    "\n",
    "        # free buff\n",
    "        buff = []"
   ]
  },
  {
   "cell_type": "markdown",
   "metadata": {},
   "source": [
    "## Reasons DF"
   ]
  },
  {
   "cell_type": "code",
   "execution_count": 6,
   "metadata": {
    "collapsed": true
   },
   "outputs": [],
   "source": [
    "reasons_df = pd.DataFrame(data_reasons).fillna(-100000)"
   ]
  },
  {
   "cell_type": "markdown",
   "metadata": {},
   "source": [
    "# Player pos "
   ]
  },
  {
   "cell_type": "code",
   "execution_count": 7,
   "metadata": {
    "collapsed": true
   },
   "outputs": [],
   "source": [
    "def scale_data(x):\n",
    "    \"\"\"\n",
    "    Приводит данные к [0, 1]\n",
    "    \"\"\"\n",
    "    max_x = x.max()\n",
    "    min_x = x.min()\n",
    "    \n",
    "    x = (x - min_x) / (max_x - min_x)\n",
    "    return x"
   ]
  },
  {
   "cell_type": "code",
   "execution_count": 24,
   "metadata": {
    "collapsed": true
   },
   "outputs": [],
   "source": [
    "# читаем данные"
   ]
  },
  {
   "cell_type": "code",
   "execution_count": 8,
   "metadata": {},
   "outputs": [
    {
     "name": "stderr",
     "output_type": "stream",
     "text": [
      "100%|██████████| 40403/40403 [00:56<00:00, 708.99it/s]"
     ]
    },
    {
     "name": "stdout",
     "output_type": "stream",
     "text": [
      "max_pos_x: 2147483647  |  max_pos_y: 2147483647\n"
     ]
    },
    {
     "name": "stderr",
     "output_type": "stream",
     "text": [
      "\n"
     ]
    }
   ],
   "source": [
    "poisitions_x = []\n",
    "poisitions_y = []\n",
    "\n",
    "skilled = []\n",
    "record_ids = []\n",
    "\n",
    "max_pos_x = 0\n",
    "max_pos_y = 0\n",
    "team_name = []\n",
    "total = 40403\n",
    "with open('sberbank_data/final/academy2019_final_train.jsonlines') as fin:\n",
    "    for i, line in tqdm(enumerate(fin), total=total):\n",
    "        record = json.loads(line)\n",
    "        \n",
    "        # read one line\n",
    "        skilled.append(record['skilled'])\n",
    "        record_ids.append(record['id'])\n",
    "        team_name.append(record['player_team'])\n",
    "        \n",
    "        # обработка записи\n",
    "        pos_x = record['actions']['pos_x']\n",
    "        pos_y = record['actions']['pos_y']\n",
    "        \n",
    "        poisitions_x.append(pos_x)\n",
    "        poisitions_y.append(pos_y)\n",
    "        \n",
    "        max_pos_x = max(max(pos_x), max_pos_x)\n",
    "        max_pos_y = max(max(pos_y), max_pos_y)\n",
    "        \n",
    "        i += 1\n",
    "\n",
    "print(\"max_pos_x: %d  |  max_pos_y: %d\" % (max_pos_x, max_pos_y))"
   ]
  },
  {
   "cell_type": "code",
   "execution_count": 9,
   "metadata": {},
   "outputs": [
    {
     "name": "stderr",
     "output_type": "stream",
     "text": [
      "100%|██████████| 40403/40403 [00:15<00:00, 2556.86it/s]\n"
     ]
    }
   ],
   "source": [
    "### Обработаем позиции \n",
    "\n",
    "# тут будут лежать хитмапы\n",
    "heatmaps_pos = np.zeros((40403, 64, 64))\n",
    "\n",
    "for i, (x, y) in tqdm(enumerate(zip(poisitions_x, poisitions_y)), total=40403):\n",
    "    hist = np.zeros((64, 64)) \n",
    "    min_x, max_x = min(x), max(x)\n",
    "    min_y, max_y = min(y), max(y)\n",
    "    \n",
    "    \n",
    "    x = (np.array(x) - min_x) / (max_x - min_x)\n",
    "    y = (np.array(y) - min_y) / (max_y - min_y)\n",
    "    \n",
    "    hist[np.ceil(x * 64).astype(int) - 1, np.ceil(y * 64).astype(int) - 1] += 1\n",
    "    heatmaps_pos[i] = hist"
   ]
  },
  {
   "cell_type": "code",
   "execution_count": 10,
   "metadata": {
    "collapsed": true
   },
   "outputs": [],
   "source": [
    "# готовим для нейронки на keras\n",
    "X_pos = np.expand_dims(heatmaps_pos, -1)\n",
    "\n",
    "# нормируем все значения на [0, 1]\n",
    "X_pos = scale_data(X_pos)"
   ]
  },
  {
   "cell_type": "markdown",
   "metadata": {},
   "source": [
    "## Rotate Dire map "
   ]
  },
  {
   "cell_type": "code",
   "execution_count": 11,
   "metadata": {
    "collapsed": true
   },
   "outputs": [],
   "source": [
    "def rotate_pos(X_pos, team_names):\n",
    "    \"\"\"\n",
    "    Чтобы для всех игроков своя база была внизу, а \n",
    "    база врага наверху - перевернем карту для dire\n",
    "    \"\"\"\n",
    "    new_pos = copy.deepcopy(X_pos)\n",
    "    \n",
    "    for ind in range(len(X_pos)):\n",
    "        if team_name[ind] == 'dire':\n",
    "            new_pos[ind] = rotate(new_pos[ind], 180)\n",
    "    \n",
    "    return new_pos"
   ]
  },
  {
   "cell_type": "markdown",
   "metadata": {},
   "source": [
    "## Before rotate "
   ]
  },
  {
   "cell_type": "code",
   "execution_count": 12,
   "metadata": {
    "scrolled": true
   },
   "outputs": [
    {
     "data": {
      "text/plain": [
       "'dire'"
      ]
     },
     "execution_count": 12,
     "metadata": {},
     "output_type": "execute_result"
    }
   ],
   "source": [
    "team_name[16]"
   ]
  },
  {
   "cell_type": "code",
   "execution_count": 13,
   "metadata": {
    "scrolled": true
   },
   "outputs": [
    {
     "data": {
      "text/plain": [
       "<matplotlib.image.AxesImage at 0x7fab662a3668>"
      ]
     },
     "execution_count": 13,
     "metadata": {},
     "output_type": "execute_result"
    },
    {
     "data": {
      "image/png": "[encoded data removed]",
      "text/plain": [
       "<Figure size 432x288 with 1 Axes>"
      ]
     },
     "metadata": {},
     "output_type": "display_data"
    }
   ],
   "source": [
    "plt.imshow(np.squeeze(X_pos[16]))"
   ]
  },
  {
   "cell_type": "markdown",
   "metadata": {},
   "source": [
    "## After rotate "
   ]
  },
  {
   "cell_type": "code",
   "execution_count": 14,
   "metadata": {
    "collapsed": true
   },
   "outputs": [],
   "source": [
    "new_position = rotate_pos(X_pos, team_name)"
   ]
  },
  {
   "cell_type": "code",
   "execution_count": 15,
   "metadata": {
    "scrolled": true
   },
   "outputs": [
    {
     "data": {
      "text/plain": [
       "<matplotlib.image.AxesImage at 0x7fab64306630>"
      ]
     },
     "execution_count": 15,
     "metadata": {},
     "output_type": "execute_result"
    },
    {
     "data": {
      "image/png": "[encoded data removed]",
      "text/plain": [
       "<Figure size 432x288 with 1 Axes>"
      ]
     },
     "metadata": {},
     "output_type": "display_data"
    }
   ],
   "source": [
    "plt.imshow(np.squeeze(new_position[16]))"
   ]
  },
  {
   "cell_type": "markdown",
   "metadata": {},
   "source": [
    "# Player cursor pos"
   ]
  },
  {
   "cell_type": "code",
   "execution_count": 16,
   "metadata": {},
   "outputs": [
    {
     "name": "stderr",
     "output_type": "stream",
     "text": [
      "100%|██████████| 40403/40403 [01:01<00:00, 656.88it/s]\n"
     ]
    }
   ],
   "source": [
    "cursors_x = []\n",
    "cursors_y = []\n",
    "\n",
    "skilled = []\n",
    "record_ids = []\n",
    "\n",
    "total = 40403\n",
    "with open('sberbank_data/final/academy2019_final_train.jsonlines') as fin:\n",
    "    for i, line in tqdm(enumerate(fin), total=total):\n",
    "        record = json.loads(line)\n",
    "        \n",
    "        # read one line\n",
    "        skilled.append(record['skilled'])\n",
    "        record_ids.append(record['id'])\n",
    "        \n",
    "        \n",
    "        # обработка записи\n",
    "        cursors_x.append(record['actions']['cursor_y'])\n",
    "        cursors_y.append(record['actions']['cursor_x'])\n",
    "            \n",
    "        \n",
    "        i += 1"
   ]
  },
  {
   "cell_type": "code",
   "execution_count": 17,
   "metadata": {
    "collapsed": true
   },
   "outputs": [],
   "source": [
    "heatmaps = np.zeros((40403, 64, 64))"
   ]
  },
  {
   "cell_type": "code",
   "execution_count": 18,
   "metadata": {},
   "outputs": [
    {
     "name": "stderr",
     "output_type": "stream",
     "text": [
      "100%|██████████| 40403/40403 [00:25<00:00, 1594.88it/s]\n"
     ]
    }
   ],
   "source": [
    "for i, (x, y) in tqdm(enumerate(zip(cursors_x, cursors_y)), total=40403):\n",
    "    hist = np.zeros((511, 511)) \n",
    "    hist[np.array(x) - 1, np.array(y) - 1] += 1\n",
    "    res = cv2.resize(hist, dsize=(64, 64),interpolation=cv2.INTER_AREA) \n",
    "    \n",
    "    heatmaps[i] = res"
   ]
  },
  {
   "cell_type": "code",
   "execution_count": 19,
   "metadata": {
    "collapsed": true
   },
   "outputs": [],
   "source": [
    "# готовим для нейронки на keras\n",
    "X_cur = np.expand_dims(heatmaps, -1)\n",
    "\n",
    "# нормируем все значения на [0, 1]\n",
    "X_cur = scale_data(X_cur)"
   ]
  },
  {
   "cell_type": "code",
   "execution_count": 20,
   "metadata": {},
   "outputs": [
    {
     "data": {
      "text/plain": [
       "<matplotlib.image.AxesImage at 0x7fab624e6828>"
      ]
     },
     "execution_count": 20,
     "metadata": {},
     "output_type": "execute_result"
    },
    {
     "data": {
      "image/png": "[encoded data removed]",
      "text/plain": [
       "<Figure size 432x288 with 1 Axes>"
      ]
     },
     "metadata": {},
     "output_type": "display_data"
    }
   ],
   "source": [
    "plt.imshow(np.squeeze(X_cur[30]))"
   ]
  },
  {
   "cell_type": "markdown",
   "metadata": {},
   "source": [
    "# Encoder-decoder\n"
   ]
  },
  {
   "cell_type": "code",
   "execution_count": 21,
   "metadata": {},
   "outputs": [
    {
     "name": "stderr",
     "output_type": "stream",
     "text": [
      "Using TensorFlow backend.\n"
     ]
    }
   ],
   "source": [
    "from keras.layers import Conv2D, Conv2DTranspose, Flatten, Input, Dense, Reshape\n",
    "from keras.layers.advanced_activations import LeakyReLU, PReLU\n",
    "from keras.datasets import mnist\n",
    "from keras import Model"
   ]
  },
  {
   "cell_type": "markdown",
   "metadata": {},
   "source": [
    "## Позиция игрока на карте - вектор из 128 признаков "
   ]
  },
  {
   "cell_type": "code",
   "execution_count": 30,
   "metadata": {
    "collapsed": true
   },
   "outputs": [],
   "source": [
    "input_ = Input((64, 64, 1)) \n",
    "\n",
    "x = Conv2D(filters=4, kernel_size=2, strides=2, activation='relu',padding='same')(input_) \n",
    "x = Conv2D(filters=6, kernel_size=2, strides=2, activation='relu',padding='same')(x)\n",
    "x = Conv2D(filters=8,kernel_size=2, strides=2, activation='relu',padding='same')(x) \n",
    "flat = Flatten()(x)\n",
    "latent = Dense(128,activation='relu')(flat)\n",
    "\n",
    "\n",
    "reshape = Reshape((-1,8,8)) \n",
    "dense = Dense(512,activation='relu')\n",
    "conv_2t_1 = Conv2DTranspose(filters=8, kernel_size=2, strides=2, activation='relu',padding='same') \n",
    "conv_2t_2 = Conv2DTranspose(filters=6, kernel_size=2, strides=2, activation='relu',padding='same') \n",
    "conv_2t_3 = Conv2DTranspose(filters=1, kernel_size=2, strides=2, activation='relu',padding='same') \n",
    " \n",
    "\n",
    "x = dense(latent)\n",
    "x = reshape(x)\n",
    "x = conv_2t_1(x)\n",
    "x = conv_2t_2(x)\n",
    "decoded = conv_2t_3(x) \n",
    "\n",
    "autoencoder = Model(input_, decoded)\n",
    "encoder = Model(input_, latent)\n",
    "\n",
    "decoder_input = Input((128,))\n",
    "x_ = dense(decoder_input)\n",
    "x_ = reshape(x_)\n",
    "x_ = conv_2t_1(x_)\n",
    "x_ = conv_2t_2(x_)\n",
    "decoded_ = conv_2t_3(x_) \n",
    "decoder = Model(decoder_input, decoded_)"
   ]
  },
  {
   "cell_type": "code",
   "execution_count": 31,
   "metadata": {
    "collapsed": true
   },
   "outputs": [],
   "source": [
    "autoencoder.compile(optimizer='adam', loss='binary_crossentropy')"
   ]
  },
  {
   "cell_type": "code",
   "execution_count": 317,
   "metadata": {
    "collapsed": true
   },
   "outputs": [],
   "source": [
    "# autoencoder.summary()"
   ]
  },
  {
   "cell_type": "code",
   "execution_count": 32,
   "metadata": {
    "scrolled": true
   },
   "outputs": [
    {
     "name": "stdout",
     "output_type": "stream",
     "text": [
      "Epoch 1/27\n",
      "40403/40403 [==============================] - 3s 72us/step - loss: 0.4123\n",
      "Epoch 2/27\n",
      "40403/40403 [==============================] - 2s 61us/step - loss: 0.2858\n",
      "Epoch 3/27\n",
      "40403/40403 [==============================] - 2s 62us/step - loss: 0.1859\n",
      "Epoch 4/27\n",
      "40403/40403 [==============================] - 2s 61us/step - loss: 0.1786\n",
      "Epoch 5/27\n",
      "40403/40403 [==============================] - 2s 61us/step - loss: 0.1700\n",
      "Epoch 6/27\n",
      "40403/40403 [==============================] - 2s 61us/step - loss: 0.1663\n",
      "Epoch 7/27\n",
      "40403/40403 [==============================] - 2s 61us/step - loss: 0.1621\n",
      "Epoch 8/27\n",
      "40403/40403 [==============================] - 2s 62us/step - loss: 0.1614\n",
      "Epoch 9/27\n",
      "40403/40403 [==============================] - 2s 62us/step - loss: 0.1617\n",
      "Epoch 10/27\n",
      "40403/40403 [==============================] - 2s 62us/step - loss: 0.1575\n",
      "Epoch 11/27\n",
      "40403/40403 [==============================] - 2s 62us/step - loss: 0.1666\n",
      "Epoch 12/27\n",
      "40403/40403 [==============================] - 2s 62us/step - loss: 0.1570\n",
      "Epoch 13/27\n",
      "40403/40403 [==============================] - 2s 62us/step - loss: 0.1673\n",
      "Epoch 14/27\n",
      "40403/40403 [==============================] - 2s 61us/step - loss: 0.1598\n",
      "Epoch 15/27\n",
      "40403/40403 [==============================] - 2s 61us/step - loss: 0.1572\n",
      "Epoch 16/27\n",
      "40403/40403 [==============================] - 2s 62us/step - loss: 0.1581\n",
      "Epoch 17/27\n",
      "40403/40403 [==============================] - 2s 62us/step - loss: 0.1558\n",
      "Epoch 18/27\n",
      "40403/40403 [==============================] - 2s 61us/step - loss: 0.1551\n",
      "Epoch 19/27\n",
      "40403/40403 [==============================] - 2s 62us/step - loss: 0.1515\n",
      "Epoch 20/27\n",
      "40403/40403 [==============================] - 2s 62us/step - loss: 0.1549\n",
      "Epoch 21/27\n",
      "40403/40403 [==============================] - 2s 62us/step - loss: 0.1512\n",
      "Epoch 22/27\n",
      "40403/40403 [==============================] - 2s 62us/step - loss: 0.1528\n",
      "Epoch 23/27\n",
      "40403/40403 [==============================] - 2s 62us/step - loss: 0.1545\n",
      "Epoch 24/27\n",
      "40403/40403 [==============================] - 3s 62us/step - loss: 0.1593\n",
      "Epoch 25/27\n",
      "40403/40403 [==============================] - 2s 62us/step - loss: 0.1514\n",
      "Epoch 26/27\n",
      "40403/40403 [==============================] - 2s 62us/step - loss: 0.1517\n",
      "Epoch 27/27\n",
      "40403/40403 [==============================] - 2s 62us/step - loss: 0.1470\n"
     ]
    },
    {
     "data": {
      "text/plain": [
       "<keras.callbacks.History at 0x7fa41b6ccc50>"
      ]
     },
     "execution_count": 32,
     "metadata": {},
     "output_type": "execute_result"
    }
   ],
   "source": [
    "autoencoder.fit(x = new_position, y =new_position, batch_size=128, epochs=27)"
   ]
  },
  {
   "cell_type": "code",
   "execution_count": 33,
   "metadata": {
    "collapsed": true
   },
   "outputs": [],
   "source": [
    "pred = encoder.predict(np.expand_dims(new_position[202],axis=0))"
   ]
  },
  {
   "cell_type": "code",
   "execution_count": 34,
   "metadata": {},
   "outputs": [
    {
     "data": {
      "text/plain": [
       "(1, 128)"
      ]
     },
     "execution_count": 34,
     "metadata": {},
     "output_type": "execute_result"
    }
   ],
   "source": [
    "pred.shape"
   ]
  },
  {
   "cell_type": "code",
   "execution_count": 35,
   "metadata": {},
   "outputs": [
    {
     "data": {
      "text/plain": [
       "<matplotlib.image.AxesImage at 0x7fa41aeb8b00>"
      ]
     },
     "execution_count": 35,
     "metadata": {},
     "output_type": "execute_result"
    },
    {
     "data": {
      "image/png": "[encoded data removed]",
      "text/plain": [
       "<Figure size 432x288 with 1 Axes>"
      ]
     },
     "metadata": {},
     "output_type": "display_data"
    }
   ],
   "source": [
    "plt.imshow(np.squeeze(new_position[202])) # Реальное"
   ]
  },
  {
   "cell_type": "code",
   "execution_count": 36,
   "metadata": {
    "scrolled": false
   },
   "outputs": [
    {
     "data": {
      "text/plain": [
       "<matplotlib.image.AxesImage at 0x7fa41aef74e0>"
      ]
     },
     "execution_count": 36,
     "metadata": {},
     "output_type": "execute_result"
    },
    {
     "data": {
      "image/png": "[encoded data removed]",
      "text/plain": [
       "<Figure size 432x288 with 1 Axes>"
      ]
     },
     "metadata": {},
     "output_type": "display_data"
    }
   ],
   "source": [
    "plt.imshow(np.squeeze(decoder.predict(pred)[0])) # Восстановленное из вектора 128 признаков"
   ]
  },
  {
   "cell_type": "markdown",
   "metadata": {},
   "source": [
    "## Курсор мыши "
   ]
  },
  {
   "cell_type": "code",
   "execution_count": 37,
   "metadata": {
    "collapsed": true
   },
   "outputs": [],
   "source": [
    "input_ = Input((64, 64, 1)) \n",
    "\n",
    "x = Conv2D(filters=4, kernel_size=2, strides=2, activation='relu',padding='same')(input_) \n",
    "x = Conv2D(filters=6, kernel_size=2, strides=2, activation='relu',padding='same')(x)\n",
    "x = Conv2D(filters=8,kernel_size=2, strides=2, activation='relu',padding='same')(x) \n",
    "flat = Flatten()(x)\n",
    "latent = Dense(128,activation='relu')(flat)\n",
    "\n",
    "\n",
    "reshape = Reshape((-1,8,8)) \n",
    "dense = Dense(512,activation='relu')\n",
    "conv_2t_1 = Conv2DTranspose(filters=8, kernel_size=2, strides=2, activation='relu',padding='same') \n",
    "conv_2t_2 = Conv2DTranspose(filters=6, kernel_size=2, strides=2, activation='relu',padding='same') \n",
    "conv_2t_3 = Conv2DTranspose(filters=1, kernel_size=2, strides=2, activation='relu',padding='same') \n",
    " \n",
    "\n",
    "x = dense(latent)\n",
    "x = reshape(x)\n",
    "x = conv_2t_1(x)\n",
    "x = conv_2t_2(x)\n",
    "decoded = conv_2t_3(x) \n",
    "\n",
    "autoencoder_cur = Model(input_, decoded)\n",
    "encoder_cur = Model(input_, latent)\n",
    "\n",
    "decoder_input = Input((128,))\n",
    "x_ = dense(decoder_input)\n",
    "x_ = reshape(x_)\n",
    "x_ = conv_2t_1(x_)\n",
    "x_ = conv_2t_2(x_)\n",
    "decoded_ = conv_2t_3(x_) \n",
    "decoder_cur = Model(decoder_input, decoded_)"
   ]
  },
  {
   "cell_type": "code",
   "execution_count": 38,
   "metadata": {},
   "outputs": [
    {
     "name": "stdout",
     "output_type": "stream",
     "text": [
      "_________________________________________________________________\n",
      "Layer (type)                 Output Shape              Param #   \n",
      "=================================================================\n",
      "input_5 (InputLayer)         (None, 64, 64, 1)         0         \n",
      "_________________________________________________________________\n",
      "conv2d_7 (Conv2D)            (None, 32, 32, 4)         20        \n",
      "_________________________________________________________________\n",
      "conv2d_8 (Conv2D)            (None, 16, 16, 6)         102       \n",
      "_________________________________________________________________\n",
      "conv2d_9 (Conv2D)            (None, 8, 8, 8)           200       \n",
      "_________________________________________________________________\n",
      "flatten_3 (Flatten)          (None, 512)               0         \n",
      "_________________________________________________________________\n",
      "dense_5 (Dense)              (None, 128)               65664     \n",
      "_________________________________________________________________\n",
      "dense_6 (Dense)              (None, 512)               66048     \n",
      "_________________________________________________________________\n",
      "reshape_3 (Reshape)          (None, 8, 8, 8)           0         \n",
      "_________________________________________________________________\n",
      "conv2d_transpose_7 (Conv2DTr (None, 16, 16, 8)         264       \n",
      "_________________________________________________________________\n",
      "conv2d_transpose_8 (Conv2DTr (None, 32, 32, 6)         198       \n",
      "_________________________________________________________________\n",
      "conv2d_transpose_9 (Conv2DTr (None, 64, 64, 1)         25        \n",
      "=================================================================\n",
      "Total params: 132,521\n",
      "Trainable params: 132,521\n",
      "Non-trainable params: 0\n",
      "_________________________________________________________________\n"
     ]
    }
   ],
   "source": [
    "autoencoder_cur.summary()"
   ]
  },
  {
   "cell_type": "code",
   "execution_count": 39,
   "metadata": {
    "collapsed": true
   },
   "outputs": [],
   "source": [
    "autoencoder_cur.compile(optimizer='adam', loss='binary_crossentropy')"
   ]
  },
  {
   "cell_type": "code",
   "execution_count": 40,
   "metadata": {
    "scrolled": true
   },
   "outputs": [
    {
     "name": "stdout",
     "output_type": "stream",
     "text": [
      "Epoch 1/27\n",
      "40403/40403 [==============================] - 3s 70us/step - loss: 0.0602\n",
      "Epoch 2/27\n",
      "40403/40403 [==============================] - 2s 58us/step - loss: 0.0526\n",
      "Epoch 3/27\n",
      "40403/40403 [==============================] - 2s 58us/step - loss: 0.0510\n",
      "Epoch 4/27\n",
      "40403/40403 [==============================] - 2s 59us/step - loss: 0.0498\n",
      "Epoch 5/27\n",
      "40403/40403 [==============================] - 2s 58us/step - loss: 0.0495\n",
      "Epoch 6/27\n",
      "40403/40403 [==============================] - 2s 58us/step - loss: 0.0493\n",
      "Epoch 7/27\n",
      "40403/40403 [==============================] - 2s 58us/step - loss: 0.0492\n",
      "Epoch 8/27\n",
      "40403/40403 [==============================] - 2s 58us/step - loss: 0.0491\n",
      "Epoch 9/27\n",
      "40403/40403 [==============================] - 2s 58us/step - loss: 0.0491\n",
      "Epoch 10/27\n",
      "40403/40403 [==============================] - 2s 58us/step - loss: 0.0490\n",
      "Epoch 11/27\n",
      "40403/40403 [==============================] - 2s 58us/step - loss: 0.0490\n",
      "Epoch 12/27\n",
      "40403/40403 [==============================] - 2s 58us/step - loss: 0.0490\n",
      "Epoch 13/27\n",
      "40403/40403 [==============================] - 2s 58us/step - loss: 0.0490\n",
      "Epoch 14/27\n",
      "40403/40403 [==============================] - 2s 58us/step - loss: 0.0489\n",
      "Epoch 15/27\n",
      "40403/40403 [==============================] - 2s 58us/step - loss: 0.0489\n",
      "Epoch 16/27\n",
      "40403/40403 [==============================] - 2s 58us/step - loss: 0.0489\n",
      "Epoch 17/27\n",
      "40403/40403 [==============================] - 2s 58us/step - loss: 0.0488\n",
      "Epoch 18/27\n",
      "40403/40403 [==============================] - 2s 58us/step - loss: 0.0488\n",
      "Epoch 19/27\n",
      "40403/40403 [==============================] - 2s 58us/step - loss: 0.0488\n",
      "Epoch 20/27\n",
      "40403/40403 [==============================] - 2s 58us/step - loss: 0.0488\n",
      "Epoch 21/27\n",
      "40403/40403 [==============================] - 2s 59us/step - loss: 0.0487\n",
      "Epoch 22/27\n",
      "40403/40403 [==============================] - 2s 58us/step - loss: 0.0488\n",
      "Epoch 23/27\n",
      "40403/40403 [==============================] - 2s 58us/step - loss: 0.0487\n",
      "Epoch 24/27\n",
      "40403/40403 [==============================] - 2s 58us/step - loss: 0.0487\n",
      "Epoch 25/27\n",
      "40403/40403 [==============================] - 2s 58us/step - loss: 0.0487\n",
      "Epoch 26/27\n",
      "40403/40403 [==============================] - 2s 58us/step - loss: 0.0487\n",
      "Epoch 27/27\n",
      "40403/40403 [==============================] - 2s 58us/step - loss: 0.0487\n"
     ]
    },
    {
     "data": {
      "text/plain": [
       "<keras.callbacks.History at 0x7fa41ae8ccf8>"
      ]
     },
     "execution_count": 40,
     "metadata": {},
     "output_type": "execute_result"
    }
   ],
   "source": [
    "autoencoder_cur.fit(x = X_cur, y = X_cur, batch_size=256, epochs=27)"
   ]
  },
  {
   "cell_type": "code",
   "execution_count": 41,
   "metadata": {},
   "outputs": [
    {
     "data": {
      "text/plain": [
       "<matplotlib.image.AxesImage at 0x7fab6a33b940>"
      ]
     },
     "execution_count": 41,
     "metadata": {},
     "output_type": "execute_result"
    },
    {
     "data": {
      "image/png": "[encoded data removed]",
      "text/plain": [
       "<Figure size 432x288 with 1 Axes>"
      ]
     },
     "metadata": {},
     "output_type": "display_data"
    }
   ],
   "source": [
    "plt.imshow(np.squeeze(X_cur[10]))"
   ]
  },
  {
   "cell_type": "code",
   "execution_count": 42,
   "metadata": {
    "collapsed": true
   },
   "outputs": [],
   "source": [
    "test_dims = np.expand_dims(X_cur[10],axis=0)"
   ]
  },
  {
   "cell_type": "code",
   "execution_count": 43,
   "metadata": {},
   "outputs": [
    {
     "data": {
      "text/plain": [
       "(1, 64, 64, 1)"
      ]
     },
     "execution_count": 43,
     "metadata": {},
     "output_type": "execute_result"
    }
   ],
   "source": [
    "test_dims.shape"
   ]
  },
  {
   "cell_type": "code",
   "execution_count": 44,
   "metadata": {
    "collapsed": true
   },
   "outputs": [],
   "source": [
    "pred_cur = encoder_cur.predict(test_dims)"
   ]
  },
  {
   "cell_type": "code",
   "execution_count": 45,
   "metadata": {
    "collapsed": true
   },
   "outputs": [],
   "source": [
    "decoded_cur = decoder_cur.predict(pred_cur)"
   ]
  },
  {
   "cell_type": "code",
   "execution_count": 46,
   "metadata": {},
   "outputs": [
    {
     "data": {
      "text/plain": [
       "<matplotlib.image.AxesImage at 0x7fab5c101438>"
      ]
     },
     "execution_count": 46,
     "metadata": {},
     "output_type": "execute_result"
    },
    {
     "data": {
      "image/png": "[encoded data removed]",
      "text/plain": [
       "<Figure size 432x288 with 1 Axes>"
      ]
     },
     "metadata": {},
     "output_type": "display_data"
    }
   ],
   "source": [
    "plt.imshow(np.squeeze(decoded_cur))"
   ]
  },
  {
   "cell_type": "markdown",
   "metadata": {},
   "source": [
    "# Add new features to DF "
   ]
  },
  {
   "cell_type": "code",
   "execution_count": 67,
   "metadata": {
    "collapsed": true
   },
   "outputs": [],
   "source": [
    "df_train = pd.read_csv('sberbank_data/data_2019/train_extracted_final_v2.csv').drop('id',axis=1)"
   ]
  },
  {
   "cell_type": "code",
   "execution_count": 64,
   "metadata": {},
   "outputs": [
    {
     "data": {
      "text/plain": [
       "((40403, 10), (40403, 808))"
      ]
     },
     "execution_count": 64,
     "metadata": {},
     "output_type": "execute_result"
    }
   ],
   "source": [
    "reasons_df.shape, df_train.shape"
   ]
  },
  {
   "cell_type": "code",
   "execution_count": 68,
   "metadata": {
    "collapsed": true
   },
   "outputs": [],
   "source": [
    "df_train = pd.concat([df_train,reasons_df],axis=1)"
   ]
  },
  {
   "cell_type": "code",
   "execution_count": 71,
   "metadata": {
    "collapsed": true
   },
   "outputs": [],
   "source": [
    "cursor_data = encoder_cur.predict(X_cur)"
   ]
  },
  {
   "cell_type": "code",
   "execution_count": 80,
   "metadata": {
    "collapsed": true
   },
   "outputs": [],
   "source": [
    "pos_data = encoder.predict(new_position)"
   ]
  },
  {
   "cell_type": "code",
   "execution_count": 84,
   "metadata": {
    "collapsed": true
   },
   "outputs": [],
   "source": [
    "pos_columns = ['pos_'+str(i) for i in range(1,129)]\n",
    "cur_columns = ['cur'+str(i) for i in range(1,129)]"
   ]
  },
  {
   "cell_type": "code",
   "execution_count": 99,
   "metadata": {
    "collapsed": true
   },
   "outputs": [],
   "source": [
    "extra_data = np.concatenate([pos_data, cursor_data],axis=1)"
   ]
  },
  {
   "cell_type": "code",
   "execution_count": 101,
   "metadata": {
    "collapsed": true
   },
   "outputs": [],
   "source": [
    "extra_data_df = pd.DataFrame(data=extra_data, columns = pos_columns+cur_columns)"
   ]
  },
  {
   "cell_type": "code",
   "execution_count": 104,
   "metadata": {
    "collapsed": true
   },
   "outputs": [],
   "source": [
    "full_train = pd.concat([df_train, extra_data_df], axis=1)"
   ]
  }
 ],
 "metadata": {
  "kernelspec": {
   "display_name": "Python 3",
   "language": "python",
   "name": "python3"
  },
  "language_info": {
   "codemirror_mode": {
    "name": "ipython",
    "version": 3
   },
   "file_extension": ".py",
   "mimetype": "text/x-python",
   "name": "python",
   "nbconvert_exporter": "python",
   "pygments_lexer": "ipython3",
   "version": "3.6.3"
  }
 },
 "nbformat": 4,
 "nbformat_minor": 2
}
